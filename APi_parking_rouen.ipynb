{
 "cells": [
  {
   "cell_type": "code",
   "execution_count": 1,
   "metadata": {},
   "outputs": [],
   "source": [
    "import requests\n",
    "import json \n",
    "import plotly.express as px\n",
    "import streamlit as st\n",
    "import pandas as pd\n",
    "import numpy as np"
   ]
  },
  {
   "cell_type": "markdown",
   "metadata": {},
   "source": [
    "** Rouen Parking API**\n",
    "\n",
    "+ Using this API to get parking informaiton : https://data.strasbourg.eu/explore/dataset/parkings/table/\n",
    "+ Using this API to get real time information https://data.opendatasoft.com/explore/dataset/occupation-parkings-temps-reel%40eurometrostrasbourg/api/: "
   ]
  },
  {
   "cell_type": "markdown",
   "metadata": {},
   "source": []
  },
  {
   "cell_type": "code",
   "execution_count": 2,
   "metadata": {},
   "outputs": [
    {
     "data": {
      "text/plain": [
       "<Response [200]>"
      ]
     },
     "execution_count": 2,
     "metadata": {},
     "output_type": "execute_result"
    }
   ],
   "source": [
    "Parking_info = requests.get(\"https://data.strasbourg.eu/api/explore/v2.1/catalog/datasets/parkings/records?limit=100&timezone=europe%2FParis\") \n",
    "Parking_info"
   ]
  },
  {
   "cell_type": "code",
   "execution_count": 3,
   "metadata": {},
   "outputs": [
    {
     "data": {
      "text/html": [
       "<div>\n",
       "<style scoped>\n",
       "    .dataframe tbody tr th:only-of-type {\n",
       "        vertical-align: middle;\n",
       "    }\n",
       "\n",
       "    .dataframe tbody tr th {\n",
       "        vertical-align: top;\n",
       "    }\n",
       "\n",
       "    .dataframe thead th {\n",
       "        text-align: right;\n",
       "    }\n",
       "</style>\n",
       "<table border=\"1\" class=\"dataframe\">\n",
       "  <thead>\n",
       "    <tr style=\"text-align: right;\">\n",
       "      <th></th>\n",
       "      <th>city</th>\n",
       "      <th>friendlyurl</th>\n",
       "      <th>districtcode</th>\n",
       "      <th>description</th>\n",
       "      <th>address</th>\n",
       "      <th>types</th>\n",
       "      <th>name</th>\n",
       "      <th>idsurfs</th>\n",
       "      <th>zipcode</th>\n",
       "      <th>citycode</th>\n",
       "      <th>...</th>\n",
       "      <th>accessforelder</th>\n",
       "      <th>street</th>\n",
       "      <th>accessforwheelchair</th>\n",
       "      <th>accessfordeaf</th>\n",
       "      <th>normalizedalias</th>\n",
       "      <th>accessforblind</th>\n",
       "      <th>schedulelinkurl</th>\n",
       "      <th>hasurlschedule</th>\n",
       "      <th>position.lon</th>\n",
       "      <th>position.lat</th>\n",
       "    </tr>\n",
       "  </thead>\n",
       "  <tbody>\n",
       "    <tr>\n",
       "      <th>0</th>\n",
       "      <td>Strasbourg</td>\n",
       "      <td>https://www.strasbourg.eu/lieu/-/entity/id/452...</td>\n",
       "      <td>SQ_116</td>\n",
       "      <td>Afin de faciliter le stationnement de votre vé...</td>\n",
       "      <td>4 Rue Catherine Kany 67000 Strasbourg France</td>\n",
       "      <td>Cat_22_02</td>\n",
       "      <td>Parking Rhénapark</td>\n",
       "      <td>2471_DEP_64</td>\n",
       "      <td>67000</td>\n",
       "      <td>C_482</td>\n",
       "      <td>...</td>\n",
       "      <td>0</td>\n",
       "      <td>4 Rue Catherine Kany</td>\n",
       "      <td>1</td>\n",
       "      <td>0</td>\n",
       "      <td>parking-rhenapark</td>\n",
       "      <td>0</td>\n",
       "      <td>{}</td>\n",
       "      <td>0</td>\n",
       "      <td>7.792645</td>\n",
       "      <td>48.570974</td>\n",
       "    </tr>\n",
       "    <tr>\n",
       "      <th>1</th>\n",
       "      <td>Strasbourg</td>\n",
       "      <td>https://www.strasbourg.eu/lieu/-/entity/id/452...</td>\n",
       "      <td>SQ_112</td>\n",
       "      <td>Parking moyenne durée Reservation et location ...</td>\n",
       "      <td>4 rue Edmond Michelet 67000 Strasbourg France</td>\n",
       "      <td>Cat_22_02</td>\n",
       "      <td>Parking Danube Bleu</td>\n",
       "      <td>2472_DEP_65</td>\n",
       "      <td>67000</td>\n",
       "      <td>C_482</td>\n",
       "      <td>...</td>\n",
       "      <td>0</td>\n",
       "      <td>4 rue Edmond Michelet</td>\n",
       "      <td>1</td>\n",
       "      <td>0</td>\n",
       "      <td>parking-danube-bleu</td>\n",
       "      <td>0</td>\n",
       "      <td>{}</td>\n",
       "      <td>0</td>\n",
       "      <td>7.766533</td>\n",
       "      <td>48.572834</td>\n",
       "    </tr>\n",
       "  </tbody>\n",
       "</table>\n",
       "<p>2 rows × 22 columns</p>\n",
       "</div>"
      ],
      "text/plain": [
       "         city                                        friendlyurl districtcode  \\\n",
       "0  Strasbourg  https://www.strasbourg.eu/lieu/-/entity/id/452...       SQ_116   \n",
       "1  Strasbourg  https://www.strasbourg.eu/lieu/-/entity/id/452...       SQ_112   \n",
       "\n",
       "                                         description  \\\n",
       "0  Afin de faciliter le stationnement de votre vé...   \n",
       "1  Parking moyenne durée Reservation et location ...   \n",
       "\n",
       "                                         address      types  \\\n",
       "0   4 Rue Catherine Kany 67000 Strasbourg France  Cat_22_02   \n",
       "1  4 rue Edmond Michelet 67000 Strasbourg France  Cat_22_02   \n",
       "\n",
       "                  name      idsurfs zipcode citycode  ... accessforelder  \\\n",
       "0    Parking Rhénapark  2471_DEP_64   67000    C_482  ...              0   \n",
       "1  Parking Danube Bleu  2472_DEP_65   67000    C_482  ...              0   \n",
       "\n",
       "                  street  accessforwheelchair accessfordeaf  \\\n",
       "0   4 Rue Catherine Kany                    1             0   \n",
       "1  4 rue Edmond Michelet                    1             0   \n",
       "\n",
       "       normalizedalias  accessforblind schedulelinkurl  hasurlschedule  \\\n",
       "0    parking-rhenapark               0              {}               0   \n",
       "1  parking-danube-bleu               0              {}               0   \n",
       "\n",
       "  position.lon  position.lat  \n",
       "0     7.792645     48.570974  \n",
       "1     7.766533     48.572834  \n",
       "\n",
       "[2 rows x 22 columns]"
      ]
     },
     "execution_count": 3,
     "metadata": {},
     "output_type": "execute_result"
    }
   ],
   "source": [
    "Dump_parking_info = json.dumps(Parking_info.json())\n",
    "Loads_parking_info = json.loads(Dump_parking_info)  \n",
    "parking_info = pd.json_normalize(Loads_parking_info['results'])\n",
    "parking_info.head(2)"
   ]
  },
  {
   "cell_type": "markdown",
   "metadata": {},
   "source": [
    "**Real Time information**"
   ]
  },
  {
   "cell_type": "code",
   "execution_count": 4,
   "metadata": {},
   "outputs": [
    {
     "data": {
      "text/plain": [
       "<Response [200]>"
      ]
     },
     "execution_count": 4,
     "metadata": {},
     "output_type": "execute_result"
    }
   ],
   "source": [
    "Parking_reel_tine = requests.get(\"https://data.opendatasoft.com/api/explore/v2.1/catalog/datasets/occupation-parkings-temps-reel@eurometrostrasbourg/records?limit=100&timezone=europe%2FParis\") \n",
    "Parking_reel_tine"
   ]
  },
  {
   "cell_type": "code",
   "execution_count": 25,
   "metadata": {},
   "outputs": [
    {
     "data": {
      "text/html": [
       "<div>\n",
       "<style scoped>\n",
       "    .dataframe tbody tr th:only-of-type {\n",
       "        vertical-align: middle;\n",
       "    }\n",
       "\n",
       "    .dataframe tbody tr th {\n",
       "        vertical-align: top;\n",
       "    }\n",
       "\n",
       "    .dataframe thead th {\n",
       "        text-align: right;\n",
       "    }\n",
       "</style>\n",
       "<table border=\"1\" class=\"dataframe\">\n",
       "  <thead>\n",
       "    <tr style=\"text-align: right;\">\n",
       "      <th></th>\n",
       "      <th>nom_parking</th>\n",
       "      <th>idsurfs</th>\n",
       "      <th>ident</th>\n",
       "      <th>etat</th>\n",
       "      <th>etat_descriptif</th>\n",
       "      <th>total</th>\n",
       "      <th>libre</th>\n",
       "      <th>infousager</th>\n",
       "      <th>realtimestatus</th>\n",
       "      <th>infoappli</th>\n",
       "      <th>Occupee</th>\n",
       "      <th>percentage_occupe</th>\n",
       "    </tr>\n",
       "  </thead>\n",
       "  <tbody>\n",
       "    <tr>\n",
       "      <th>0</th>\n",
       "      <td>Parking Gare Wodli</td>\n",
       "      <td>1382_DEP_8</td>\n",
       "      <td>10</td>\n",
       "      <td>1</td>\n",
       "      <td>Ouvert</td>\n",
       "      <td>955</td>\n",
       "      <td>175</td>\n",
       "      <td>170</td>\n",
       "      <td>ORANGE</td>\n",
       "      <td>175</td>\n",
       "      <td>780</td>\n",
       "      <td>0.816754</td>\n",
       "    </tr>\n",
       "    <tr>\n",
       "      <th>1</th>\n",
       "      <td>Parking Zénith</td>\n",
       "      <td>1400_DEP_26</td>\n",
       "      <td>1</td>\n",
       "      <td>2</td>\n",
       "      <td>Fermé</td>\n",
       "      <td>3175</td>\n",
       "      <td>3148</td>\n",
       "      <td>0</td>\n",
       "      <td>BLACK</td>\n",
       "      <td>Fermé</td>\n",
       "      <td>27</td>\n",
       "      <td>0.008504</td>\n",
       "    </tr>\n",
       "    <tr>\n",
       "      <th>2</th>\n",
       "      <td>Parking Centre Opéra Broglie</td>\n",
       "      <td>1378_DEP_4</td>\n",
       "      <td>3</td>\n",
       "      <td>1</td>\n",
       "      <td>Ouvert</td>\n",
       "      <td>447</td>\n",
       "      <td>90</td>\n",
       "      <td>90</td>\n",
       "      <td>GREEN</td>\n",
       "      <td>90</td>\n",
       "      <td>357</td>\n",
       "      <td>0.798658</td>\n",
       "    </tr>\n",
       "  </tbody>\n",
       "</table>\n",
       "</div>"
      ],
      "text/plain": [
       "                    nom_parking      idsurfs  ident  etat etat_descriptif  \\\n",
       "0            Parking Gare Wodli   1382_DEP_8     10     1          Ouvert   \n",
       "1                Parking Zénith  1400_DEP_26      1     2           Fermé   \n",
       "2  Parking Centre Opéra Broglie   1378_DEP_4      3     1          Ouvert   \n",
       "\n",
       "   total  libre  infousager realtimestatus infoappli  Occupee  \\\n",
       "0    955    175         170         ORANGE       175      780   \n",
       "1   3175   3148           0          BLACK     Fermé       27   \n",
       "2    447     90          90          GREEN        90      357   \n",
       "\n",
       "   percentage_occupe  \n",
       "0           0.816754  \n",
       "1           0.008504  \n",
       "2           0.798658  "
      ]
     },
     "execution_count": 25,
     "metadata": {},
     "output_type": "execute_result"
    }
   ],
   "source": [
    "Dump_RT_parking = json.dumps(Parking_reel_tine.json())\n",
    "Loads_RT_parking = json.loads(Dump_RT_parking)  \n",
    "RT_parking = pd.json_normalize(Loads_RT_parking['results'])\n",
    "\n",
    "#Compute data\n",
    "RT_parking[\"Occupee\"] = RT_parking[\"total\"]  - RT_parking[\"libre\"] \n",
    "RT_parking[\"percentage_occupe\"] = RT_parking[\"Occupee\"]  / RT_parking[\"total\"]  \n",
    "\n",
    "RT_parking.head(3)"
   ]
  },
  {
   "cell_type": "code",
   "execution_count": 26,
   "metadata": {},
   "outputs": [],
   "source": [
    "#import package\n",
    "import plotly.io as pio\n",
    "\n",
    "#And the following will do the trick:\n",
    "pio.templates.default = \"plotly\""
   ]
  },
  {
   "cell_type": "code",
   "execution_count": 40,
   "metadata": {},
   "outputs": [
    {
     "name": "stderr",
     "output_type": "stream",
     "text": [
      "c:\\Users\\mccabedo\\AppData\\Local\\Programs\\Python\\Python311\\Lib\\site-packages\\plotly\\express\\_core.py:1979: FutureWarning:\n",
      "\n",
      "When grouping with a length-1 list-like, you will need to pass a length-1 tuple to get_group in a future version of pandas. Pass `(name,)` instead of `name` to silence this warning.\n",
      "\n"
     ]
    },
    {
     "data": {
      "application/vnd.plotly.v1+json": {
       "config": {
        "plotlyServerURL": "https://plot.ly"
       },
       "data": [
        {
         "alignmentgroup": "True",
         "hovertemplate": "realtimestatus=ORANGE<br>nom_parking=%{x}<br>Occupee=%{y}<extra></extra>",
         "legendgroup": "ORANGE",
         "marker": {
          "color": "#636efa",
          "pattern": {
           "shape": ""
          }
         },
         "name": "ORANGE",
         "offsetgroup": "ORANGE",
         "orientation": "v",
         "showlegend": true,
         "textposition": "auto",
         "type": "bar",
         "x": [
          "Parking Gare Wodli",
          "Parking Gutenberg",
          "Parking Rotonde",
          "Parking Gare courte durée"
         ],
         "xaxis": "x",
         "y": [
          780,
          191,
          366,
          124
         ],
         "yaxis": "y"
        },
        {
         "alignmentgroup": "True",
         "hovertemplate": "realtimestatus=BLACK<br>nom_parking=%{x}<br>Occupee=%{y}<extra></extra>",
         "legendgroup": "BLACK",
         "marker": {
          "color": "#EF553B",
          "pattern": {
           "shape": ""
          }
         },
         "name": "BLACK",
         "offsetgroup": "BLACK",
         "orientation": "v",
         "showlegend": true,
         "textposition": "auto",
         "type": "bar",
         "x": [
          "Parking Zénith"
         ],
         "xaxis": "x",
         "y": [
          27
         ],
         "yaxis": "y"
        },
        {
         "alignmentgroup": "True",
         "hovertemplate": "realtimestatus=GREEN<br>nom_parking=%{x}<br>Occupee=%{y}<extra></extra>",
         "legendgroup": "GREEN",
         "marker": {
          "color": "#00cc96",
          "pattern": {
           "shape": ""
          }
         },
         "name": "GREEN",
         "offsetgroup": "GREEN",
         "orientation": "v",
         "showlegend": true,
         "textposition": "auto",
         "type": "bar",
         "x": [
          "Parking Centre Opéra Broglie",
          "Parking Baggersee",
          "Parking Austerlitz",
          "Parking Kleber Homme de fer",
          "Parking Robertsau Boecklin",
          "Parking Rives de l'Aar",
          "Parking Saint Nicolas",
          "Parking Ducs d'Alsace",
          "Parking Elsau",
          "Parking Hoenheim gare",
          "Parking Poteries",
          "Parking Espace européen de l'entreprise",
          "Parking Rivetoile",
          "P1 Esplanade - Centre commercial",
          "Parking Hôpital Hautepierre",
          "Parking Coubertin",
          "Parking Parc des romains"
         ],
         "xaxis": "x",
         "y": [
          357,
          131,
          342,
          290,
          41,
          186,
          62,
          163,
          60,
          76,
          59,
          76,
          329,
          98,
          324,
          141,
          121
         ],
         "yaxis": "y"
        },
        {
         "alignmentgroup": "True",
         "hovertemplate": "realtimestatus=RED<br>nom_parking=%{x}<br>Occupee=%{y}<extra></extra>",
         "legendgroup": "RED",
         "marker": {
          "color": "#ab63fa",
          "pattern": {
           "shape": ""
          }
         },
         "name": "RED",
         "offsetgroup": "RED",
         "orientation": "v",
         "showlegend": true,
         "textposition": "auto",
         "type": "bar",
         "x": [
          "Parking Bateliers"
         ],
         "xaxis": "x",
         "y": [
          253
         ],
         "yaxis": "y"
        },
        {
         "alignmentgroup": "True",
         "hovertemplate": "realtimestatus=BLUE<br>nom_parking=%{x}<br>Occupee=%{y}<extra></extra>",
         "legendgroup": "BLUE",
         "marker": {
          "color": "#FFA15A",
          "pattern": {
           "shape": ""
          }
         },
         "name": "BLUE",
         "offsetgroup": "BLUE",
         "orientation": "v",
         "showlegend": true,
         "textposition": "auto",
         "type": "bar",
         "x": [
          "Parking Halles P1 Marais vert",
          "Parking P2 Sebastopol",
          "Parking Centre historique Petite France",
          "Parking Sainte Aurélie Gare",
          "Parking P3 Wilson"
         ],
         "xaxis": "x",
         "y": [
          534,
          494,
          939,
          557,
          970
         ],
         "yaxis": "y"
        }
       ],
       "layout": {
        "barmode": "relative",
        "legend": {
         "title": {
          "text": "realtimestatus"
         },
         "tracegroupgap": 0
        },
        "margin": {
         "t": 60
        },
        "template": {
         "data": {
          "bar": [
           {
            "error_x": {
             "color": "#2a3f5f"
            },
            "error_y": {
             "color": "#2a3f5f"
            },
            "marker": {
             "line": {
              "color": "#E5ECF6",
              "width": 0.5
             },
             "pattern": {
              "fillmode": "overlay",
              "size": 10,
              "solidity": 0.2
             }
            },
            "type": "bar"
           }
          ],
          "barpolar": [
           {
            "marker": {
             "line": {
              "color": "#E5ECF6",
              "width": 0.5
             },
             "pattern": {
              "fillmode": "overlay",
              "size": 10,
              "solidity": 0.2
             }
            },
            "type": "barpolar"
           }
          ],
          "carpet": [
           {
            "aaxis": {
             "endlinecolor": "#2a3f5f",
             "gridcolor": "white",
             "linecolor": "white",
             "minorgridcolor": "white",
             "startlinecolor": "#2a3f5f"
            },
            "baxis": {
             "endlinecolor": "#2a3f5f",
             "gridcolor": "white",
             "linecolor": "white",
             "minorgridcolor": "white",
             "startlinecolor": "#2a3f5f"
            },
            "type": "carpet"
           }
          ],
          "choropleth": [
           {
            "colorbar": {
             "outlinewidth": 0,
             "ticks": ""
            },
            "type": "choropleth"
           }
          ],
          "contour": [
           {
            "colorbar": {
             "outlinewidth": 0,
             "ticks": ""
            },
            "colorscale": [
             [
              0,
              "#0d0887"
             ],
             [
              0.1111111111111111,
              "#46039f"
             ],
             [
              0.2222222222222222,
              "#7201a8"
             ],
             [
              0.3333333333333333,
              "#9c179e"
             ],
             [
              0.4444444444444444,
              "#bd3786"
             ],
             [
              0.5555555555555556,
              "#d8576b"
             ],
             [
              0.6666666666666666,
              "#ed7953"
             ],
             [
              0.7777777777777778,
              "#fb9f3a"
             ],
             [
              0.8888888888888888,
              "#fdca26"
             ],
             [
              1,
              "#f0f921"
             ]
            ],
            "type": "contour"
           }
          ],
          "contourcarpet": [
           {
            "colorbar": {
             "outlinewidth": 0,
             "ticks": ""
            },
            "type": "contourcarpet"
           }
          ],
          "heatmap": [
           {
            "colorbar": {
             "outlinewidth": 0,
             "ticks": ""
            },
            "colorscale": [
             [
              0,
              "#0d0887"
             ],
             [
              0.1111111111111111,
              "#46039f"
             ],
             [
              0.2222222222222222,
              "#7201a8"
             ],
             [
              0.3333333333333333,
              "#9c179e"
             ],
             [
              0.4444444444444444,
              "#bd3786"
             ],
             [
              0.5555555555555556,
              "#d8576b"
             ],
             [
              0.6666666666666666,
              "#ed7953"
             ],
             [
              0.7777777777777778,
              "#fb9f3a"
             ],
             [
              0.8888888888888888,
              "#fdca26"
             ],
             [
              1,
              "#f0f921"
             ]
            ],
            "type": "heatmap"
           }
          ],
          "heatmapgl": [
           {
            "colorbar": {
             "outlinewidth": 0,
             "ticks": ""
            },
            "colorscale": [
             [
              0,
              "#0d0887"
             ],
             [
              0.1111111111111111,
              "#46039f"
             ],
             [
              0.2222222222222222,
              "#7201a8"
             ],
             [
              0.3333333333333333,
              "#9c179e"
             ],
             [
              0.4444444444444444,
              "#bd3786"
             ],
             [
              0.5555555555555556,
              "#d8576b"
             ],
             [
              0.6666666666666666,
              "#ed7953"
             ],
             [
              0.7777777777777778,
              "#fb9f3a"
             ],
             [
              0.8888888888888888,
              "#fdca26"
             ],
             [
              1,
              "#f0f921"
             ]
            ],
            "type": "heatmapgl"
           }
          ],
          "histogram": [
           {
            "marker": {
             "pattern": {
              "fillmode": "overlay",
              "size": 10,
              "solidity": 0.2
             }
            },
            "type": "histogram"
           }
          ],
          "histogram2d": [
           {
            "colorbar": {
             "outlinewidth": 0,
             "ticks": ""
            },
            "colorscale": [
             [
              0,
              "#0d0887"
             ],
             [
              0.1111111111111111,
              "#46039f"
             ],
             [
              0.2222222222222222,
              "#7201a8"
             ],
             [
              0.3333333333333333,
              "#9c179e"
             ],
             [
              0.4444444444444444,
              "#bd3786"
             ],
             [
              0.5555555555555556,
              "#d8576b"
             ],
             [
              0.6666666666666666,
              "#ed7953"
             ],
             [
              0.7777777777777778,
              "#fb9f3a"
             ],
             [
              0.8888888888888888,
              "#fdca26"
             ],
             [
              1,
              "#f0f921"
             ]
            ],
            "type": "histogram2d"
           }
          ],
          "histogram2dcontour": [
           {
            "colorbar": {
             "outlinewidth": 0,
             "ticks": ""
            },
            "colorscale": [
             [
              0,
              "#0d0887"
             ],
             [
              0.1111111111111111,
              "#46039f"
             ],
             [
              0.2222222222222222,
              "#7201a8"
             ],
             [
              0.3333333333333333,
              "#9c179e"
             ],
             [
              0.4444444444444444,
              "#bd3786"
             ],
             [
              0.5555555555555556,
              "#d8576b"
             ],
             [
              0.6666666666666666,
              "#ed7953"
             ],
             [
              0.7777777777777778,
              "#fb9f3a"
             ],
             [
              0.8888888888888888,
              "#fdca26"
             ],
             [
              1,
              "#f0f921"
             ]
            ],
            "type": "histogram2dcontour"
           }
          ],
          "mesh3d": [
           {
            "colorbar": {
             "outlinewidth": 0,
             "ticks": ""
            },
            "type": "mesh3d"
           }
          ],
          "parcoords": [
           {
            "line": {
             "colorbar": {
              "outlinewidth": 0,
              "ticks": ""
             }
            },
            "type": "parcoords"
           }
          ],
          "pie": [
           {
            "automargin": true,
            "type": "pie"
           }
          ],
          "scatter": [
           {
            "fillpattern": {
             "fillmode": "overlay",
             "size": 10,
             "solidity": 0.2
            },
            "type": "scatter"
           }
          ],
          "scatter3d": [
           {
            "line": {
             "colorbar": {
              "outlinewidth": 0,
              "ticks": ""
             }
            },
            "marker": {
             "colorbar": {
              "outlinewidth": 0,
              "ticks": ""
             }
            },
            "type": "scatter3d"
           }
          ],
          "scattercarpet": [
           {
            "marker": {
             "colorbar": {
              "outlinewidth": 0,
              "ticks": ""
             }
            },
            "type": "scattercarpet"
           }
          ],
          "scattergeo": [
           {
            "marker": {
             "colorbar": {
              "outlinewidth": 0,
              "ticks": ""
             }
            },
            "type": "scattergeo"
           }
          ],
          "scattergl": [
           {
            "marker": {
             "colorbar": {
              "outlinewidth": 0,
              "ticks": ""
             }
            },
            "type": "scattergl"
           }
          ],
          "scattermapbox": [
           {
            "marker": {
             "colorbar": {
              "outlinewidth": 0,
              "ticks": ""
             }
            },
            "type": "scattermapbox"
           }
          ],
          "scatterpolar": [
           {
            "marker": {
             "colorbar": {
              "outlinewidth": 0,
              "ticks": ""
             }
            },
            "type": "scatterpolar"
           }
          ],
          "scatterpolargl": [
           {
            "marker": {
             "colorbar": {
              "outlinewidth": 0,
              "ticks": ""
             }
            },
            "type": "scatterpolargl"
           }
          ],
          "scatterternary": [
           {
            "marker": {
             "colorbar": {
              "outlinewidth": 0,
              "ticks": ""
             }
            },
            "type": "scatterternary"
           }
          ],
          "surface": [
           {
            "colorbar": {
             "outlinewidth": 0,
             "ticks": ""
            },
            "colorscale": [
             [
              0,
              "#0d0887"
             ],
             [
              0.1111111111111111,
              "#46039f"
             ],
             [
              0.2222222222222222,
              "#7201a8"
             ],
             [
              0.3333333333333333,
              "#9c179e"
             ],
             [
              0.4444444444444444,
              "#bd3786"
             ],
             [
              0.5555555555555556,
              "#d8576b"
             ],
             [
              0.6666666666666666,
              "#ed7953"
             ],
             [
              0.7777777777777778,
              "#fb9f3a"
             ],
             [
              0.8888888888888888,
              "#fdca26"
             ],
             [
              1,
              "#f0f921"
             ]
            ],
            "type": "surface"
           }
          ],
          "table": [
           {
            "cells": {
             "fill": {
              "color": "#EBF0F8"
             },
             "line": {
              "color": "white"
             }
            },
            "header": {
             "fill": {
              "color": "#C8D4E3"
             },
             "line": {
              "color": "white"
             }
            },
            "type": "table"
           }
          ]
         },
         "layout": {
          "annotationdefaults": {
           "arrowcolor": "#2a3f5f",
           "arrowhead": 0,
           "arrowwidth": 1
          },
          "autotypenumbers": "strict",
          "coloraxis": {
           "colorbar": {
            "outlinewidth": 0,
            "ticks": ""
           }
          },
          "colorscale": {
           "diverging": [
            [
             0,
             "#8e0152"
            ],
            [
             0.1,
             "#c51b7d"
            ],
            [
             0.2,
             "#de77ae"
            ],
            [
             0.3,
             "#f1b6da"
            ],
            [
             0.4,
             "#fde0ef"
            ],
            [
             0.5,
             "#f7f7f7"
            ],
            [
             0.6,
             "#e6f5d0"
            ],
            [
             0.7,
             "#b8e186"
            ],
            [
             0.8,
             "#7fbc41"
            ],
            [
             0.9,
             "#4d9221"
            ],
            [
             1,
             "#276419"
            ]
           ],
           "sequential": [
            [
             0,
             "#0d0887"
            ],
            [
             0.1111111111111111,
             "#46039f"
            ],
            [
             0.2222222222222222,
             "#7201a8"
            ],
            [
             0.3333333333333333,
             "#9c179e"
            ],
            [
             0.4444444444444444,
             "#bd3786"
            ],
            [
             0.5555555555555556,
             "#d8576b"
            ],
            [
             0.6666666666666666,
             "#ed7953"
            ],
            [
             0.7777777777777778,
             "#fb9f3a"
            ],
            [
             0.8888888888888888,
             "#fdca26"
            ],
            [
             1,
             "#f0f921"
            ]
           ],
           "sequentialminus": [
            [
             0,
             "#0d0887"
            ],
            [
             0.1111111111111111,
             "#46039f"
            ],
            [
             0.2222222222222222,
             "#7201a8"
            ],
            [
             0.3333333333333333,
             "#9c179e"
            ],
            [
             0.4444444444444444,
             "#bd3786"
            ],
            [
             0.5555555555555556,
             "#d8576b"
            ],
            [
             0.6666666666666666,
             "#ed7953"
            ],
            [
             0.7777777777777778,
             "#fb9f3a"
            ],
            [
             0.8888888888888888,
             "#fdca26"
            ],
            [
             1,
             "#f0f921"
            ]
           ]
          },
          "colorway": [
           "#636efa",
           "#EF553B",
           "#00cc96",
           "#ab63fa",
           "#FFA15A",
           "#19d3f3",
           "#FF6692",
           "#B6E880",
           "#FF97FF",
           "#FECB52"
          ],
          "font": {
           "color": "#2a3f5f"
          },
          "geo": {
           "bgcolor": "white",
           "lakecolor": "white",
           "landcolor": "#E5ECF6",
           "showlakes": true,
           "showland": true,
           "subunitcolor": "white"
          },
          "hoverlabel": {
           "align": "left"
          },
          "hovermode": "closest",
          "mapbox": {
           "style": "light"
          },
          "paper_bgcolor": "white",
          "plot_bgcolor": "#E5ECF6",
          "polar": {
           "angularaxis": {
            "gridcolor": "white",
            "linecolor": "white",
            "ticks": ""
           },
           "bgcolor": "#E5ECF6",
           "radialaxis": {
            "gridcolor": "white",
            "linecolor": "white",
            "ticks": ""
           }
          },
          "scene": {
           "xaxis": {
            "backgroundcolor": "#E5ECF6",
            "gridcolor": "white",
            "gridwidth": 2,
            "linecolor": "white",
            "showbackground": true,
            "ticks": "",
            "zerolinecolor": "white"
           },
           "yaxis": {
            "backgroundcolor": "#E5ECF6",
            "gridcolor": "white",
            "gridwidth": 2,
            "linecolor": "white",
            "showbackground": true,
            "ticks": "",
            "zerolinecolor": "white"
           },
           "zaxis": {
            "backgroundcolor": "#E5ECF6",
            "gridcolor": "white",
            "gridwidth": 2,
            "linecolor": "white",
            "showbackground": true,
            "ticks": "",
            "zerolinecolor": "white"
           }
          },
          "shapedefaults": {
           "line": {
            "color": "#2a3f5f"
           }
          },
          "ternary": {
           "aaxis": {
            "gridcolor": "white",
            "linecolor": "white",
            "ticks": ""
           },
           "baxis": {
            "gridcolor": "white",
            "linecolor": "white",
            "ticks": ""
           },
           "bgcolor": "#E5ECF6",
           "caxis": {
            "gridcolor": "white",
            "linecolor": "white",
            "ticks": ""
           }
          },
          "title": {
           "x": 0.05
          },
          "xaxis": {
           "automargin": true,
           "gridcolor": "white",
           "linecolor": "white",
           "ticks": "",
           "title": {
            "standoff": 15
           },
           "zerolinecolor": "white",
           "zerolinewidth": 2
          },
          "yaxis": {
           "automargin": true,
           "gridcolor": "white",
           "linecolor": "white",
           "ticks": "",
           "title": {
            "standoff": 15
           },
           "zerolinecolor": "white",
           "zerolinewidth": 2
          }
         }
        },
        "xaxis": {
         "anchor": "y",
         "categoryorder": "total descending",
         "domain": [
          0,
          1
         ],
         "title": {
          "text": "nom_parking"
         }
        },
        "yaxis": {
         "anchor": "x",
         "domain": [
          0,
          1
         ],
         "title": {
          "text": "Occupee"
         }
        }
       }
      }
     },
     "metadata": {},
     "output_type": "display_data"
    }
   ],
   "source": [
    "fig = px.bar(RT_parking, x='nom_parking', y='Occupee',color=\"realtimestatus\")\n",
    "fig.update_layout(xaxis={'categoryorder':'total descending'}) \n",
    "fig.show()\n"
   ]
  },
  {
   "cell_type": "code",
   "execution_count": 14,
   "metadata": {},
   "outputs": [],
   "source": []
  },
  {
   "cell_type": "code",
   "execution_count": null,
   "metadata": {},
   "outputs": [],
   "source": []
  }
 ],
 "metadata": {
  "kernelspec": {
   "display_name": "Python 3",
   "language": "python",
   "name": "python3"
  },
  "language_info": {
   "codemirror_mode": {
    "name": "ipython",
    "version": 3
   },
   "file_extension": ".py",
   "mimetype": "text/x-python",
   "name": "python",
   "nbconvert_exporter": "python",
   "pygments_lexer": "ipython3",
   "version": "3.11.2"
  }
 },
 "nbformat": 4,
 "nbformat_minor": 2
}
