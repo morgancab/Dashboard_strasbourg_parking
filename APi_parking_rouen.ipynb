{
 "cells": [
  {
   "cell_type": "code",
   "execution_count": 1,
   "metadata": {},
   "outputs": [],
   "source": [
    "import requests\n",
    "import json \n",
    "import plotly.express as px\n",
    "import pandas as pd\n",
    "import numpy as np"
   ]
  },
  {
   "cell_type": "markdown",
   "metadata": {},
   "source": [
    "** Rouen Parking API**\n",
    "\n",
    "+ Using this API to get parking informaiton : https://data.strasbourg.eu/explore/dataset/parkings/table/\n",
    "+ Using this API to get real time information https://data.opendatasoft.com/explore/dataset/occupation-parkings-temps-reel%40eurometrostrasbourg/api/: "
   ]
  },
  {
   "cell_type": "markdown",
   "metadata": {},
   "source": []
  },
  {
   "cell_type": "code",
   "execution_count": 2,
   "metadata": {},
   "outputs": [
    {
     "data": {
      "text/plain": [
       "<Response [200]>"
      ]
     },
     "execution_count": 2,
     "metadata": {},
     "output_type": "execute_result"
    }
   ],
   "source": [
    "Parking_info = requests.get(\"https://data.strasbourg.eu/api/explore/v2.1/catalog/datasets/parkings/records?limit=100&timezone=europe%2FParis\") \n",
    "Parking_info"
   ]
  },
  {
   "cell_type": "code",
   "execution_count": 3,
   "metadata": {},
   "outputs": [
    {
     "data": {
      "text/html": [
       "<div>\n",
       "<style scoped>\n",
       "    .dataframe tbody tr th:only-of-type {\n",
       "        vertical-align: middle;\n",
       "    }\n",
       "\n",
       "    .dataframe tbody tr th {\n",
       "        vertical-align: top;\n",
       "    }\n",
       "\n",
       "    .dataframe thead th {\n",
       "        text-align: right;\n",
       "    }\n",
       "</style>\n",
       "<table border=\"1\" class=\"dataframe\">\n",
       "  <thead>\n",
       "    <tr style=\"text-align: right;\">\n",
       "      <th></th>\n",
       "      <th>city</th>\n",
       "      <th>friendlyurl</th>\n",
       "      <th>districtcode</th>\n",
       "      <th>description</th>\n",
       "      <th>address</th>\n",
       "      <th>types</th>\n",
       "      <th>name</th>\n",
       "      <th>idsurfs</th>\n",
       "      <th>zipcode</th>\n",
       "      <th>citycode</th>\n",
       "      <th>...</th>\n",
       "      <th>street</th>\n",
       "      <th>accessforwheelchair</th>\n",
       "      <th>accessfordeaf</th>\n",
       "      <th>normalizedalias</th>\n",
       "      <th>exceptions</th>\n",
       "      <th>accessforblind</th>\n",
       "      <th>schedulelinkurl</th>\n",
       "      <th>hasurlschedule</th>\n",
       "      <th>position.lon</th>\n",
       "      <th>position.lat</th>\n",
       "    </tr>\n",
       "  </thead>\n",
       "  <tbody>\n",
       "    <tr>\n",
       "      <th>0</th>\n",
       "      <td>Strasbourg</td>\n",
       "      <td>https://www.strasbourg.eu/lieu/-/entity/id/452...</td>\n",
       "      <td>SQ_116</td>\n",
       "      <td>Afin de faciliter le stationnement de votre vé...</td>\n",
       "      <td>4 Rue Catherine Kany 67000 Strasbourg France</td>\n",
       "      <td>Cat_22_02</td>\n",
       "      <td>Parking Rhénapark</td>\n",
       "      <td>2471_DEP_64</td>\n",
       "      <td>67000</td>\n",
       "      <td>C_482</td>\n",
       "      <td>...</td>\n",
       "      <td>4 Rue Catherine Kany</td>\n",
       "      <td>1</td>\n",
       "      <td>0</td>\n",
       "      <td>parking-rhenapark</td>\n",
       "      <td>None</td>\n",
       "      <td>0</td>\n",
       "      <td>{}</td>\n",
       "      <td>0</td>\n",
       "      <td>7.792645</td>\n",
       "      <td>48.570974</td>\n",
       "    </tr>\n",
       "    <tr>\n",
       "      <th>1</th>\n",
       "      <td>Strasbourg</td>\n",
       "      <td>https://www.strasbourg.eu/lieu/-/entity/id/687...</td>\n",
       "      <td>SQ_107</td>\n",
       "      <td>Parking courte durée  Le parking Opéra Broglie...</td>\n",
       "      <td>Impasse de Bischeim 67000 Strasbourg France</td>\n",
       "      <td>Cat_22_01</td>\n",
       "      <td>Parking Centre Opéra Broglie</td>\n",
       "      <td>1378_DEP_4</td>\n",
       "      <td>67000</td>\n",
       "      <td>C_482</td>\n",
       "      <td>...</td>\n",
       "      <td>Impasse de Bischeim</td>\n",
       "      <td>1</td>\n",
       "      <td>0</td>\n",
       "      <td>parking-centre-opera-broglie</td>\n",
       "      <td>None</td>\n",
       "      <td>0</td>\n",
       "      <td>{}</td>\n",
       "      <td>0</td>\n",
       "      <td>7.749275</td>\n",
       "      <td>48.585689</td>\n",
       "    </tr>\n",
       "  </tbody>\n",
       "</table>\n",
       "<p>2 rows × 23 columns</p>\n",
       "</div>"
      ],
      "text/plain": [
       "         city                                        friendlyurl districtcode  \\\n",
       "0  Strasbourg  https://www.strasbourg.eu/lieu/-/entity/id/452...       SQ_116   \n",
       "1  Strasbourg  https://www.strasbourg.eu/lieu/-/entity/id/687...       SQ_107   \n",
       "\n",
       "                                         description  \\\n",
       "0  Afin de faciliter le stationnement de votre vé...   \n",
       "1  Parking courte durée  Le parking Opéra Broglie...   \n",
       "\n",
       "                                        address      types  \\\n",
       "0  4 Rue Catherine Kany 67000 Strasbourg France  Cat_22_02   \n",
       "1   Impasse de Bischeim 67000 Strasbourg France  Cat_22_01   \n",
       "\n",
       "                           name      idsurfs zipcode citycode  ...  \\\n",
       "0             Parking Rhénapark  2471_DEP_64   67000    C_482  ...   \n",
       "1  Parking Centre Opéra Broglie   1378_DEP_4   67000    C_482  ...   \n",
       "\n",
       "                 street  accessforwheelchair  accessfordeaf  \\\n",
       "0  4 Rue Catherine Kany                    1              0   \n",
       "1   Impasse de Bischeim                    1              0   \n",
       "\n",
       "                normalizedalias  exceptions  accessforblind schedulelinkurl  \\\n",
       "0             parking-rhenapark        None               0              {}   \n",
       "1  parking-centre-opera-broglie        None               0              {}   \n",
       "\n",
       "  hasurlschedule  position.lon position.lat  \n",
       "0              0      7.792645    48.570974  \n",
       "1              0      7.749275    48.585689  \n",
       "\n",
       "[2 rows x 23 columns]"
      ]
     },
     "execution_count": 3,
     "metadata": {},
     "output_type": "execute_result"
    }
   ],
   "source": [
    "Dump_parking_info = json.dumps(Parking_info.json())\n",
    "Loads_parking_info = json.loads(Dump_parking_info)  \n",
    "parking_info = pd.json_normalize(Loads_parking_info['results'])\n",
    "parking_info.head(2)"
   ]
  },
  {
   "cell_type": "markdown",
   "metadata": {},
   "source": [
    "**Real Time information**"
   ]
  },
  {
   "cell_type": "code",
   "execution_count": 4,
   "metadata": {},
   "outputs": [
    {
     "name": "stdout",
     "output_type": "stream",
     "text": [
      "2024-11-27 17:26:38\n"
     ]
    }
   ],
   "source": [
    "\n",
    "\n",
    "from datetime import datetime \n",
    "import pytz \n",
    "UTC = pytz.utc\n",
    "time_At_P = pytz.timezone('Europe/Paris') \n",
    "dt_time_P = datetime.now(time_At_P) \n",
    "print(dt_time_P.strftime(\"%Y-%m-%d %H:%M:%S\"))"
   ]
  },
  {
   "cell_type": "code",
   "execution_count": 5,
   "metadata": {},
   "outputs": [
    {
     "data": {
      "text/plain": [
       "<Response [200]>"
      ]
     },
     "execution_count": 5,
     "metadata": {},
     "output_type": "execute_result"
    }
   ],
   "source": [
    "Parking_reel_tine = requests.get(\"https://data.opendatasoft.com/api/explore/v2.1/catalog/datasets/occupation-parkings-temps-reel@eurometrostrasbourg/records?limit=100&timezone=europe%2FParis\") \n",
    "Parking_reel_tine"
   ]
  },
  {
   "cell_type": "code",
   "execution_count": 6,
   "metadata": {},
   "outputs": [
    {
     "data": {
      "text/html": [
       "<div>\n",
       "<style scoped>\n",
       "    .dataframe tbody tr th:only-of-type {\n",
       "        vertical-align: middle;\n",
       "    }\n",
       "\n",
       "    .dataframe tbody tr th {\n",
       "        vertical-align: top;\n",
       "    }\n",
       "\n",
       "    .dataframe thead th {\n",
       "        text-align: right;\n",
       "    }\n",
       "</style>\n",
       "<table border=\"1\" class=\"dataframe\">\n",
       "  <thead>\n",
       "    <tr style=\"text-align: right;\">\n",
       "      <th></th>\n",
       "      <th>nom_parking</th>\n",
       "      <th>idsurfs</th>\n",
       "      <th>ident</th>\n",
       "      <th>etat</th>\n",
       "      <th>etat_descriptif</th>\n",
       "      <th>total</th>\n",
       "      <th>libre</th>\n",
       "      <th>infousager</th>\n",
       "      <th>realtimestatus</th>\n",
       "      <th>infoappli</th>\n",
       "      <th>taux_occup</th>\n",
       "      <th>couleur_occup</th>\n",
       "      <th>position.lon</th>\n",
       "      <th>position.lat</th>\n",
       "      <th>position</th>\n",
       "      <th>Occupee</th>\n",
       "      <th>percentage_occupe</th>\n",
       "    </tr>\n",
       "  </thead>\n",
       "  <tbody>\n",
       "    <tr>\n",
       "      <th>0</th>\n",
       "      <td>Parking Gare Wodli</td>\n",
       "      <td>1382_DEP_8</td>\n",
       "      <td>10</td>\n",
       "      <td>1</td>\n",
       "      <td>Ouvert</td>\n",
       "      <td>955</td>\n",
       "      <td>5</td>\n",
       "      <td>COMPLET</td>\n",
       "      <td>RED</td>\n",
       "      <td>5</td>\n",
       "      <td>0.994764</td>\n",
       "      <td>noir</td>\n",
       "      <td>7.736771</td>\n",
       "      <td>48.587385</td>\n",
       "      <td>NaN</td>\n",
       "      <td>950</td>\n",
       "      <td>0.994764</td>\n",
       "    </tr>\n",
       "    <tr>\n",
       "      <th>1</th>\n",
       "      <td>Parking Zénith</td>\n",
       "      <td>1400_DEP_26</td>\n",
       "      <td>1</td>\n",
       "      <td>2</td>\n",
       "      <td>Fermé</td>\n",
       "      <td>3175</td>\n",
       "      <td>3175</td>\n",
       "      <td>0</td>\n",
       "      <td>BLACK</td>\n",
       "      <td>Fermé</td>\n",
       "      <td>0.000000</td>\n",
       "      <td>vert</td>\n",
       "      <td>7.686467</td>\n",
       "      <td>48.595335</td>\n",
       "      <td>NaN</td>\n",
       "      <td>0</td>\n",
       "      <td>0.000000</td>\n",
       "    </tr>\n",
       "    <tr>\n",
       "      <th>2</th>\n",
       "      <td>Parking Centre Opéra Broglie</td>\n",
       "      <td>1378_DEP_4</td>\n",
       "      <td>3</td>\n",
       "      <td>2</td>\n",
       "      <td>Fermé</td>\n",
       "      <td>447</td>\n",
       "      <td>200</td>\n",
       "      <td>0</td>\n",
       "      <td>BLACK</td>\n",
       "      <td>Fermé</td>\n",
       "      <td>0.552573</td>\n",
       "      <td>vert</td>\n",
       "      <td>7.749275</td>\n",
       "      <td>48.585689</td>\n",
       "      <td>NaN</td>\n",
       "      <td>247</td>\n",
       "      <td>0.552573</td>\n",
       "    </tr>\n",
       "  </tbody>\n",
       "</table>\n",
       "</div>"
      ],
      "text/plain": [
       "                    nom_parking      idsurfs  ident  etat etat_descriptif  \\\n",
       "0            Parking Gare Wodli   1382_DEP_8     10     1          Ouvert   \n",
       "1                Parking Zénith  1400_DEP_26      1     2           Fermé   \n",
       "2  Parking Centre Opéra Broglie   1378_DEP_4      3     2           Fermé   \n",
       "\n",
       "   total  libre infousager realtimestatus infoappli  taux_occup couleur_occup  \\\n",
       "0    955      5    COMPLET            RED         5    0.994764          noir   \n",
       "1   3175   3175          0          BLACK     Fermé    0.000000          vert   \n",
       "2    447    200          0          BLACK     Fermé    0.552573          vert   \n",
       "\n",
       "   position.lon  position.lat  position  Occupee  percentage_occupe  \n",
       "0      7.736771     48.587385       NaN      950           0.994764  \n",
       "1      7.686467     48.595335       NaN        0           0.000000  \n",
       "2      7.749275     48.585689       NaN      247           0.552573  "
      ]
     },
     "execution_count": 6,
     "metadata": {},
     "output_type": "execute_result"
    }
   ],
   "source": [
    "Dump_RT_parking = json.dumps(Parking_reel_tine.json())\n",
    "Loads_RT_parking = json.loads(Dump_RT_parking)  \n",
    "RT_parking = pd.json_normalize(Loads_RT_parking['results'])\n",
    "\n",
    "#Compute data\n",
    "RT_parking[\"Occupee\"] = RT_parking[\"total\"]  - RT_parking[\"libre\"] \n",
    "RT_parking[\"percentage_occupe\"] = RT_parking[\"Occupee\"]  / RT_parking[\"total\"]  \n",
    "\n",
    "RT_parking.head(3)"
   ]
  },
  {
   "cell_type": "code",
   "execution_count": 7,
   "metadata": {},
   "outputs": [],
   "source": [
    "parking_info = parking_info[[\"name\" , \"position.lon\",\t\"position.lat\"]]\n",
    "RT_parking = RT_parking.merge(parking_info, how='inner' , left_on='nom_parking' , right_on = 'name')"
   ]
  },
  {
   "cell_type": "code",
   "execution_count": 8,
   "metadata": {},
   "outputs": [],
   "source": [
    "RT_parking\n",
    "#RT_parking.loc[RT_parking['etat_descriptif'] == \"Ouvert\"]\n",
    "RT_parking_ouvert = RT_parking.loc[RT_parking['etat_descriptif'] == \"Ouvert\"]\n",
    "RT_parking_ferme = RT_parking.loc[RT_parking['etat_descriptif'] == \"Fermé\"]\n",
    "RT_parking_not_available = RT_parking.loc[RT_parking['etat_descriptif'] == \"frequentation temps reel indisponible\"]"
   ]
  },
  {
   "cell_type": "markdown",
   "metadata": {},
   "source": [
    "# Top 3 sites with bigger fullness"
   ]
  },
  {
   "cell_type": "code",
   "execution_count": 9,
   "metadata": {},
   "outputs": [
    {
     "data": {
      "text/html": [
       "<div>\n",
       "<style scoped>\n",
       "    .dataframe tbody tr th:only-of-type {\n",
       "        vertical-align: middle;\n",
       "    }\n",
       "\n",
       "    .dataframe tbody tr th {\n",
       "        vertical-align: top;\n",
       "    }\n",
       "\n",
       "    .dataframe thead th {\n",
       "        text-align: right;\n",
       "    }\n",
       "</style>\n",
       "<table border=\"1\" class=\"dataframe\">\n",
       "  <thead>\n",
       "    <tr style=\"text-align: right;\">\n",
       "      <th></th>\n",
       "      <th>nom_parking</th>\n",
       "      <th>idsurfs</th>\n",
       "      <th>ident</th>\n",
       "      <th>etat</th>\n",
       "      <th>etat_descriptif</th>\n",
       "      <th>total</th>\n",
       "      <th>libre</th>\n",
       "      <th>infousager</th>\n",
       "      <th>realtimestatus</th>\n",
       "      <th>infoappli</th>\n",
       "      <th>taux_occup</th>\n",
       "      <th>couleur_occup</th>\n",
       "      <th>position.lon_x</th>\n",
       "      <th>position.lat_x</th>\n",
       "      <th>position</th>\n",
       "      <th>Occupee</th>\n",
       "      <th>percentage_occupe</th>\n",
       "      <th>name</th>\n",
       "      <th>position.lon_y</th>\n",
       "      <th>position.lat_y</th>\n",
       "    </tr>\n",
       "  </thead>\n",
       "  <tbody>\n",
       "    <tr>\n",
       "      <th>0</th>\n",
       "      <td>Parking Gare Wodli</td>\n",
       "      <td>1382_DEP_8</td>\n",
       "      <td>10</td>\n",
       "      <td>1</td>\n",
       "      <td>Ouvert</td>\n",
       "      <td>955</td>\n",
       "      <td>5</td>\n",
       "      <td>COMPLET</td>\n",
       "      <td>RED</td>\n",
       "      <td>5</td>\n",
       "      <td>0.994764</td>\n",
       "      <td>noir</td>\n",
       "      <td>7.736771</td>\n",
       "      <td>48.587385</td>\n",
       "      <td>NaN</td>\n",
       "      <td>950</td>\n",
       "      <td>0.994764</td>\n",
       "      <td>Parking Gare Wodli</td>\n",
       "      <td>7.736771</td>\n",
       "      <td>48.587385</td>\n",
       "    </tr>\n",
       "    <tr>\n",
       "      <th>5</th>\n",
       "      <td>Parking Austerlitz</td>\n",
       "      <td>1375_DEP_1</td>\n",
       "      <td>21</td>\n",
       "      <td>1</td>\n",
       "      <td>Ouvert</td>\n",
       "      <td>482</td>\n",
       "      <td>25</td>\n",
       "      <td>20</td>\n",
       "      <td>RED</td>\n",
       "      <td>25</td>\n",
       "      <td>0.948133</td>\n",
       "      <td>rouge</td>\n",
       "      <td>7.751796</td>\n",
       "      <td>48.577964</td>\n",
       "      <td>NaN</td>\n",
       "      <td>457</td>\n",
       "      <td>0.948133</td>\n",
       "      <td>Parking Austerlitz</td>\n",
       "      <td>7.751796</td>\n",
       "      <td>48.577964</td>\n",
       "    </tr>\n",
       "    <tr>\n",
       "      <th>16</th>\n",
       "      <td>Parking Rotonde</td>\n",
       "      <td>1394_DEP_20</td>\n",
       "      <td>7</td>\n",
       "      <td>1</td>\n",
       "      <td>Ouvert</td>\n",
       "      <td>450</td>\n",
       "      <td>27</td>\n",
       "      <td>20</td>\n",
       "      <td>RED</td>\n",
       "      <td>27</td>\n",
       "      <td>0.940000</td>\n",
       "      <td>rouge</td>\n",
       "      <td>7.726101</td>\n",
       "      <td>48.591226</td>\n",
       "      <td>NaN</td>\n",
       "      <td>423</td>\n",
       "      <td>0.940000</td>\n",
       "      <td>Parking Rotonde</td>\n",
       "      <td>7.726101</td>\n",
       "      <td>48.591226</td>\n",
       "    </tr>\n",
       "  </tbody>\n",
       "</table>\n",
       "</div>"
      ],
      "text/plain": [
       "           nom_parking      idsurfs  ident  etat etat_descriptif  total  \\\n",
       "0   Parking Gare Wodli   1382_DEP_8     10     1          Ouvert    955   \n",
       "5   Parking Austerlitz   1375_DEP_1     21     1          Ouvert    482   \n",
       "16     Parking Rotonde  1394_DEP_20      7     1          Ouvert    450   \n",
       "\n",
       "    libre infousager realtimestatus infoappli  taux_occup couleur_occup  \\\n",
       "0       5    COMPLET            RED         5    0.994764          noir   \n",
       "5      25         20            RED        25    0.948133         rouge   \n",
       "16     27         20            RED        27    0.940000         rouge   \n",
       "\n",
       "    position.lon_x  position.lat_x  position  Occupee  percentage_occupe  \\\n",
       "0         7.736771       48.587385       NaN      950           0.994764   \n",
       "5         7.751796       48.577964       NaN      457           0.948133   \n",
       "16        7.726101       48.591226       NaN      423           0.940000   \n",
       "\n",
       "                  name  position.lon_y  position.lat_y  \n",
       "0   Parking Gare Wodli        7.736771       48.587385  \n",
       "5   Parking Austerlitz        7.751796       48.577964  \n",
       "16     Parking Rotonde        7.726101       48.591226  "
      ]
     },
     "execution_count": 9,
     "metadata": {},
     "output_type": "execute_result"
    }
   ],
   "source": [
    "RT_parking_ouvert.sort_values(by='percentage_occupe', ascending=False).head(3)"
   ]
  },
  {
   "cell_type": "markdown",
   "metadata": {},
   "source": [
    "## Average % occupation"
   ]
  },
  {
   "cell_type": "code",
   "execution_count": 10,
   "metadata": {},
   "outputs": [
    {
     "data": {
      "text/plain": [
       "0.597"
      ]
     },
     "execution_count": 10,
     "metadata": {},
     "output_type": "execute_result"
    }
   ],
   "source": [
    "round(sum(RT_parking[\"Occupee\"]) / sum(RT_parking[\"total\"]) ,3)"
   ]
  },
  {
   "cell_type": "markdown",
   "metadata": {},
   "source": [
    "## Numbre place dispo/occupe"
   ]
  },
  {
   "cell_type": "code",
   "execution_count": 11,
   "metadata": {},
   "outputs": [
    {
     "name": "stdout",
     "output_type": "stream",
     "text": [
      "6408 9481 15889\n"
     ]
    }
   ],
   "source": [
    "NBR_place_libre = sum(RT_parking[\"libre\"])\n",
    "NBR_place_occupe = sum(RT_parking[\"Occupee\"])\n",
    "nbr_place_total  = sum(RT_parking[\"total\"])\n",
    "print(NBR_place_libre,NBR_place_occupe , nbr_place_total)"
   ]
  },
  {
   "cell_type": "markdown",
   "metadata": {},
   "source": [
    "## Nombre parking close"
   ]
  },
  {
   "cell_type": "code",
   "execution_count": 12,
   "metadata": {},
   "outputs": [
    {
     "data": {
      "text/plain": [
       "'Parking Zénith ,Parking Centre Opéra Broglie ,Parking Gutenberg ,Parking Kleber Homme de fer'"
      ]
     },
     "execution_count": 12,
     "metadata": {},
     "output_type": "execute_result"
    }
   ],
   "source": [
    "#close_site = RT_parking_not_available[\"nom_parking\"].unique()\n",
    "\n",
    "close_site = RT_parking_ferme[\"nom_parking\"].unique()\n",
    "' ,'.join(close_site)"
   ]
  },
  {
   "cell_type": "markdown",
   "metadata": {},
   "source": [
    "## Bar plot occupation\n"
   ]
  },
  {
   "cell_type": "code",
   "execution_count": 16,
   "metadata": {},
   "outputs": [],
   "source": [
    "#import package\n",
    "import plotly.io as pio\n",
    "\n",
    "#And the following will do the trick:\n",
    "pio.templates.default = \"plotly\""
   ]
  },
  {
   "cell_type": "code",
   "execution_count": 17,
   "metadata": {},
   "outputs": [],
   "source": [
    "a= RT_parking_ouvert.sort_values('percentage_occupe', ascending=False)['nom_parking'].to_list()"
   ]
  },
  {
   "cell_type": "code",
   "execution_count": 18,
   "metadata": {},
   "outputs": [
    {
     "ename": "NameError",
     "evalue": "name 'make_subplots' is not defined",
     "output_type": "error",
     "traceback": [
      "\u001b[1;31m---------------------------------------------------------------------------\u001b[0m",
      "\u001b[1;31mNameError\u001b[0m                                 Traceback (most recent call last)",
      "Cell \u001b[1;32mIn[18], line 4\u001b[0m\n\u001b[0;32m      1\u001b[0m Sorting_order \u001b[38;5;241m=\u001b[39m RT_parking_ouvert\u001b[38;5;241m.\u001b[39msort_values(\u001b[38;5;124m'\u001b[39m\u001b[38;5;124mpercentage_occupe\u001b[39m\u001b[38;5;124m'\u001b[39m, ascending\u001b[38;5;241m=\u001b[39m\u001b[38;5;28;01mFalse\u001b[39;00m)[\u001b[38;5;124m'\u001b[39m\u001b[38;5;124mnom_parking\u001b[39m\u001b[38;5;124m'\u001b[39m]\u001b[38;5;241m.\u001b[39mto_list()\n\u001b[0;32m      2\u001b[0m customdata \u001b[38;5;241m=\u001b[39m np\u001b[38;5;241m.\u001b[39mdstack((RT_parking_ouvert[\u001b[38;5;124m'\u001b[39m\u001b[38;5;124mtotal\u001b[39m\u001b[38;5;124m'\u001b[39m]))\n\u001b[1;32m----> 4\u001b[0m fig1 \u001b[38;5;241m=\u001b[39m \u001b[43mmake_subplots\u001b[49m(shared_yaxes\u001b[38;5;241m=\u001b[39m\u001b[38;5;28;01mTrue\u001b[39;00m, shared_xaxes\u001b[38;5;241m=\u001b[39m\u001b[38;5;28;01mTrue\u001b[39;00m  )\n\u001b[0;32m      5\u001b[0m fig1\u001b[38;5;241m.\u001b[39madd_bar(x\u001b[38;5;241m=\u001b[39mRT_parking_ouvert[\u001b[38;5;124m'\u001b[39m\u001b[38;5;124mnom_parking\u001b[39m\u001b[38;5;124m'\u001b[39m],y\u001b[38;5;241m=\u001b[39mRT_parking_ouvert[\u001b[38;5;124m'\u001b[39m\u001b[38;5;124mtotal\u001b[39m\u001b[38;5;124m'\u001b[39m],opacity\u001b[38;5;241m=\u001b[39m\u001b[38;5;241m0.6\u001b[39m,width\u001b[38;5;241m=\u001b[39m\u001b[38;5;241m0.95\u001b[39m,name\u001b[38;5;241m=\u001b[39m\u001b[38;5;124m'\u001b[39m\u001b[38;5;124mtotal\u001b[39m\u001b[38;5;124m'\u001b[39m,hovertemplate\u001b[38;5;241m=\u001b[39m\u001b[38;5;124m'\u001b[39m\u001b[38;5;124m%\u001b[39m\u001b[38;5;132;01m{y}\u001b[39;00m\u001b[38;5;124m'\u001b[39m,marker_color\u001b[38;5;241m=\u001b[39m\u001b[38;5;124m'\u001b[39m\u001b[38;5;124mgrey\u001b[39m\u001b[38;5;124m'\u001b[39m)\n\u001b[0;32m      6\u001b[0m fig1\u001b[38;5;241m.\u001b[39madd_bar(x\u001b[38;5;241m=\u001b[39mRT_parking_ouvert[\u001b[38;5;124m'\u001b[39m\u001b[38;5;124mnom_parking\u001b[39m\u001b[38;5;124m'\u001b[39m],y\u001b[38;5;241m=\u001b[39mRT_parking_ouvert[\u001b[38;5;124m'\u001b[39m\u001b[38;5;124mOccupee\u001b[39m\u001b[38;5;124m'\u001b[39m],width\u001b[38;5;241m=\u001b[39m\u001b[38;5;241m0.95\u001b[39m,name\u001b[38;5;241m=\u001b[39m\u001b[38;5;124m'\u001b[39m\u001b[38;5;124mOccupee\u001b[39m\u001b[38;5;124m'\u001b[39m,marker_color\u001b[38;5;241m=\u001b[39mRT_parking_ouvert[\u001b[38;5;124m'\u001b[39m\u001b[38;5;124mrealtimestatus\u001b[39m\u001b[38;5;124m'\u001b[39m] )\n",
      "\u001b[1;31mNameError\u001b[0m: name 'make_subplots' is not defined"
     ]
    }
   ],
   "source": [
    "Sorting_order = RT_parking_ouvert.sort_values('percentage_occupe', ascending=False)['nom_parking'].to_list()\n",
    "customdata = np.dstack((RT_parking_ouvert['total']))\n",
    "\n",
    "fig1 = make_subplots(shared_yaxes=True, shared_xaxes=True  )\n",
    "fig1.add_bar(x=RT_parking_ouvert['nom_parking'],y=RT_parking_ouvert['total'],opacity=0.6,width=0.95,name='total',hovertemplate='%{y}',marker_color='grey')\n",
    "fig1.add_bar(x=RT_parking_ouvert['nom_parking'],y=RT_parking_ouvert['Occupee'],width=0.95,name='Occupee',marker_color=RT_parking_ouvert['realtimestatus'] )\n",
    "fig1.update_layout(barmode='overlay', \n",
    "                  title= \"Occupation parking Strasbourg\",\n",
    "                  yaxis_title='Occupation',\n",
    "                    xaxis={'categoryorder':'array', 'categoryarray':Sorting_order},)\n",
    "\n",
    "fig1.update_traces(\n",
    "    hovertemplate = \"<b> \" + RT_parking_ouvert['nom_parking'] + \" </b><br>\"   +  \n",
    "                   \"<b>État : </b> \" + RT_parking_ouvert['etat_descriptif'] + \" </b><br>\"   + \n",
    "                  \"<b>Places : %{y} </b> \" )\n"
   ]
  },
  {
   "cell_type": "markdown",
   "metadata": {},
   "source": [
    "## Maps creation\n"
   ]
  },
  {
   "cell_type": "code",
   "execution_count": 19,
   "metadata": {},
   "outputs": [
    {
     "data": {
      "text/html": [
       "<div>\n",
       "<style scoped>\n",
       "    .dataframe tbody tr th:only-of-type {\n",
       "        vertical-align: middle;\n",
       "    }\n",
       "\n",
       "    .dataframe tbody tr th {\n",
       "        vertical-align: top;\n",
       "    }\n",
       "\n",
       "    .dataframe thead th {\n",
       "        text-align: right;\n",
       "    }\n",
       "</style>\n",
       "<table border=\"1\" class=\"dataframe\">\n",
       "  <thead>\n",
       "    <tr style=\"text-align: right;\">\n",
       "      <th></th>\n",
       "      <th>nom_parking</th>\n",
       "      <th>idsurfs</th>\n",
       "      <th>ident</th>\n",
       "      <th>etat</th>\n",
       "      <th>etat_descriptif</th>\n",
       "      <th>total</th>\n",
       "      <th>libre</th>\n",
       "      <th>infousager</th>\n",
       "      <th>realtimestatus</th>\n",
       "      <th>infoappli</th>\n",
       "      <th>taux_occup</th>\n",
       "      <th>couleur_occup</th>\n",
       "      <th>position.lon_x</th>\n",
       "      <th>position.lat_x</th>\n",
       "      <th>position</th>\n",
       "      <th>Occupee</th>\n",
       "      <th>percentage_occupe</th>\n",
       "      <th>name</th>\n",
       "      <th>position.lon_y</th>\n",
       "      <th>position.lat_y</th>\n",
       "    </tr>\n",
       "  </thead>\n",
       "  <tbody>\n",
       "    <tr>\n",
       "      <th>0</th>\n",
       "      <td>Parking Gare Wodli</td>\n",
       "      <td>1382_DEP_8</td>\n",
       "      <td>10</td>\n",
       "      <td>1</td>\n",
       "      <td>Ouvert</td>\n",
       "      <td>955</td>\n",
       "      <td>5</td>\n",
       "      <td>COMPLET</td>\n",
       "      <td>RED</td>\n",
       "      <td>5</td>\n",
       "      <td>0.994764</td>\n",
       "      <td>noir</td>\n",
       "      <td>7.736771</td>\n",
       "      <td>48.587385</td>\n",
       "      <td>NaN</td>\n",
       "      <td>950</td>\n",
       "      <td>0.994764</td>\n",
       "      <td>Parking Gare Wodli</td>\n",
       "      <td>7.736771</td>\n",
       "      <td>48.587385</td>\n",
       "    </tr>\n",
       "    <tr>\n",
       "      <th>3</th>\n",
       "      <td>Parking Baggersee</td>\n",
       "      <td>1376_DEP_2</td>\n",
       "      <td>4</td>\n",
       "      <td>1</td>\n",
       "      <td>Ouvert</td>\n",
       "      <td>460</td>\n",
       "      <td>64</td>\n",
       "      <td>60</td>\n",
       "      <td>ORANGE</td>\n",
       "      <td>64</td>\n",
       "      <td>0.860870</td>\n",
       "      <td>orange</td>\n",
       "      <td>7.735695</td>\n",
       "      <td>48.544647</td>\n",
       "      <td>NaN</td>\n",
       "      <td>396</td>\n",
       "      <td>0.860870</td>\n",
       "      <td>Parking Baggersee</td>\n",
       "      <td>7.735695</td>\n",
       "      <td>48.544647</td>\n",
       "    </tr>\n",
       "    <tr>\n",
       "      <th>4</th>\n",
       "      <td>Parking Bateliers</td>\n",
       "      <td>1377_DEP_3</td>\n",
       "      <td>2</td>\n",
       "      <td>1</td>\n",
       "      <td>Ouvert</td>\n",
       "      <td>283</td>\n",
       "      <td>29</td>\n",
       "      <td>20</td>\n",
       "      <td>RED</td>\n",
       "      <td>29</td>\n",
       "      <td>0.897527</td>\n",
       "      <td>orange</td>\n",
       "      <td>7.756048</td>\n",
       "      <td>48.581002</td>\n",
       "      <td>NaN</td>\n",
       "      <td>254</td>\n",
       "      <td>0.897527</td>\n",
       "      <td>Parking Bateliers</td>\n",
       "      <td>7.756048</td>\n",
       "      <td>48.581002</td>\n",
       "    </tr>\n",
       "  </tbody>\n",
       "</table>\n",
       "</div>"
      ],
      "text/plain": [
       "          nom_parking     idsurfs  ident  etat etat_descriptif  total  libre  \\\n",
       "0  Parking Gare Wodli  1382_DEP_8     10     1          Ouvert    955      5   \n",
       "3   Parking Baggersee  1376_DEP_2      4     1          Ouvert    460     64   \n",
       "4   Parking Bateliers  1377_DEP_3      2     1          Ouvert    283     29   \n",
       "\n",
       "  infousager realtimestatus infoappli  taux_occup couleur_occup  \\\n",
       "0    COMPLET            RED         5    0.994764          noir   \n",
       "3         60         ORANGE        64    0.860870        orange   \n",
       "4         20            RED        29    0.897527        orange   \n",
       "\n",
       "   position.lon_x  position.lat_x  position  Occupee  percentage_occupe  \\\n",
       "0        7.736771       48.587385       NaN      950           0.994764   \n",
       "3        7.735695       48.544647       NaN      396           0.860870   \n",
       "4        7.756048       48.581002       NaN      254           0.897527   \n",
       "\n",
       "                 name  position.lon_y  position.lat_y  \n",
       "0  Parking Gare Wodli        7.736771       48.587385  \n",
       "3   Parking Baggersee        7.735695       48.544647  \n",
       "4   Parking Bateliers        7.756048       48.581002  "
      ]
     },
     "execution_count": 19,
     "metadata": {},
     "output_type": "execute_result"
    }
   ],
   "source": [
    "RT_parking_ouvert.head(3)"
   ]
  },
  {
   "cell_type": "markdown",
   "metadata": {},
   "source": []
  },
  {
   "cell_type": "code",
   "execution_count": 22,
   "metadata": {},
   "outputs": [
    {
     "data": {
      "application/vnd.plotly.v1+json": {
       "config": {
        "plotlyServerURL": "https://plot.ly"
       },
       "data": [
        {
         "customdata": [
          [
           "Parking Gare Wodli",
           "Ouvert",
           5,
           950,
           0.9947643979057592
          ],
          [
           "Parking Baggersee",
           "Ouvert",
           64,
           396,
           0.8608695652173913
          ],
          [
           "Parking Bateliers",
           "Ouvert",
           29,
           254,
           0.8975265017667845
          ],
          [
           "Parking Austerlitz",
           "Ouvert",
           25,
           457,
           0.9481327800829875
          ],
          [
           "Parking Robertsau Boecklin",
           "Ouvert",
           19,
           73,
           0.7934782608695652
          ],
          [
           "Parking Centre historique Petite France",
           "Ouvert",
           259,
           680,
           0.724174653887114
          ],
          [
           "Parking Rives de l'Aar",
           "Ouvert",
           86,
           370,
           0.8114035087719298
          ],
          [
           "Parking Saint Nicolas",
           "Ouvert",
           175,
           185,
           0.5138888888888888
          ],
          [
           "Parking Ducs d'Alsace",
           "Ouvert",
           190,
           410,
           0.6833333333333333
          ],
          [
           "Parking Elsau",
           "Ouvert",
           82,
           138,
           0.6272727272727273
          ],
          [
           "Parking Rotonde",
           "Ouvert",
           27,
           423,
           0.94
          ],
          [
           "Parking Gare courte durée",
           "Ouvert",
           58,
           130,
           0.6914893617021277
          ],
          [
           "Parking Hoenheim gare",
           "Ouvert",
           103,
           237,
           0.6970588235294117
          ],
          [
           "Parking Poteries",
           "Ouvert",
           24,
           78,
           0.7647058823529411
          ],
          [
           "Parking Espace européen de l'entreprise",
           "Ouvert",
           94,
           76,
           0.4470588235294118
          ],
          [
           "Parking Rivetoile",
           "Ouvert",
           762,
           370,
           0.32685512367491165
          ],
          [
           "P1 Esplanade - Centre commercial",
           "Ouvert",
           104,
           147,
           0.5856573705179283
          ],
          [
           "Parking Hôpital Hautepierre",
           "Ouvert",
           410,
           390,
           0.4875
          ],
          [
           "Parking Coubertin",
           "Ouvert",
           291,
           428,
           0.5952712100139083
          ]
         ],
         "hovertemplate": "<b>%{customdata[0]}</b><br><b>État : </b> %{customdata[1]}<br><b>Parking libre: </b> %{customdata[2]}<br><b>Parking occupe: </b> %{customdata[3]}<br><b>Pourcentage occupation: </b> %{customdata[4]}%<br>",
         "hovertext": [
          "Parking Gare Wodli",
          "Parking Baggersee",
          "Parking Bateliers",
          "Parking Austerlitz",
          "Parking Robertsau Boecklin",
          "Parking Centre historique Petite France",
          "Parking Rives de l'Aar",
          "Parking Saint Nicolas",
          "Parking Ducs d'Alsace",
          "Parking Elsau",
          "Parking Rotonde",
          "Parking Gare courte durée",
          "Parking Hoenheim gare",
          "Parking Poteries",
          "Parking Espace européen de l'entreprise",
          "Parking Rivetoile",
          "P1 Esplanade - Centre commercial",
          "Parking Hôpital Hautepierre",
          "Parking Coubertin"
         ],
         "lat": [
          48.5873845279566,
          48.5446469517313,
          48.5810021316449,
          48.5779636853829,
          48.5979711278741,
          48.5791976381607,
          48.5996315289378,
          48.5755761553687,
          48.5892383943901,
          48.5684033861816,
          48.5912264325338,
          48.5843287980526,
          48.62788850674,
          48.5833504860946,
          48.6167445706505,
          48.5732829348039,
          48.5775007075809,
          48.591985610722,
          48.600222553324905
         ],
         "legendgroup": "",
         "lon": [
          7.7367710015538,
          7.73569466237007,
          7.75604844096195,
          7.75179597699974,
          7.77656295435852,
          7.73525856082617,
          7.75381030140218,
          7.74952649489905,
          7.71596677960563,
          7.73031009299049,
          7.72610093327335,
          7.73587617577237,
          7.75778587766437,
          7.69108730315623,
          7.71966106577424,
          7.75983823964716,
          7.77158518917195,
          7.70898366141415,
          7.768342183051484
         ],
         "marker": {
          "color": [
           "RED",
           "ORANGE",
           "RED",
           "RED",
           "ORANGE",
           "GREEN",
           "ORANGE",
           "GREEN",
           "GREEN",
           "GREEN",
           "RED",
           "ORANGE",
           "GREEN",
           "ORANGE",
           "GREEN",
           "GREEN",
           "GREEN",
           "GREEN",
           "GREEN"
          ],
          "opacity": 0.8,
          "size": [
           1,
           1,
           1,
           1,
           1,
           1,
           1,
           1,
           1,
           1,
           1,
           1,
           1,
           1,
           1,
           1,
           1,
           1,
           1
          ],
          "sizemode": "area",
          "sizeref": 0.0025
         },
         "mode": "markers",
         "name": "",
         "showlegend": false,
         "subplot": "mapbox",
         "type": "scattermapbox"
        }
       ],
       "layout": {
        "coloraxis": {
         "showscale": false
        },
        "height": 450,
        "legend": {
         "itemsizing": "constant",
         "tracegroupgap": 0
        },
        "mapbox": {
         "center": {
          "lat": 48.58671295411221,
          "lon": 7.741105573415417
         },
         "domain": {
          "x": [
           0,
           1
          ],
          "y": [
           0,
           1
          ]
         },
         "style": "carto-positron",
         "zoom": 11
        },
        "margin": {
         "b": 0,
         "l": 0,
         "r": 0,
         "t": 0
        },
        "template": {
         "data": {
          "bar": [
           {
            "error_x": {
             "color": "#2a3f5f"
            },
            "error_y": {
             "color": "#2a3f5f"
            },
            "marker": {
             "line": {
              "color": "#E5ECF6",
              "width": 0.5
             },
             "pattern": {
              "fillmode": "overlay",
              "size": 10,
              "solidity": 0.2
             }
            },
            "type": "bar"
           }
          ],
          "barpolar": [
           {
            "marker": {
             "line": {
              "color": "#E5ECF6",
              "width": 0.5
             },
             "pattern": {
              "fillmode": "overlay",
              "size": 10,
              "solidity": 0.2
             }
            },
            "type": "barpolar"
           }
          ],
          "carpet": [
           {
            "aaxis": {
             "endlinecolor": "#2a3f5f",
             "gridcolor": "white",
             "linecolor": "white",
             "minorgridcolor": "white",
             "startlinecolor": "#2a3f5f"
            },
            "baxis": {
             "endlinecolor": "#2a3f5f",
             "gridcolor": "white",
             "linecolor": "white",
             "minorgridcolor": "white",
             "startlinecolor": "#2a3f5f"
            },
            "type": "carpet"
           }
          ],
          "choropleth": [
           {
            "colorbar": {
             "outlinewidth": 0,
             "ticks": ""
            },
            "type": "choropleth"
           }
          ],
          "contour": [
           {
            "colorbar": {
             "outlinewidth": 0,
             "ticks": ""
            },
            "colorscale": [
             [
              0,
              "#0d0887"
             ],
             [
              0.1111111111111111,
              "#46039f"
             ],
             [
              0.2222222222222222,
              "#7201a8"
             ],
             [
              0.3333333333333333,
              "#9c179e"
             ],
             [
              0.4444444444444444,
              "#bd3786"
             ],
             [
              0.5555555555555556,
              "#d8576b"
             ],
             [
              0.6666666666666666,
              "#ed7953"
             ],
             [
              0.7777777777777778,
              "#fb9f3a"
             ],
             [
              0.8888888888888888,
              "#fdca26"
             ],
             [
              1,
              "#f0f921"
             ]
            ],
            "type": "contour"
           }
          ],
          "contourcarpet": [
           {
            "colorbar": {
             "outlinewidth": 0,
             "ticks": ""
            },
            "type": "contourcarpet"
           }
          ],
          "heatmap": [
           {
            "colorbar": {
             "outlinewidth": 0,
             "ticks": ""
            },
            "colorscale": [
             [
              0,
              "#0d0887"
             ],
             [
              0.1111111111111111,
              "#46039f"
             ],
             [
              0.2222222222222222,
              "#7201a8"
             ],
             [
              0.3333333333333333,
              "#9c179e"
             ],
             [
              0.4444444444444444,
              "#bd3786"
             ],
             [
              0.5555555555555556,
              "#d8576b"
             ],
             [
              0.6666666666666666,
              "#ed7953"
             ],
             [
              0.7777777777777778,
              "#fb9f3a"
             ],
             [
              0.8888888888888888,
              "#fdca26"
             ],
             [
              1,
              "#f0f921"
             ]
            ],
            "type": "heatmap"
           }
          ],
          "heatmapgl": [
           {
            "colorbar": {
             "outlinewidth": 0,
             "ticks": ""
            },
            "colorscale": [
             [
              0,
              "#0d0887"
             ],
             [
              0.1111111111111111,
              "#46039f"
             ],
             [
              0.2222222222222222,
              "#7201a8"
             ],
             [
              0.3333333333333333,
              "#9c179e"
             ],
             [
              0.4444444444444444,
              "#bd3786"
             ],
             [
              0.5555555555555556,
              "#d8576b"
             ],
             [
              0.6666666666666666,
              "#ed7953"
             ],
             [
              0.7777777777777778,
              "#fb9f3a"
             ],
             [
              0.8888888888888888,
              "#fdca26"
             ],
             [
              1,
              "#f0f921"
             ]
            ],
            "type": "heatmapgl"
           }
          ],
          "histogram": [
           {
            "marker": {
             "pattern": {
              "fillmode": "overlay",
              "size": 10,
              "solidity": 0.2
             }
            },
            "type": "histogram"
           }
          ],
          "histogram2d": [
           {
            "colorbar": {
             "outlinewidth": 0,
             "ticks": ""
            },
            "colorscale": [
             [
              0,
              "#0d0887"
             ],
             [
              0.1111111111111111,
              "#46039f"
             ],
             [
              0.2222222222222222,
              "#7201a8"
             ],
             [
              0.3333333333333333,
              "#9c179e"
             ],
             [
              0.4444444444444444,
              "#bd3786"
             ],
             [
              0.5555555555555556,
              "#d8576b"
             ],
             [
              0.6666666666666666,
              "#ed7953"
             ],
             [
              0.7777777777777778,
              "#fb9f3a"
             ],
             [
              0.8888888888888888,
              "#fdca26"
             ],
             [
              1,
              "#f0f921"
             ]
            ],
            "type": "histogram2d"
           }
          ],
          "histogram2dcontour": [
           {
            "colorbar": {
             "outlinewidth": 0,
             "ticks": ""
            },
            "colorscale": [
             [
              0,
              "#0d0887"
             ],
             [
              0.1111111111111111,
              "#46039f"
             ],
             [
              0.2222222222222222,
              "#7201a8"
             ],
             [
              0.3333333333333333,
              "#9c179e"
             ],
             [
              0.4444444444444444,
              "#bd3786"
             ],
             [
              0.5555555555555556,
              "#d8576b"
             ],
             [
              0.6666666666666666,
              "#ed7953"
             ],
             [
              0.7777777777777778,
              "#fb9f3a"
             ],
             [
              0.8888888888888888,
              "#fdca26"
             ],
             [
              1,
              "#f0f921"
             ]
            ],
            "type": "histogram2dcontour"
           }
          ],
          "mesh3d": [
           {
            "colorbar": {
             "outlinewidth": 0,
             "ticks": ""
            },
            "type": "mesh3d"
           }
          ],
          "parcoords": [
           {
            "line": {
             "colorbar": {
              "outlinewidth": 0,
              "ticks": ""
             }
            },
            "type": "parcoords"
           }
          ],
          "pie": [
           {
            "automargin": true,
            "type": "pie"
           }
          ],
          "scatter": [
           {
            "fillpattern": {
             "fillmode": "overlay",
             "size": 10,
             "solidity": 0.2
            },
            "type": "scatter"
           }
          ],
          "scatter3d": [
           {
            "line": {
             "colorbar": {
              "outlinewidth": 0,
              "ticks": ""
             }
            },
            "marker": {
             "colorbar": {
              "outlinewidth": 0,
              "ticks": ""
             }
            },
            "type": "scatter3d"
           }
          ],
          "scattercarpet": [
           {
            "marker": {
             "colorbar": {
              "outlinewidth": 0,
              "ticks": ""
             }
            },
            "type": "scattercarpet"
           }
          ],
          "scattergeo": [
           {
            "marker": {
             "colorbar": {
              "outlinewidth": 0,
              "ticks": ""
             }
            },
            "type": "scattergeo"
           }
          ],
          "scattergl": [
           {
            "marker": {
             "colorbar": {
              "outlinewidth": 0,
              "ticks": ""
             }
            },
            "type": "scattergl"
           }
          ],
          "scattermapbox": [
           {
            "marker": {
             "colorbar": {
              "outlinewidth": 0,
              "ticks": ""
             }
            },
            "type": "scattermapbox"
           }
          ],
          "scatterpolar": [
           {
            "marker": {
             "colorbar": {
              "outlinewidth": 0,
              "ticks": ""
             }
            },
            "type": "scatterpolar"
           }
          ],
          "scatterpolargl": [
           {
            "marker": {
             "colorbar": {
              "outlinewidth": 0,
              "ticks": ""
             }
            },
            "type": "scatterpolargl"
           }
          ],
          "scatterternary": [
           {
            "marker": {
             "colorbar": {
              "outlinewidth": 0,
              "ticks": ""
             }
            },
            "type": "scatterternary"
           }
          ],
          "surface": [
           {
            "colorbar": {
             "outlinewidth": 0,
             "ticks": ""
            },
            "colorscale": [
             [
              0,
              "#0d0887"
             ],
             [
              0.1111111111111111,
              "#46039f"
             ],
             [
              0.2222222222222222,
              "#7201a8"
             ],
             [
              0.3333333333333333,
              "#9c179e"
             ],
             [
              0.4444444444444444,
              "#bd3786"
             ],
             [
              0.5555555555555556,
              "#d8576b"
             ],
             [
              0.6666666666666666,
              "#ed7953"
             ],
             [
              0.7777777777777778,
              "#fb9f3a"
             ],
             [
              0.8888888888888888,
              "#fdca26"
             ],
             [
              1,
              "#f0f921"
             ]
            ],
            "type": "surface"
           }
          ],
          "table": [
           {
            "cells": {
             "fill": {
              "color": "#EBF0F8"
             },
             "line": {
              "color": "white"
             }
            },
            "header": {
             "fill": {
              "color": "#C8D4E3"
             },
             "line": {
              "color": "white"
             }
            },
            "type": "table"
           }
          ]
         },
         "layout": {
          "annotationdefaults": {
           "arrowcolor": "#2a3f5f",
           "arrowhead": 0,
           "arrowwidth": 1
          },
          "autotypenumbers": "strict",
          "coloraxis": {
           "colorbar": {
            "outlinewidth": 0,
            "ticks": ""
           }
          },
          "colorscale": {
           "diverging": [
            [
             0,
             "#8e0152"
            ],
            [
             0.1,
             "#c51b7d"
            ],
            [
             0.2,
             "#de77ae"
            ],
            [
             0.3,
             "#f1b6da"
            ],
            [
             0.4,
             "#fde0ef"
            ],
            [
             0.5,
             "#f7f7f7"
            ],
            [
             0.6,
             "#e6f5d0"
            ],
            [
             0.7,
             "#b8e186"
            ],
            [
             0.8,
             "#7fbc41"
            ],
            [
             0.9,
             "#4d9221"
            ],
            [
             1,
             "#276419"
            ]
           ],
           "sequential": [
            [
             0,
             "#0d0887"
            ],
            [
             0.1111111111111111,
             "#46039f"
            ],
            [
             0.2222222222222222,
             "#7201a8"
            ],
            [
             0.3333333333333333,
             "#9c179e"
            ],
            [
             0.4444444444444444,
             "#bd3786"
            ],
            [
             0.5555555555555556,
             "#d8576b"
            ],
            [
             0.6666666666666666,
             "#ed7953"
            ],
            [
             0.7777777777777778,
             "#fb9f3a"
            ],
            [
             0.8888888888888888,
             "#fdca26"
            ],
            [
             1,
             "#f0f921"
            ]
           ],
           "sequentialminus": [
            [
             0,
             "#0d0887"
            ],
            [
             0.1111111111111111,
             "#46039f"
            ],
            [
             0.2222222222222222,
             "#7201a8"
            ],
            [
             0.3333333333333333,
             "#9c179e"
            ],
            [
             0.4444444444444444,
             "#bd3786"
            ],
            [
             0.5555555555555556,
             "#d8576b"
            ],
            [
             0.6666666666666666,
             "#ed7953"
            ],
            [
             0.7777777777777778,
             "#fb9f3a"
            ],
            [
             0.8888888888888888,
             "#fdca26"
            ],
            [
             1,
             "#f0f921"
            ]
           ]
          },
          "colorway": [
           "#636efa",
           "#EF553B",
           "#00cc96",
           "#ab63fa",
           "#FFA15A",
           "#19d3f3",
           "#FF6692",
           "#B6E880",
           "#FF97FF",
           "#FECB52"
          ],
          "font": {
           "color": "#2a3f5f"
          },
          "geo": {
           "bgcolor": "white",
           "lakecolor": "white",
           "landcolor": "#E5ECF6",
           "showlakes": true,
           "showland": true,
           "subunitcolor": "white"
          },
          "hoverlabel": {
           "align": "left"
          },
          "hovermode": "closest",
          "mapbox": {
           "style": "light"
          },
          "paper_bgcolor": "white",
          "plot_bgcolor": "#E5ECF6",
          "polar": {
           "angularaxis": {
            "gridcolor": "white",
            "linecolor": "white",
            "ticks": ""
           },
           "bgcolor": "#E5ECF6",
           "radialaxis": {
            "gridcolor": "white",
            "linecolor": "white",
            "ticks": ""
           }
          },
          "scene": {
           "xaxis": {
            "backgroundcolor": "#E5ECF6",
            "gridcolor": "white",
            "gridwidth": 2,
            "linecolor": "white",
            "showbackground": true,
            "ticks": "",
            "zerolinecolor": "white"
           },
           "yaxis": {
            "backgroundcolor": "#E5ECF6",
            "gridcolor": "white",
            "gridwidth": 2,
            "linecolor": "white",
            "showbackground": true,
            "ticks": "",
            "zerolinecolor": "white"
           },
           "zaxis": {
            "backgroundcolor": "#E5ECF6",
            "gridcolor": "white",
            "gridwidth": 2,
            "linecolor": "white",
            "showbackground": true,
            "ticks": "",
            "zerolinecolor": "white"
           }
          },
          "shapedefaults": {
           "line": {
            "color": "#2a3f5f"
           }
          },
          "ternary": {
           "aaxis": {
            "gridcolor": "white",
            "linecolor": "white",
            "ticks": ""
           },
           "baxis": {
            "gridcolor": "white",
            "linecolor": "white",
            "ticks": ""
           },
           "bgcolor": "#E5ECF6",
           "caxis": {
            "gridcolor": "white",
            "linecolor": "white",
            "ticks": ""
           }
          },
          "title": {
           "x": 0.05
          },
          "xaxis": {
           "automargin": true,
           "gridcolor": "white",
           "linecolor": "white",
           "ticks": "",
           "title": {
            "standoff": 15
           },
           "zerolinecolor": "white",
           "zerolinewidth": 2
          },
          "yaxis": {
           "automargin": true,
           "gridcolor": "white",
           "linecolor": "white",
           "ticks": "",
           "title": {
            "standoff": 15
           },
           "zerolinecolor": "white",
           "zerolinewidth": 2
          }
         }
        }
       }
      }
     },
     "metadata": {},
     "output_type": "display_data"
    }
   ],
   "source": [
    "fig2 = px.scatter_mapbox(RT_parking_ouvert, \n",
    "                        lat=RT_parking_ouvert['position.lat_y'],\n",
    "                        lon=RT_parking_ouvert['position.lon_y'], \n",
    "                        hover_name=\"nom_parking\", \n",
    "                        size=\"etat\" ,\n",
    "                        #hover_data=[\"status\" , \"Bike available\" , \"Available space\" ],\n",
    "                        custom_data=['nom_parking', 'etat_descriptif', 'libre' , 'Occupee','percentage_occupe'] ,\n",
    "                        #color=\"percentage_occupe\",\n",
    "                        color_discrete_sequence=[RT_parking_ouvert.realtimestatus],\n",
    "                        opacity = 0.8,\n",
    "                        zoom=11, \n",
    "                        height=450)\n",
    "fig2.update_layout(mapbox_style=\"carto-positron\")\n",
    "fig2.update_layout(margin={\"r\":0,\"t\":0,\"l\":0,\"b\":0})\n",
    "fig2.update_layout(coloraxis_showscale=False)\n",
    "fig2.update_traces(\n",
    "    hovertemplate = \n",
    "                \"<b>%{customdata[0]}</b><br>\"   +  \n",
    "                \"<b>État : </b> %{customdata[1]}<br>\" + \n",
    "                \"<b>Parking libre: </b> %{customdata[2]}<br>\" +\n",
    "                \"<b>Parking occupe: </b> %{customdata[3]}<br>\"  +\n",
    "                \"<b>Pourcentage occupation: </b> %{customdata[4]}%<br>\"  )\n",
    "fig2.show()"
   ]
  },
  {
   "cell_type": "markdown",
   "metadata": {},
   "source": [
    "## Status parking"
   ]
  },
  {
   "cell_type": "code",
   "execution_count": 23,
   "metadata": {},
   "outputs": [
    {
     "data": {
      "text/html": [
       "<div>\n",
       "<style scoped>\n",
       "    .dataframe tbody tr th:only-of-type {\n",
       "        vertical-align: middle;\n",
       "    }\n",
       "\n",
       "    .dataframe tbody tr th {\n",
       "        vertical-align: top;\n",
       "    }\n",
       "\n",
       "    .dataframe thead th {\n",
       "        text-align: right;\n",
       "    }\n",
       "</style>\n",
       "<table border=\"1\" class=\"dataframe\">\n",
       "  <thead>\n",
       "    <tr style=\"text-align: right;\">\n",
       "      <th></th>\n",
       "      <th>etat_descriptif</th>\n",
       "      <th>size</th>\n",
       "      <th>share_size</th>\n",
       "    </tr>\n",
       "  </thead>\n",
       "  <tbody>\n",
       "    <tr>\n",
       "      <th>0</th>\n",
       "      <td>Fermé</td>\n",
       "      <td>4</td>\n",
       "      <td>0.15</td>\n",
       "    </tr>\n",
       "    <tr>\n",
       "      <th>1</th>\n",
       "      <td>Ouvert</td>\n",
       "      <td>19</td>\n",
       "      <td>0.70</td>\n",
       "    </tr>\n",
       "    <tr>\n",
       "      <th>2</th>\n",
       "      <td>frequentation temps reel indisponible</td>\n",
       "      <td>4</td>\n",
       "      <td>0.15</td>\n",
       "    </tr>\n",
       "  </tbody>\n",
       "</table>\n",
       "</div>"
      ],
      "text/plain": [
       "                         etat_descriptif  size  share_size\n",
       "0                                  Fermé     4        0.15\n",
       "1                                 Ouvert    19        0.70\n",
       "2  frequentation temps reel indisponible     4        0.15"
      ]
     },
     "execution_count": 23,
     "metadata": {},
     "output_type": "execute_result"
    }
   ],
   "source": [
    "RT_parking\n",
    "etat_data = RT_parking.groupby(['etat_descriptif'], as_index=False).size()\n",
    "#DataFrame({'count' : RT_parking.groupby( [ \"etat_descriptif\"] ).size()}).reset_index()\n",
    "etat_data[\"share_size\"] = round((etat_data['size'] / etat_data['size'].sum()) ,2)\n",
    "etat_data"
   ]
  },
  {
   "cell_type": "code",
   "execution_count": 25,
   "metadata": {},
   "outputs": [
    {
     "data": {
      "application/vnd.plotly.v1+json": {
       "config": {
        "plotlyServerURL": "https://plot.ly"
       },
       "data": [
        {
         "alignmentgroup": "True",
         "hovertemplate": "size=%{marker.color}<br>etat_descriptif=%{y}<extra></extra>",
         "legendgroup": "",
         "marker": {
          "color": [
           1,
           20,
           6
          ],
          "coloraxis": "coloraxis",
          "pattern": {
           "shape": ""
          }
         },
         "name": "",
         "offsetgroup": "",
         "orientation": "h",
         "showlegend": false,
         "textposition": "auto",
         "type": "bar",
         "x": [
          1,
          20,
          6
         ],
         "xaxis": "x",
         "y": [
          "Fermé",
          "Ouvert",
          "frequentation temps reel indisponible"
         ],
         "yaxis": "y"
        }
       ],
       "layout": {
        "barmode": "relative",
        "coloraxis": {
         "colorbar": {
          "title": {
           "text": "size"
          }
         },
         "colorscale": [
          [
           0,
           "rgb(127,0,0)"
          ],
          [
           0.125,
           "rgb(179,0,0)"
          ],
          [
           0.25,
           "rgb(215,48,31)"
          ],
          [
           0.375,
           "rgb(239,101,72)"
          ],
          [
           0.5,
           "rgb(252,141,89)"
          ],
          [
           0.625,
           "rgb(253,187,132)"
          ],
          [
           0.75,
           "rgb(253,212,158)"
          ],
          [
           0.875,
           "rgb(254,232,200)"
          ],
          [
           1,
           "rgb(255,247,236)"
          ]
         ],
         "showscale": false
        },
        "height": 250,
        "legend": {
         "tracegroupgap": 0
        },
        "margin": {
         "b": 20,
         "l": 20,
         "r": 20,
         "t": 20
        },
        "template": {
         "data": {
          "bar": [
           {
            "error_x": {
             "color": "#2a3f5f"
            },
            "error_y": {
             "color": "#2a3f5f"
            },
            "marker": {
             "line": {
              "color": "#E5ECF6",
              "width": 0.5
             },
             "pattern": {
              "fillmode": "overlay",
              "size": 10,
              "solidity": 0.2
             }
            },
            "type": "bar"
           }
          ],
          "barpolar": [
           {
            "marker": {
             "line": {
              "color": "#E5ECF6",
              "width": 0.5
             },
             "pattern": {
              "fillmode": "overlay",
              "size": 10,
              "solidity": 0.2
             }
            },
            "type": "barpolar"
           }
          ],
          "carpet": [
           {
            "aaxis": {
             "endlinecolor": "#2a3f5f",
             "gridcolor": "white",
             "linecolor": "white",
             "minorgridcolor": "white",
             "startlinecolor": "#2a3f5f"
            },
            "baxis": {
             "endlinecolor": "#2a3f5f",
             "gridcolor": "white",
             "linecolor": "white",
             "minorgridcolor": "white",
             "startlinecolor": "#2a3f5f"
            },
            "type": "carpet"
           }
          ],
          "choropleth": [
           {
            "colorbar": {
             "outlinewidth": 0,
             "ticks": ""
            },
            "type": "choropleth"
           }
          ],
          "contour": [
           {
            "colorbar": {
             "outlinewidth": 0,
             "ticks": ""
            },
            "colorscale": [
             [
              0,
              "#0d0887"
             ],
             [
              0.1111111111111111,
              "#46039f"
             ],
             [
              0.2222222222222222,
              "#7201a8"
             ],
             [
              0.3333333333333333,
              "#9c179e"
             ],
             [
              0.4444444444444444,
              "#bd3786"
             ],
             [
              0.5555555555555556,
              "#d8576b"
             ],
             [
              0.6666666666666666,
              "#ed7953"
             ],
             [
              0.7777777777777778,
              "#fb9f3a"
             ],
             [
              0.8888888888888888,
              "#fdca26"
             ],
             [
              1,
              "#f0f921"
             ]
            ],
            "type": "contour"
           }
          ],
          "contourcarpet": [
           {
            "colorbar": {
             "outlinewidth": 0,
             "ticks": ""
            },
            "type": "contourcarpet"
           }
          ],
          "heatmap": [
           {
            "colorbar": {
             "outlinewidth": 0,
             "ticks": ""
            },
            "colorscale": [
             [
              0,
              "#0d0887"
             ],
             [
              0.1111111111111111,
              "#46039f"
             ],
             [
              0.2222222222222222,
              "#7201a8"
             ],
             [
              0.3333333333333333,
              "#9c179e"
             ],
             [
              0.4444444444444444,
              "#bd3786"
             ],
             [
              0.5555555555555556,
              "#d8576b"
             ],
             [
              0.6666666666666666,
              "#ed7953"
             ],
             [
              0.7777777777777778,
              "#fb9f3a"
             ],
             [
              0.8888888888888888,
              "#fdca26"
             ],
             [
              1,
              "#f0f921"
             ]
            ],
            "type": "heatmap"
           }
          ],
          "heatmapgl": [
           {
            "colorbar": {
             "outlinewidth": 0,
             "ticks": ""
            },
            "colorscale": [
             [
              0,
              "#0d0887"
             ],
             [
              0.1111111111111111,
              "#46039f"
             ],
             [
              0.2222222222222222,
              "#7201a8"
             ],
             [
              0.3333333333333333,
              "#9c179e"
             ],
             [
              0.4444444444444444,
              "#bd3786"
             ],
             [
              0.5555555555555556,
              "#d8576b"
             ],
             [
              0.6666666666666666,
              "#ed7953"
             ],
             [
              0.7777777777777778,
              "#fb9f3a"
             ],
             [
              0.8888888888888888,
              "#fdca26"
             ],
             [
              1,
              "#f0f921"
             ]
            ],
            "type": "heatmapgl"
           }
          ],
          "histogram": [
           {
            "marker": {
             "pattern": {
              "fillmode": "overlay",
              "size": 10,
              "solidity": 0.2
             }
            },
            "type": "histogram"
           }
          ],
          "histogram2d": [
           {
            "colorbar": {
             "outlinewidth": 0,
             "ticks": ""
            },
            "colorscale": [
             [
              0,
              "#0d0887"
             ],
             [
              0.1111111111111111,
              "#46039f"
             ],
             [
              0.2222222222222222,
              "#7201a8"
             ],
             [
              0.3333333333333333,
              "#9c179e"
             ],
             [
              0.4444444444444444,
              "#bd3786"
             ],
             [
              0.5555555555555556,
              "#d8576b"
             ],
             [
              0.6666666666666666,
              "#ed7953"
             ],
             [
              0.7777777777777778,
              "#fb9f3a"
             ],
             [
              0.8888888888888888,
              "#fdca26"
             ],
             [
              1,
              "#f0f921"
             ]
            ],
            "type": "histogram2d"
           }
          ],
          "histogram2dcontour": [
           {
            "colorbar": {
             "outlinewidth": 0,
             "ticks": ""
            },
            "colorscale": [
             [
              0,
              "#0d0887"
             ],
             [
              0.1111111111111111,
              "#46039f"
             ],
             [
              0.2222222222222222,
              "#7201a8"
             ],
             [
              0.3333333333333333,
              "#9c179e"
             ],
             [
              0.4444444444444444,
              "#bd3786"
             ],
             [
              0.5555555555555556,
              "#d8576b"
             ],
             [
              0.6666666666666666,
              "#ed7953"
             ],
             [
              0.7777777777777778,
              "#fb9f3a"
             ],
             [
              0.8888888888888888,
              "#fdca26"
             ],
             [
              1,
              "#f0f921"
             ]
            ],
            "type": "histogram2dcontour"
           }
          ],
          "mesh3d": [
           {
            "colorbar": {
             "outlinewidth": 0,
             "ticks": ""
            },
            "type": "mesh3d"
           }
          ],
          "parcoords": [
           {
            "line": {
             "colorbar": {
              "outlinewidth": 0,
              "ticks": ""
             }
            },
            "type": "parcoords"
           }
          ],
          "pie": [
           {
            "automargin": true,
            "type": "pie"
           }
          ],
          "scatter": [
           {
            "fillpattern": {
             "fillmode": "overlay",
             "size": 10,
             "solidity": 0.2
            },
            "type": "scatter"
           }
          ],
          "scatter3d": [
           {
            "line": {
             "colorbar": {
              "outlinewidth": 0,
              "ticks": ""
             }
            },
            "marker": {
             "colorbar": {
              "outlinewidth": 0,
              "ticks": ""
             }
            },
            "type": "scatter3d"
           }
          ],
          "scattercarpet": [
           {
            "marker": {
             "colorbar": {
              "outlinewidth": 0,
              "ticks": ""
             }
            },
            "type": "scattercarpet"
           }
          ],
          "scattergeo": [
           {
            "marker": {
             "colorbar": {
              "outlinewidth": 0,
              "ticks": ""
             }
            },
            "type": "scattergeo"
           }
          ],
          "scattergl": [
           {
            "marker": {
             "colorbar": {
              "outlinewidth": 0,
              "ticks": ""
             }
            },
            "type": "scattergl"
           }
          ],
          "scattermapbox": [
           {
            "marker": {
             "colorbar": {
              "outlinewidth": 0,
              "ticks": ""
             }
            },
            "type": "scattermapbox"
           }
          ],
          "scatterpolar": [
           {
            "marker": {
             "colorbar": {
              "outlinewidth": 0,
              "ticks": ""
             }
            },
            "type": "scatterpolar"
           }
          ],
          "scatterpolargl": [
           {
            "marker": {
             "colorbar": {
              "outlinewidth": 0,
              "ticks": ""
             }
            },
            "type": "scatterpolargl"
           }
          ],
          "scatterternary": [
           {
            "marker": {
             "colorbar": {
              "outlinewidth": 0,
              "ticks": ""
             }
            },
            "type": "scatterternary"
           }
          ],
          "surface": [
           {
            "colorbar": {
             "outlinewidth": 0,
             "ticks": ""
            },
            "colorscale": [
             [
              0,
              "#0d0887"
             ],
             [
              0.1111111111111111,
              "#46039f"
             ],
             [
              0.2222222222222222,
              "#7201a8"
             ],
             [
              0.3333333333333333,
              "#9c179e"
             ],
             [
              0.4444444444444444,
              "#bd3786"
             ],
             [
              0.5555555555555556,
              "#d8576b"
             ],
             [
              0.6666666666666666,
              "#ed7953"
             ],
             [
              0.7777777777777778,
              "#fb9f3a"
             ],
             [
              0.8888888888888888,
              "#fdca26"
             ],
             [
              1,
              "#f0f921"
             ]
            ],
            "type": "surface"
           }
          ],
          "table": [
           {
            "cells": {
             "fill": {
              "color": "#EBF0F8"
             },
             "line": {
              "color": "white"
             }
            },
            "header": {
             "fill": {
              "color": "#C8D4E3"
             },
             "line": {
              "color": "white"
             }
            },
            "type": "table"
           }
          ]
         },
         "layout": {
          "annotationdefaults": {
           "arrowcolor": "#2a3f5f",
           "arrowhead": 0,
           "arrowwidth": 1
          },
          "autotypenumbers": "strict",
          "coloraxis": {
           "colorbar": {
            "outlinewidth": 0,
            "ticks": ""
           }
          },
          "colorscale": {
           "diverging": [
            [
             0,
             "#8e0152"
            ],
            [
             0.1,
             "#c51b7d"
            ],
            [
             0.2,
             "#de77ae"
            ],
            [
             0.3,
             "#f1b6da"
            ],
            [
             0.4,
             "#fde0ef"
            ],
            [
             0.5,
             "#f7f7f7"
            ],
            [
             0.6,
             "#e6f5d0"
            ],
            [
             0.7,
             "#b8e186"
            ],
            [
             0.8,
             "#7fbc41"
            ],
            [
             0.9,
             "#4d9221"
            ],
            [
             1,
             "#276419"
            ]
           ],
           "sequential": [
            [
             0,
             "#0d0887"
            ],
            [
             0.1111111111111111,
             "#46039f"
            ],
            [
             0.2222222222222222,
             "#7201a8"
            ],
            [
             0.3333333333333333,
             "#9c179e"
            ],
            [
             0.4444444444444444,
             "#bd3786"
            ],
            [
             0.5555555555555556,
             "#d8576b"
            ],
            [
             0.6666666666666666,
             "#ed7953"
            ],
            [
             0.7777777777777778,
             "#fb9f3a"
            ],
            [
             0.8888888888888888,
             "#fdca26"
            ],
            [
             1,
             "#f0f921"
            ]
           ],
           "sequentialminus": [
            [
             0,
             "#0d0887"
            ],
            [
             0.1111111111111111,
             "#46039f"
            ],
            [
             0.2222222222222222,
             "#7201a8"
            ],
            [
             0.3333333333333333,
             "#9c179e"
            ],
            [
             0.4444444444444444,
             "#bd3786"
            ],
            [
             0.5555555555555556,
             "#d8576b"
            ],
            [
             0.6666666666666666,
             "#ed7953"
            ],
            [
             0.7777777777777778,
             "#fb9f3a"
            ],
            [
             0.8888888888888888,
             "#fdca26"
            ],
            [
             1,
             "#f0f921"
            ]
           ]
          },
          "colorway": [
           "#636efa",
           "#EF553B",
           "#00cc96",
           "#ab63fa",
           "#FFA15A",
           "#19d3f3",
           "#FF6692",
           "#B6E880",
           "#FF97FF",
           "#FECB52"
          ],
          "font": {
           "color": "#2a3f5f"
          },
          "geo": {
           "bgcolor": "white",
           "lakecolor": "white",
           "landcolor": "#E5ECF6",
           "showlakes": true,
           "showland": true,
           "subunitcolor": "white"
          },
          "hoverlabel": {
           "align": "left"
          },
          "hovermode": "closest",
          "mapbox": {
           "style": "light"
          },
          "paper_bgcolor": "white",
          "plot_bgcolor": "#E5ECF6",
          "polar": {
           "angularaxis": {
            "gridcolor": "white",
            "linecolor": "white",
            "ticks": ""
           },
           "bgcolor": "#E5ECF6",
           "radialaxis": {
            "gridcolor": "white",
            "linecolor": "white",
            "ticks": ""
           }
          },
          "scene": {
           "xaxis": {
            "backgroundcolor": "#E5ECF6",
            "gridcolor": "white",
            "gridwidth": 2,
            "linecolor": "white",
            "showbackground": true,
            "ticks": "",
            "zerolinecolor": "white"
           },
           "yaxis": {
            "backgroundcolor": "#E5ECF6",
            "gridcolor": "white",
            "gridwidth": 2,
            "linecolor": "white",
            "showbackground": true,
            "ticks": "",
            "zerolinecolor": "white"
           },
           "zaxis": {
            "backgroundcolor": "#E5ECF6",
            "gridcolor": "white",
            "gridwidth": 2,
            "linecolor": "white",
            "showbackground": true,
            "ticks": "",
            "zerolinecolor": "white"
           }
          },
          "shapedefaults": {
           "line": {
            "color": "#2a3f5f"
           }
          },
          "ternary": {
           "aaxis": {
            "gridcolor": "white",
            "linecolor": "white",
            "ticks": ""
           },
           "baxis": {
            "gridcolor": "white",
            "linecolor": "white",
            "ticks": ""
           },
           "bgcolor": "#E5ECF6",
           "caxis": {
            "gridcolor": "white",
            "linecolor": "white",
            "ticks": ""
           }
          },
          "title": {
           "x": 0.05
          },
          "xaxis": {
           "automargin": true,
           "gridcolor": "white",
           "linecolor": "white",
           "ticks": "",
           "title": {
            "standoff": 15
           },
           "zerolinecolor": "white",
           "zerolinewidth": 2
          },
          "yaxis": {
           "automargin": true,
           "gridcolor": "white",
           "linecolor": "white",
           "ticks": "",
           "title": {
            "standoff": 15
           },
           "zerolinecolor": "white",
           "zerolinewidth": 2
          }
         }
        },
        "width": 600,
        "xaxis": {
         "anchor": "y",
         "domain": [
          0,
          1
         ],
         "title": {
          "text": "size"
         }
        },
        "yaxis": {
         "anchor": "x",
         "categoryorder": "total ascending",
         "domain": [
          0,
          1
         ],
         "title": {
          "text": "etat_descriptif"
         }
        }
       }
      }
     },
     "metadata": {},
     "output_type": "display_data"
    }
   ],
   "source": [
    "status_bar = px.bar(etat_data, y='etat_descriptif',\n",
    "            x='size' ,\n",
    "            width=600,\n",
    "            height=250,\n",
    "            orientation='h' ,\n",
    "            color = 'size' ,\n",
    "            color_continuous_scale=px.colors.sequential.OrRd[::-1])\n",
    "status_bar.update_layout(yaxis={'categoryorder':'total ascending'},\n",
    "                  margin=dict(l=20, r=20, t=20, b=20),) \n",
    "status_bar.update_layout(coloraxis_showscale=False)\n",
    "status_bar.show()"
   ]
  },
  {
   "cell_type": "markdown",
   "metadata": {},
   "source": []
  },
  {
   "cell_type": "markdown",
   "metadata": {},
   "source": []
  },
  {
   "cell_type": "code",
   "execution_count": 27,
   "metadata": {},
   "outputs": [
    {
     "name": "stdout",
     "output_type": "stream",
     "text": [
      "3.11.2 (tags/v3.11.2:878ead1, Feb  7 2023, 16:38:35) [MSC v.1934 64 bit (AMD64)]\n"
     ]
    }
   ],
   "source": [
    "#import sys\n",
    "#print(sys.version)"
   ]
  },
  {
   "cell_type": "markdown",
   "metadata": {},
   "source": [
    "import sys\n",
    "print(sys.version)"
   ]
  },
  {
   "cell_type": "markdown",
   "metadata": {},
   "source": []
  }
 ],
 "metadata": {
  "kernelspec": {
   "display_name": "Python 3",
   "language": "python",
   "name": "python3"
  },
  "language_info": {
   "codemirror_mode": {
    "name": "ipython",
    "version": 3
   },
   "file_extension": ".py",
   "mimetype": "text/x-python",
   "name": "python",
   "nbconvert_exporter": "python",
   "pygments_lexer": "ipython3",
   "version": "3.11.2"
  }
 },
 "nbformat": 4,
 "nbformat_minor": 2
}
