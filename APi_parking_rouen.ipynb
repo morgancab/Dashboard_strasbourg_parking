{
 "cells": [
  {
   "cell_type": "code",
   "execution_count": 28,
   "metadata": {},
   "outputs": [],
   "source": [
    "import requests\n",
    "import json \n",
    "import plotly.express as px\n",
    "import pandas as pd\n",
    "import numpy as np"
   ]
  },
  {
   "cell_type": "markdown",
   "metadata": {},
   "source": [
    "** Rouen Parking API**\n",
    "\n",
    "+ Using this API to get parking informaiton : https://data.strasbourg.eu/explore/dataset/parkings/table/\n",
    "+ Using this API to get real time information https://data.opendatasoft.com/explore/dataset/occupation-parkings-temps-reel%40eurometrostrasbourg/api/: "
   ]
  },
  {
   "cell_type": "markdown",
   "metadata": {},
   "source": []
  },
  {
   "cell_type": "code",
   "execution_count": 29,
   "metadata": {},
   "outputs": [
    {
     "data": {
      "text/plain": [
       "<Response [200]>"
      ]
     },
     "execution_count": 29,
     "metadata": {},
     "output_type": "execute_result"
    }
   ],
   "source": [
    "Parking_info = requests.get(\"https://data.strasbourg.eu/api/explore/v2.1/catalog/datasets/parkings/records?limit=100&timezone=europe%2FParis\") \n",
    "Parking_info"
   ]
  },
  {
   "cell_type": "code",
   "execution_count": 30,
   "metadata": {},
   "outputs": [
    {
     "data": {
      "text/html": [
       "<div>\n",
       "<style scoped>\n",
       "    .dataframe tbody tr th:only-of-type {\n",
       "        vertical-align: middle;\n",
       "    }\n",
       "\n",
       "    .dataframe tbody tr th {\n",
       "        vertical-align: top;\n",
       "    }\n",
       "\n",
       "    .dataframe thead th {\n",
       "        text-align: right;\n",
       "    }\n",
       "</style>\n",
       "<table border=\"1\" class=\"dataframe\">\n",
       "  <thead>\n",
       "    <tr style=\"text-align: right;\">\n",
       "      <th></th>\n",
       "      <th>city</th>\n",
       "      <th>friendlyurl</th>\n",
       "      <th>districtcode</th>\n",
       "      <th>description</th>\n",
       "      <th>address</th>\n",
       "      <th>types</th>\n",
       "      <th>name</th>\n",
       "      <th>idsurfs</th>\n",
       "      <th>zipcode</th>\n",
       "      <th>citycode</th>\n",
       "      <th>...</th>\n",
       "      <th>accessforelder</th>\n",
       "      <th>street</th>\n",
       "      <th>accessforwheelchair</th>\n",
       "      <th>accessfordeaf</th>\n",
       "      <th>normalizedalias</th>\n",
       "      <th>accessforblind</th>\n",
       "      <th>schedulelinkurl</th>\n",
       "      <th>hasurlschedule</th>\n",
       "      <th>position.lon</th>\n",
       "      <th>position.lat</th>\n",
       "    </tr>\n",
       "  </thead>\n",
       "  <tbody>\n",
       "    <tr>\n",
       "      <th>0</th>\n",
       "      <td>Strasbourg</td>\n",
       "      <td>https://www.strasbourg.eu/lieu/-/entity/id/452...</td>\n",
       "      <td>SQ_116</td>\n",
       "      <td>Afin de faciliter le stationnement de votre vé...</td>\n",
       "      <td>4 Rue Catherine Kany 67000 Strasbourg France</td>\n",
       "      <td>Cat_22_02</td>\n",
       "      <td>Parking Rhénapark</td>\n",
       "      <td>2471_DEP_64</td>\n",
       "      <td>67000</td>\n",
       "      <td>C_482</td>\n",
       "      <td>...</td>\n",
       "      <td>0</td>\n",
       "      <td>4 Rue Catherine Kany</td>\n",
       "      <td>1</td>\n",
       "      <td>0</td>\n",
       "      <td>parking-rhenapark</td>\n",
       "      <td>0</td>\n",
       "      <td>{}</td>\n",
       "      <td>0</td>\n",
       "      <td>7.792645</td>\n",
       "      <td>48.570974</td>\n",
       "    </tr>\n",
       "    <tr>\n",
       "      <th>1</th>\n",
       "      <td>Strasbourg</td>\n",
       "      <td>https://www.strasbourg.eu/lieu/-/entity/id/452...</td>\n",
       "      <td>SQ_112</td>\n",
       "      <td>Parking moyenne durée Reservation et location ...</td>\n",
       "      <td>4 rue Edmond Michelet 67000 Strasbourg France</td>\n",
       "      <td>Cat_22_02</td>\n",
       "      <td>Parking Danube Bleu</td>\n",
       "      <td>2472_DEP_65</td>\n",
       "      <td>67000</td>\n",
       "      <td>C_482</td>\n",
       "      <td>...</td>\n",
       "      <td>0</td>\n",
       "      <td>4 rue Edmond Michelet</td>\n",
       "      <td>1</td>\n",
       "      <td>0</td>\n",
       "      <td>parking-danube-bleu</td>\n",
       "      <td>0</td>\n",
       "      <td>{}</td>\n",
       "      <td>0</td>\n",
       "      <td>7.766533</td>\n",
       "      <td>48.572834</td>\n",
       "    </tr>\n",
       "  </tbody>\n",
       "</table>\n",
       "<p>2 rows × 22 columns</p>\n",
       "</div>"
      ],
      "text/plain": [
       "         city                                        friendlyurl districtcode  \\\n",
       "0  Strasbourg  https://www.strasbourg.eu/lieu/-/entity/id/452...       SQ_116   \n",
       "1  Strasbourg  https://www.strasbourg.eu/lieu/-/entity/id/452...       SQ_112   \n",
       "\n",
       "                                         description  \\\n",
       "0  Afin de faciliter le stationnement de votre vé...   \n",
       "1  Parking moyenne durée Reservation et location ...   \n",
       "\n",
       "                                         address      types  \\\n",
       "0   4 Rue Catherine Kany 67000 Strasbourg France  Cat_22_02   \n",
       "1  4 rue Edmond Michelet 67000 Strasbourg France  Cat_22_02   \n",
       "\n",
       "                  name      idsurfs zipcode citycode  ... accessforelder  \\\n",
       "0    Parking Rhénapark  2471_DEP_64   67000    C_482  ...              0   \n",
       "1  Parking Danube Bleu  2472_DEP_65   67000    C_482  ...              0   \n",
       "\n",
       "                  street  accessforwheelchair accessfordeaf  \\\n",
       "0   4 Rue Catherine Kany                    1             0   \n",
       "1  4 rue Edmond Michelet                    1             0   \n",
       "\n",
       "       normalizedalias  accessforblind schedulelinkurl  hasurlschedule  \\\n",
       "0    parking-rhenapark               0              {}               0   \n",
       "1  parking-danube-bleu               0              {}               0   \n",
       "\n",
       "  position.lon  position.lat  \n",
       "0     7.792645     48.570974  \n",
       "1     7.766533     48.572834  \n",
       "\n",
       "[2 rows x 22 columns]"
      ]
     },
     "execution_count": 30,
     "metadata": {},
     "output_type": "execute_result"
    }
   ],
   "source": [
    "Dump_parking_info = json.dumps(Parking_info.json())\n",
    "Loads_parking_info = json.loads(Dump_parking_info)  \n",
    "parking_info = pd.json_normalize(Loads_parking_info['results'])\n",
    "parking_info.head(2)"
   ]
  },
  {
   "cell_type": "markdown",
   "metadata": {},
   "source": [
    "**Real Time information**"
   ]
  },
  {
   "cell_type": "code",
   "execution_count": 31,
   "metadata": {},
   "outputs": [
    {
     "name": "stdout",
     "output_type": "stream",
     "text": [
      "2024-07-01 10:02:13\n"
     ]
    }
   ],
   "source": [
    "\n",
    "\n",
    "from datetime import datetime \n",
    "import pytz \n",
    "UTC = pytz.utc\n",
    "time_At_P = pytz.timezone('Europe/Paris') \n",
    "dt_time_P = datetime.now(time_At_P) \n",
    "print(dt_time_P.strftime(\"%Y-%m-%d %H:%M:%S\"))"
   ]
  },
  {
   "cell_type": "code",
   "execution_count": 32,
   "metadata": {},
   "outputs": [
    {
     "data": {
      "text/plain": [
       "<Response [200]>"
      ]
     },
     "execution_count": 32,
     "metadata": {},
     "output_type": "execute_result"
    }
   ],
   "source": [
    "Parking_reel_tine = requests.get(\"https://data.opendatasoft.com/api/explore/v2.1/catalog/datasets/occupation-parkings-temps-reel@eurometrostrasbourg/records?limit=100&timezone=europe%2FParis\") \n",
    "Parking_reel_tine"
   ]
  },
  {
   "cell_type": "code",
   "execution_count": 33,
   "metadata": {},
   "outputs": [
    {
     "data": {
      "text/html": [
       "<div>\n",
       "<style scoped>\n",
       "    .dataframe tbody tr th:only-of-type {\n",
       "        vertical-align: middle;\n",
       "    }\n",
       "\n",
       "    .dataframe tbody tr th {\n",
       "        vertical-align: top;\n",
       "    }\n",
       "\n",
       "    .dataframe thead th {\n",
       "        text-align: right;\n",
       "    }\n",
       "</style>\n",
       "<table border=\"1\" class=\"dataframe\">\n",
       "  <thead>\n",
       "    <tr style=\"text-align: right;\">\n",
       "      <th></th>\n",
       "      <th>nom_parking</th>\n",
       "      <th>idsurfs</th>\n",
       "      <th>ident</th>\n",
       "      <th>etat</th>\n",
       "      <th>etat_descriptif</th>\n",
       "      <th>total</th>\n",
       "      <th>libre</th>\n",
       "      <th>infousager</th>\n",
       "      <th>realtimestatus</th>\n",
       "      <th>infoappli</th>\n",
       "      <th>Occupee</th>\n",
       "      <th>percentage_occupe</th>\n",
       "    </tr>\n",
       "  </thead>\n",
       "  <tbody>\n",
       "    <tr>\n",
       "      <th>0</th>\n",
       "      <td>Parking Gare Wodli</td>\n",
       "      <td>1382_DEP_8</td>\n",
       "      <td>10</td>\n",
       "      <td>1</td>\n",
       "      <td>Ouvert</td>\n",
       "      <td>955</td>\n",
       "      <td>385</td>\n",
       "      <td>380</td>\n",
       "      <td>GREEN</td>\n",
       "      <td>385</td>\n",
       "      <td>570</td>\n",
       "      <td>0.596859</td>\n",
       "    </tr>\n",
       "    <tr>\n",
       "      <th>1</th>\n",
       "      <td>Parking Zénith</td>\n",
       "      <td>1400_DEP_26</td>\n",
       "      <td>1</td>\n",
       "      <td>2</td>\n",
       "      <td>Fermé</td>\n",
       "      <td>3175</td>\n",
       "      <td>3140</td>\n",
       "      <td>0</td>\n",
       "      <td>BLACK</td>\n",
       "      <td>Fermé</td>\n",
       "      <td>35</td>\n",
       "      <td>0.011024</td>\n",
       "    </tr>\n",
       "    <tr>\n",
       "      <th>2</th>\n",
       "      <td>Parking Centre Opéra Broglie</td>\n",
       "      <td>1378_DEP_4</td>\n",
       "      <td>3</td>\n",
       "      <td>1</td>\n",
       "      <td>Ouvert</td>\n",
       "      <td>447</td>\n",
       "      <td>161</td>\n",
       "      <td>160</td>\n",
       "      <td>GREEN</td>\n",
       "      <td>161</td>\n",
       "      <td>286</td>\n",
       "      <td>0.639821</td>\n",
       "    </tr>\n",
       "  </tbody>\n",
       "</table>\n",
       "</div>"
      ],
      "text/plain": [
       "                    nom_parking      idsurfs  ident  etat etat_descriptif  \\\n",
       "0            Parking Gare Wodli   1382_DEP_8     10     1          Ouvert   \n",
       "1                Parking Zénith  1400_DEP_26      1     2           Fermé   \n",
       "2  Parking Centre Opéra Broglie   1378_DEP_4      3     1          Ouvert   \n",
       "\n",
       "   total  libre  infousager realtimestatus infoappli  Occupee  \\\n",
       "0    955    385         380          GREEN       385      570   \n",
       "1   3175   3140           0          BLACK     Fermé       35   \n",
       "2    447    161         160          GREEN       161      286   \n",
       "\n",
       "   percentage_occupe  \n",
       "0           0.596859  \n",
       "1           0.011024  \n",
       "2           0.639821  "
      ]
     },
     "execution_count": 33,
     "metadata": {},
     "output_type": "execute_result"
    }
   ],
   "source": [
    "Dump_RT_parking = json.dumps(Parking_reel_tine.json())\n",
    "Loads_RT_parking = json.loads(Dump_RT_parking)  \n",
    "RT_parking = pd.json_normalize(Loads_RT_parking['results'])\n",
    "\n",
    "#Compute data\n",
    "RT_parking[\"Occupee\"] = RT_parking[\"total\"]  - RT_parking[\"libre\"] \n",
    "RT_parking[\"percentage_occupe\"] = RT_parking[\"Occupee\"]  / RT_parking[\"total\"]  \n",
    "\n",
    "RT_parking.head(3)"
   ]
  },
  {
   "cell_type": "code",
   "execution_count": 34,
   "metadata": {},
   "outputs": [],
   "source": [
    "parking_info = parking_info[[\"name\" , \"position.lon\",\t\"position.lat\"]]\n",
    "RT_parking = RT_parking.merge(parking_info, how='inner' , left_on='nom_parking' , right_on = 'name')"
   ]
  },
  {
   "cell_type": "code",
   "execution_count": 35,
   "metadata": {},
   "outputs": [],
   "source": [
    "RT_parking\n",
    "#RT_parking.loc[RT_parking['etat_descriptif'] == \"Ouvert\"]\n",
    "RT_parking_ouvert = RT_parking.loc[RT_parking['etat_descriptif'] == \"Ouvert\"]\n",
    "RT_parking_ferme = RT_parking.loc[RT_parking['etat_descriptif'] == \"Fermé\"]\n",
    "RT_parking_not_available = RT_parking.loc[RT_parking['etat_descriptif'] == \"frequentation temps reel indisponible\"]"
   ]
  },
  {
   "cell_type": "markdown",
   "metadata": {},
   "source": [
    "# Top 3 sites with bigger fullness"
   ]
  },
  {
   "cell_type": "code",
   "execution_count": 10,
   "metadata": {},
   "outputs": [
    {
     "data": {
      "text/html": [
       "<div>\n",
       "<style scoped>\n",
       "    .dataframe tbody tr th:only-of-type {\n",
       "        vertical-align: middle;\n",
       "    }\n",
       "\n",
       "    .dataframe tbody tr th {\n",
       "        vertical-align: top;\n",
       "    }\n",
       "\n",
       "    .dataframe thead th {\n",
       "        text-align: right;\n",
       "    }\n",
       "</style>\n",
       "<table border=\"1\" class=\"dataframe\">\n",
       "  <thead>\n",
       "    <tr style=\"text-align: right;\">\n",
       "      <th></th>\n",
       "      <th>nom_parking</th>\n",
       "      <th>idsurfs</th>\n",
       "      <th>ident</th>\n",
       "      <th>etat</th>\n",
       "      <th>etat_descriptif</th>\n",
       "      <th>total</th>\n",
       "      <th>libre</th>\n",
       "      <th>infousager</th>\n",
       "      <th>realtimestatus</th>\n",
       "      <th>infoappli</th>\n",
       "      <th>Occupee</th>\n",
       "      <th>percentage_occupe</th>\n",
       "      <th>name</th>\n",
       "      <th>position.lon</th>\n",
       "      <th>position.lat</th>\n",
       "    </tr>\n",
       "  </thead>\n",
       "  <tbody>\n",
       "    <tr>\n",
       "      <th>16</th>\n",
       "      <td>Parking Rotonde</td>\n",
       "      <td>1394_DEP_20</td>\n",
       "      <td>7</td>\n",
       "      <td>1</td>\n",
       "      <td>Ouvert</td>\n",
       "      <td>450</td>\n",
       "      <td>21</td>\n",
       "      <td>20</td>\n",
       "      <td>RED</td>\n",
       "      <td>21</td>\n",
       "      <td>429</td>\n",
       "      <td>0.953333</td>\n",
       "      <td>Parking Rotonde</td>\n",
       "      <td>7.726101</td>\n",
       "      <td>48.591226</td>\n",
       "    </tr>\n",
       "    <tr>\n",
       "      <th>2</th>\n",
       "      <td>Parking Centre Opéra Broglie</td>\n",
       "      <td>1378_DEP_4</td>\n",
       "      <td>3</td>\n",
       "      <td>1</td>\n",
       "      <td>Ouvert</td>\n",
       "      <td>447</td>\n",
       "      <td>36</td>\n",
       "      <td>30</td>\n",
       "      <td>RED</td>\n",
       "      <td>36</td>\n",
       "      <td>411</td>\n",
       "      <td>0.919463</td>\n",
       "      <td>Parking Centre Opéra Broglie</td>\n",
       "      <td>7.749275</td>\n",
       "      <td>48.585689</td>\n",
       "    </tr>\n",
       "    <tr>\n",
       "      <th>4</th>\n",
       "      <td>Parking Bateliers</td>\n",
       "      <td>1377_DEP_3</td>\n",
       "      <td>2</td>\n",
       "      <td>1</td>\n",
       "      <td>Ouvert</td>\n",
       "      <td>283</td>\n",
       "      <td>32</td>\n",
       "      <td>30</td>\n",
       "      <td>RED</td>\n",
       "      <td>32</td>\n",
       "      <td>251</td>\n",
       "      <td>0.886926</td>\n",
       "      <td>Parking Bateliers</td>\n",
       "      <td>7.756048</td>\n",
       "      <td>48.581002</td>\n",
       "    </tr>\n",
       "  </tbody>\n",
       "</table>\n",
       "</div>"
      ],
      "text/plain": [
       "                     nom_parking      idsurfs  ident  etat etat_descriptif  \\\n",
       "16               Parking Rotonde  1394_DEP_20      7     1          Ouvert   \n",
       "2   Parking Centre Opéra Broglie   1378_DEP_4      3     1          Ouvert   \n",
       "4              Parking Bateliers   1377_DEP_3      2     1          Ouvert   \n",
       "\n",
       "    total  libre  infousager realtimestatus infoappli  Occupee  \\\n",
       "16    450     21          20            RED        21      429   \n",
       "2     447     36          30            RED        36      411   \n",
       "4     283     32          30            RED        32      251   \n",
       "\n",
       "    percentage_occupe                          name  position.lon  \\\n",
       "16           0.953333               Parking Rotonde      7.726101   \n",
       "2            0.919463  Parking Centre Opéra Broglie      7.749275   \n",
       "4            0.886926             Parking Bateliers      7.756048   \n",
       "\n",
       "    position.lat  \n",
       "16     48.591226  \n",
       "2      48.585689  \n",
       "4      48.581002  "
      ]
     },
     "execution_count": 10,
     "metadata": {},
     "output_type": "execute_result"
    }
   ],
   "source": [
    "RT_parking_ouvert.sort_values(by='percentage_occupe', ascending=False).head(3)"
   ]
  },
  {
   "cell_type": "markdown",
   "metadata": {},
   "source": [
    "## Average % occupation"
   ]
  },
  {
   "cell_type": "code",
   "execution_count": 11,
   "metadata": {},
   "outputs": [
    {
     "data": {
      "text/plain": [
       "0.567"
      ]
     },
     "execution_count": 11,
     "metadata": {},
     "output_type": "execute_result"
    }
   ],
   "source": [
    "round(sum(RT_parking[\"Occupee\"]) / sum(RT_parking[\"total\"]) ,3)"
   ]
  },
  {
   "cell_type": "markdown",
   "metadata": {},
   "source": [
    "## Numbre place dispo/occupe"
   ]
  },
  {
   "cell_type": "code",
   "execution_count": 12,
   "metadata": {},
   "outputs": [
    {
     "name": "stdout",
     "output_type": "stream",
     "text": [
      "6874 9008 15882\n"
     ]
    }
   ],
   "source": [
    "NBR_place_libre = sum(RT_parking[\"libre\"])\n",
    "NBR_place_occupe = sum(RT_parking[\"Occupee\"])\n",
    "nbr_place_total  = sum(RT_parking[\"total\"])\n",
    "print(NBR_place_libre,NBR_place_occupe , nbr_place_total)"
   ]
  },
  {
   "cell_type": "markdown",
   "metadata": {},
   "source": [
    "## Nombre parking close"
   ]
  },
  {
   "cell_type": "code",
   "execution_count": 13,
   "metadata": {},
   "outputs": [
    {
     "data": {
      "text/plain": [
       "'Parking Zénith'"
      ]
     },
     "execution_count": 13,
     "metadata": {},
     "output_type": "execute_result"
    }
   ],
   "source": [
    "#close_site = RT_parking_not_available[\"nom_parking\"].unique()\n",
    "\n",
    "close_site = RT_parking_ferme[\"nom_parking\"].unique()\n",
    "' ,'.join(close_site)"
   ]
  },
  {
   "cell_type": "markdown",
   "metadata": {},
   "source": [
    "## Bar plot occupation\n"
   ]
  },
  {
   "cell_type": "code",
   "execution_count": 14,
   "metadata": {},
   "outputs": [],
   "source": [
    "#import package\n",
    "import plotly.io as pio\n",
    "\n",
    "#And the following will do the trick:\n",
    "pio.templates.default = \"plotly\""
   ]
  },
  {
   "cell_type": "code",
   "execution_count": 16,
   "metadata": {},
   "outputs": [],
   "source": [
    "a= RT_parking_ouvert.sort_values('percentage_occupe', ascending=False)['nom_parking'].to_list()"
   ]
  },
  {
   "cell_type": "code",
   "execution_count": 101,
   "metadata": {},
   "outputs": [],
   "source": []
  },
  {
   "cell_type": "code",
   "execution_count": 146,
   "metadata": {},
   "outputs": [
    {
     "data": {
      "application/vnd.plotly.v1+json": {
       "config": {
        "plotlyServerURL": "https://plot.ly"
       },
       "data": [
        {
         "hovertemplate": [
          "<b> Parking Gare Wodli </b><br><b>État : </b> Ouvert </b><br><b>Places : %{y} </b> ",
          "<b> Parking Centre Opéra Broglie </b><br><b>État : </b> Ouvert </b><br><b>Places : %{y} </b> ",
          "<b> Parking Baggersee </b><br><b>État : </b> Ouvert </b><br><b>Places : %{y} </b> ",
          "<b> Parking Bateliers </b><br><b>État : </b> Ouvert </b><br><b>Places : %{y} </b> ",
          "<b> Parking Austerlitz </b><br><b>État : </b> Ouvert </b><br><b>Places : %{y} </b> ",
          "<b> Parking Gutenberg </b><br><b>État : </b> Ouvert </b><br><b>Places : %{y} </b> ",
          "<b> Parking Kleber Homme de fer </b><br><b>État : </b> Ouvert </b><br><b>Places : %{y} </b> ",
          "<b> Parking Robertsau Boecklin </b><br><b>État : </b> Ouvert </b><br><b>Places : %{y} </b> ",
          "<b> Parking Rives de l'Aar </b><br><b>État : </b> Ouvert </b><br><b>Places : %{y} </b> ",
          "<b> Parking Saint Nicolas </b><br><b>État : </b> Ouvert </b><br><b>Places : %{y} </b> ",
          "<b> Parking Ducs d'Alsace </b><br><b>État : </b> Ouvert </b><br><b>Places : %{y} </b> ",
          "<b> Parking Elsau </b><br><b>État : </b> Ouvert </b><br><b>Places : %{y} </b> ",
          "<b> Parking Rotonde </b><br><b>État : </b> Ouvert </b><br><b>Places : %{y} </b> ",
          "<b> Parking Gare courte durée </b><br><b>État : </b> Ouvert </b><br><b>Places : %{y} </b> ",
          "<b> Parking Hoenheim gare </b><br><b>État : </b> Ouvert </b><br><b>Places : %{y} </b> ",
          "<b> Parking Poteries </b><br><b>État : </b> Ouvert </b><br><b>Places : %{y} </b> ",
          "<b> Parking Espace européen de l'entreprise </b><br><b>État : </b> Ouvert </b><br><b>Places : %{y} </b> ",
          "<b> Parking Rivetoile </b><br><b>État : </b> Ouvert </b><br><b>Places : %{y} </b> ",
          "<b> P1 Esplanade - Centre commercial </b><br><b>État : </b> Ouvert </b><br><b>Places : %{y} </b> ",
          "<b> Parking Coubertin </b><br><b>État : </b> Ouvert </b><br><b>Places : %{y} </b> "
         ],
         "marker": {
          "color": "grey"
         },
         "name": "total",
         "opacity": 0.6,
         "type": "bar",
         "width": 0.95,
         "x": [
          "Parking Gare Wodli",
          "Parking Centre Opéra Broglie",
          "Parking Baggersee",
          "Parking Bateliers",
          "Parking Austerlitz",
          "Parking Gutenberg",
          "Parking Kleber Homme de fer",
          "Parking Robertsau Boecklin",
          "Parking Rives de l'Aar",
          "Parking Saint Nicolas",
          "Parking Ducs d'Alsace",
          "Parking Elsau",
          "Parking Rotonde",
          "Parking Gare courte durée",
          "Parking Hoenheim gare",
          "Parking Poteries",
          "Parking Espace européen de l'entreprise",
          "Parking Rivetoile",
          "P1 Esplanade - Centre commercial",
          "Parking Coubertin"
         ],
         "y": [
          955,
          447,
          460,
          283,
          482,
          244,
          462,
          92,
          456,
          360,
          600,
          220,
          450,
          188,
          340,
          102,
          170,
          1132,
          251,
          719
         ]
        },
        {
         "hovertemplate": [
          "<b> Parking Gare Wodli </b><br><b>État : </b> Ouvert </b><br><b>Places : %{y} </b> ",
          "<b> Parking Centre Opéra Broglie </b><br><b>État : </b> Ouvert </b><br><b>Places : %{y} </b> ",
          "<b> Parking Baggersee </b><br><b>État : </b> Ouvert </b><br><b>Places : %{y} </b> ",
          "<b> Parking Bateliers </b><br><b>État : </b> Ouvert </b><br><b>Places : %{y} </b> ",
          "<b> Parking Austerlitz </b><br><b>État : </b> Ouvert </b><br><b>Places : %{y} </b> ",
          "<b> Parking Gutenberg </b><br><b>État : </b> Ouvert </b><br><b>Places : %{y} </b> ",
          "<b> Parking Kleber Homme de fer </b><br><b>État : </b> Ouvert </b><br><b>Places : %{y} </b> ",
          "<b> Parking Robertsau Boecklin </b><br><b>État : </b> Ouvert </b><br><b>Places : %{y} </b> ",
          "<b> Parking Rives de l'Aar </b><br><b>État : </b> Ouvert </b><br><b>Places : %{y} </b> ",
          "<b> Parking Saint Nicolas </b><br><b>État : </b> Ouvert </b><br><b>Places : %{y} </b> ",
          "<b> Parking Ducs d'Alsace </b><br><b>État : </b> Ouvert </b><br><b>Places : %{y} </b> ",
          "<b> Parking Elsau </b><br><b>État : </b> Ouvert </b><br><b>Places : %{y} </b> ",
          "<b> Parking Rotonde </b><br><b>État : </b> Ouvert </b><br><b>Places : %{y} </b> ",
          "<b> Parking Gare courte durée </b><br><b>État : </b> Ouvert </b><br><b>Places : %{y} </b> ",
          "<b> Parking Hoenheim gare </b><br><b>État : </b> Ouvert </b><br><b>Places : %{y} </b> ",
          "<b> Parking Poteries </b><br><b>État : </b> Ouvert </b><br><b>Places : %{y} </b> ",
          "<b> Parking Espace européen de l'entreprise </b><br><b>État : </b> Ouvert </b><br><b>Places : %{y} </b> ",
          "<b> Parking Rivetoile </b><br><b>État : </b> Ouvert </b><br><b>Places : %{y} </b> ",
          "<b> P1 Esplanade - Centre commercial </b><br><b>État : </b> Ouvert </b><br><b>Places : %{y} </b> ",
          "<b> Parking Coubertin </b><br><b>État : </b> Ouvert </b><br><b>Places : %{y} </b> "
         ],
         "marker": {
          "color": [
           "GREEN",
           "GREEN",
           "GREEN",
           "GREEN",
           "GREEN",
           "GREEN",
           "GREEN",
           "ORANGE",
           "GREEN",
           "GREEN",
           "GREEN",
           "GREEN",
           "GREEN",
           "GREEN",
           "GREEN",
           "ORANGE",
           "GREEN",
           "GREEN",
           "GREEN",
           "GREEN"
          ]
         },
         "name": "Occupee",
         "type": "bar",
         "width": 0.95,
         "x": [
          "Parking Gare Wodli",
          "Parking Centre Opéra Broglie",
          "Parking Baggersee",
          "Parking Bateliers",
          "Parking Austerlitz",
          "Parking Gutenberg",
          "Parking Kleber Homme de fer",
          "Parking Robertsau Boecklin",
          "Parking Rives de l'Aar",
          "Parking Saint Nicolas",
          "Parking Ducs d'Alsace",
          "Parking Elsau",
          "Parking Rotonde",
          "Parking Gare courte durée",
          "Parking Hoenheim gare",
          "Parking Poteries",
          "Parking Espace européen de l'entreprise",
          "Parking Rivetoile",
          "P1 Esplanade - Centre commercial",
          "Parking Coubertin"
         ],
         "y": [
          570,
          286,
          139,
          139,
          193,
          72,
          202,
          60,
          329,
          119,
          150,
          38,
          347,
          57,
          123,
          81,
          61,
          217,
          121,
          309
         ]
        }
       ],
       "layout": {
        "barmode": "overlay",
        "template": {
         "data": {
          "bar": [
           {
            "error_x": {
             "color": "#2a3f5f"
            },
            "error_y": {
             "color": "#2a3f5f"
            },
            "marker": {
             "line": {
              "color": "#E5ECF6",
              "width": 0.5
             },
             "pattern": {
              "fillmode": "overlay",
              "size": 10,
              "solidity": 0.2
             }
            },
            "type": "bar"
           }
          ],
          "barpolar": [
           {
            "marker": {
             "line": {
              "color": "#E5ECF6",
              "width": 0.5
             },
             "pattern": {
              "fillmode": "overlay",
              "size": 10,
              "solidity": 0.2
             }
            },
            "type": "barpolar"
           }
          ],
          "carpet": [
           {
            "aaxis": {
             "endlinecolor": "#2a3f5f",
             "gridcolor": "white",
             "linecolor": "white",
             "minorgridcolor": "white",
             "startlinecolor": "#2a3f5f"
            },
            "baxis": {
             "endlinecolor": "#2a3f5f",
             "gridcolor": "white",
             "linecolor": "white",
             "minorgridcolor": "white",
             "startlinecolor": "#2a3f5f"
            },
            "type": "carpet"
           }
          ],
          "choropleth": [
           {
            "colorbar": {
             "outlinewidth": 0,
             "ticks": ""
            },
            "type": "choropleth"
           }
          ],
          "contour": [
           {
            "colorbar": {
             "outlinewidth": 0,
             "ticks": ""
            },
            "colorscale": [
             [
              0,
              "#0d0887"
             ],
             [
              0.1111111111111111,
              "#46039f"
             ],
             [
              0.2222222222222222,
              "#7201a8"
             ],
             [
              0.3333333333333333,
              "#9c179e"
             ],
             [
              0.4444444444444444,
              "#bd3786"
             ],
             [
              0.5555555555555556,
              "#d8576b"
             ],
             [
              0.6666666666666666,
              "#ed7953"
             ],
             [
              0.7777777777777778,
              "#fb9f3a"
             ],
             [
              0.8888888888888888,
              "#fdca26"
             ],
             [
              1,
              "#f0f921"
             ]
            ],
            "type": "contour"
           }
          ],
          "contourcarpet": [
           {
            "colorbar": {
             "outlinewidth": 0,
             "ticks": ""
            },
            "type": "contourcarpet"
           }
          ],
          "heatmap": [
           {
            "colorbar": {
             "outlinewidth": 0,
             "ticks": ""
            },
            "colorscale": [
             [
              0,
              "#0d0887"
             ],
             [
              0.1111111111111111,
              "#46039f"
             ],
             [
              0.2222222222222222,
              "#7201a8"
             ],
             [
              0.3333333333333333,
              "#9c179e"
             ],
             [
              0.4444444444444444,
              "#bd3786"
             ],
             [
              0.5555555555555556,
              "#d8576b"
             ],
             [
              0.6666666666666666,
              "#ed7953"
             ],
             [
              0.7777777777777778,
              "#fb9f3a"
             ],
             [
              0.8888888888888888,
              "#fdca26"
             ],
             [
              1,
              "#f0f921"
             ]
            ],
            "type": "heatmap"
           }
          ],
          "heatmapgl": [
           {
            "colorbar": {
             "outlinewidth": 0,
             "ticks": ""
            },
            "colorscale": [
             [
              0,
              "#0d0887"
             ],
             [
              0.1111111111111111,
              "#46039f"
             ],
             [
              0.2222222222222222,
              "#7201a8"
             ],
             [
              0.3333333333333333,
              "#9c179e"
             ],
             [
              0.4444444444444444,
              "#bd3786"
             ],
             [
              0.5555555555555556,
              "#d8576b"
             ],
             [
              0.6666666666666666,
              "#ed7953"
             ],
             [
              0.7777777777777778,
              "#fb9f3a"
             ],
             [
              0.8888888888888888,
              "#fdca26"
             ],
             [
              1,
              "#f0f921"
             ]
            ],
            "type": "heatmapgl"
           }
          ],
          "histogram": [
           {
            "marker": {
             "pattern": {
              "fillmode": "overlay",
              "size": 10,
              "solidity": 0.2
             }
            },
            "type": "histogram"
           }
          ],
          "histogram2d": [
           {
            "colorbar": {
             "outlinewidth": 0,
             "ticks": ""
            },
            "colorscale": [
             [
              0,
              "#0d0887"
             ],
             [
              0.1111111111111111,
              "#46039f"
             ],
             [
              0.2222222222222222,
              "#7201a8"
             ],
             [
              0.3333333333333333,
              "#9c179e"
             ],
             [
              0.4444444444444444,
              "#bd3786"
             ],
             [
              0.5555555555555556,
              "#d8576b"
             ],
             [
              0.6666666666666666,
              "#ed7953"
             ],
             [
              0.7777777777777778,
              "#fb9f3a"
             ],
             [
              0.8888888888888888,
              "#fdca26"
             ],
             [
              1,
              "#f0f921"
             ]
            ],
            "type": "histogram2d"
           }
          ],
          "histogram2dcontour": [
           {
            "colorbar": {
             "outlinewidth": 0,
             "ticks": ""
            },
            "colorscale": [
             [
              0,
              "#0d0887"
             ],
             [
              0.1111111111111111,
              "#46039f"
             ],
             [
              0.2222222222222222,
              "#7201a8"
             ],
             [
              0.3333333333333333,
              "#9c179e"
             ],
             [
              0.4444444444444444,
              "#bd3786"
             ],
             [
              0.5555555555555556,
              "#d8576b"
             ],
             [
              0.6666666666666666,
              "#ed7953"
             ],
             [
              0.7777777777777778,
              "#fb9f3a"
             ],
             [
              0.8888888888888888,
              "#fdca26"
             ],
             [
              1,
              "#f0f921"
             ]
            ],
            "type": "histogram2dcontour"
           }
          ],
          "mesh3d": [
           {
            "colorbar": {
             "outlinewidth": 0,
             "ticks": ""
            },
            "type": "mesh3d"
           }
          ],
          "parcoords": [
           {
            "line": {
             "colorbar": {
              "outlinewidth": 0,
              "ticks": ""
             }
            },
            "type": "parcoords"
           }
          ],
          "pie": [
           {
            "automargin": true,
            "type": "pie"
           }
          ],
          "scatter": [
           {
            "fillpattern": {
             "fillmode": "overlay",
             "size": 10,
             "solidity": 0.2
            },
            "type": "scatter"
           }
          ],
          "scatter3d": [
           {
            "line": {
             "colorbar": {
              "outlinewidth": 0,
              "ticks": ""
             }
            },
            "marker": {
             "colorbar": {
              "outlinewidth": 0,
              "ticks": ""
             }
            },
            "type": "scatter3d"
           }
          ],
          "scattercarpet": [
           {
            "marker": {
             "colorbar": {
              "outlinewidth": 0,
              "ticks": ""
             }
            },
            "type": "scattercarpet"
           }
          ],
          "scattergeo": [
           {
            "marker": {
             "colorbar": {
              "outlinewidth": 0,
              "ticks": ""
             }
            },
            "type": "scattergeo"
           }
          ],
          "scattergl": [
           {
            "marker": {
             "colorbar": {
              "outlinewidth": 0,
              "ticks": ""
             }
            },
            "type": "scattergl"
           }
          ],
          "scattermapbox": [
           {
            "marker": {
             "colorbar": {
              "outlinewidth": 0,
              "ticks": ""
             }
            },
            "type": "scattermapbox"
           }
          ],
          "scatterpolar": [
           {
            "marker": {
             "colorbar": {
              "outlinewidth": 0,
              "ticks": ""
             }
            },
            "type": "scatterpolar"
           }
          ],
          "scatterpolargl": [
           {
            "marker": {
             "colorbar": {
              "outlinewidth": 0,
              "ticks": ""
             }
            },
            "type": "scatterpolargl"
           }
          ],
          "scatterternary": [
           {
            "marker": {
             "colorbar": {
              "outlinewidth": 0,
              "ticks": ""
             }
            },
            "type": "scatterternary"
           }
          ],
          "surface": [
           {
            "colorbar": {
             "outlinewidth": 0,
             "ticks": ""
            },
            "colorscale": [
             [
              0,
              "#0d0887"
             ],
             [
              0.1111111111111111,
              "#46039f"
             ],
             [
              0.2222222222222222,
              "#7201a8"
             ],
             [
              0.3333333333333333,
              "#9c179e"
             ],
             [
              0.4444444444444444,
              "#bd3786"
             ],
             [
              0.5555555555555556,
              "#d8576b"
             ],
             [
              0.6666666666666666,
              "#ed7953"
             ],
             [
              0.7777777777777778,
              "#fb9f3a"
             ],
             [
              0.8888888888888888,
              "#fdca26"
             ],
             [
              1,
              "#f0f921"
             ]
            ],
            "type": "surface"
           }
          ],
          "table": [
           {
            "cells": {
             "fill": {
              "color": "#EBF0F8"
             },
             "line": {
              "color": "white"
             }
            },
            "header": {
             "fill": {
              "color": "#C8D4E3"
             },
             "line": {
              "color": "white"
             }
            },
            "type": "table"
           }
          ]
         },
         "layout": {
          "annotationdefaults": {
           "arrowcolor": "#2a3f5f",
           "arrowhead": 0,
           "arrowwidth": 1
          },
          "autotypenumbers": "strict",
          "coloraxis": {
           "colorbar": {
            "outlinewidth": 0,
            "ticks": ""
           }
          },
          "colorscale": {
           "diverging": [
            [
             0,
             "#8e0152"
            ],
            [
             0.1,
             "#c51b7d"
            ],
            [
             0.2,
             "#de77ae"
            ],
            [
             0.3,
             "#f1b6da"
            ],
            [
             0.4,
             "#fde0ef"
            ],
            [
             0.5,
             "#f7f7f7"
            ],
            [
             0.6,
             "#e6f5d0"
            ],
            [
             0.7,
             "#b8e186"
            ],
            [
             0.8,
             "#7fbc41"
            ],
            [
             0.9,
             "#4d9221"
            ],
            [
             1,
             "#276419"
            ]
           ],
           "sequential": [
            [
             0,
             "#0d0887"
            ],
            [
             0.1111111111111111,
             "#46039f"
            ],
            [
             0.2222222222222222,
             "#7201a8"
            ],
            [
             0.3333333333333333,
             "#9c179e"
            ],
            [
             0.4444444444444444,
             "#bd3786"
            ],
            [
             0.5555555555555556,
             "#d8576b"
            ],
            [
             0.6666666666666666,
             "#ed7953"
            ],
            [
             0.7777777777777778,
             "#fb9f3a"
            ],
            [
             0.8888888888888888,
             "#fdca26"
            ],
            [
             1,
             "#f0f921"
            ]
           ],
           "sequentialminus": [
            [
             0,
             "#0d0887"
            ],
            [
             0.1111111111111111,
             "#46039f"
            ],
            [
             0.2222222222222222,
             "#7201a8"
            ],
            [
             0.3333333333333333,
             "#9c179e"
            ],
            [
             0.4444444444444444,
             "#bd3786"
            ],
            [
             0.5555555555555556,
             "#d8576b"
            ],
            [
             0.6666666666666666,
             "#ed7953"
            ],
            [
             0.7777777777777778,
             "#fb9f3a"
            ],
            [
             0.8888888888888888,
             "#fdca26"
            ],
            [
             1,
             "#f0f921"
            ]
           ]
          },
          "colorway": [
           "#636efa",
           "#EF553B",
           "#00cc96",
           "#ab63fa",
           "#FFA15A",
           "#19d3f3",
           "#FF6692",
           "#B6E880",
           "#FF97FF",
           "#FECB52"
          ],
          "font": {
           "color": "#2a3f5f"
          },
          "geo": {
           "bgcolor": "white",
           "lakecolor": "white",
           "landcolor": "#E5ECF6",
           "showlakes": true,
           "showland": true,
           "subunitcolor": "white"
          },
          "hoverlabel": {
           "align": "left"
          },
          "hovermode": "closest",
          "mapbox": {
           "style": "light"
          },
          "paper_bgcolor": "white",
          "plot_bgcolor": "#E5ECF6",
          "polar": {
           "angularaxis": {
            "gridcolor": "white",
            "linecolor": "white",
            "ticks": ""
           },
           "bgcolor": "#E5ECF6",
           "radialaxis": {
            "gridcolor": "white",
            "linecolor": "white",
            "ticks": ""
           }
          },
          "scene": {
           "xaxis": {
            "backgroundcolor": "#E5ECF6",
            "gridcolor": "white",
            "gridwidth": 2,
            "linecolor": "white",
            "showbackground": true,
            "ticks": "",
            "zerolinecolor": "white"
           },
           "yaxis": {
            "backgroundcolor": "#E5ECF6",
            "gridcolor": "white",
            "gridwidth": 2,
            "linecolor": "white",
            "showbackground": true,
            "ticks": "",
            "zerolinecolor": "white"
           },
           "zaxis": {
            "backgroundcolor": "#E5ECF6",
            "gridcolor": "white",
            "gridwidth": 2,
            "linecolor": "white",
            "showbackground": true,
            "ticks": "",
            "zerolinecolor": "white"
           }
          },
          "shapedefaults": {
           "line": {
            "color": "#2a3f5f"
           }
          },
          "ternary": {
           "aaxis": {
            "gridcolor": "white",
            "linecolor": "white",
            "ticks": ""
           },
           "baxis": {
            "gridcolor": "white",
            "linecolor": "white",
            "ticks": ""
           },
           "bgcolor": "#E5ECF6",
           "caxis": {
            "gridcolor": "white",
            "linecolor": "white",
            "ticks": ""
           }
          },
          "title": {
           "x": 0.05
          },
          "xaxis": {
           "automargin": true,
           "gridcolor": "white",
           "linecolor": "white",
           "ticks": "",
           "title": {
            "standoff": 15
           },
           "zerolinecolor": "white",
           "zerolinewidth": 2
          },
          "yaxis": {
           "automargin": true,
           "gridcolor": "white",
           "linecolor": "white",
           "ticks": "",
           "title": {
            "standoff": 15
           },
           "zerolinecolor": "white",
           "zerolinewidth": 2
          }
         }
        },
        "title": {
         "text": "Occupation parking Strasbourg"
        },
        "xaxis": {
         "anchor": "y",
         "categoryarray": [
          "Parking Poteries",
          "Parking Rotonde",
          "Parking Rives de l'Aar",
          "Parking Robertsau Boecklin",
          "Parking Centre Opéra Broglie",
          "Parking Gare Wodli",
          "Parking Bateliers",
          "P1 Esplanade - Centre commercial",
          "Parking Kleber Homme de fer",
          "Parking Coubertin",
          "Parking Austerlitz",
          "Parking Hoenheim gare",
          "Parking Espace européen de l'entreprise",
          "Parking Saint Nicolas",
          "Parking Gare courte durée",
          "Parking Baggersee",
          "Parking Gutenberg",
          "Parking Ducs d'Alsace",
          "Parking Rivetoile",
          "Parking Elsau"
         ],
         "categoryorder": "array",
         "domain": [
          0,
          1
         ]
        },
        "yaxis": {
         "anchor": "x",
         "domain": [
          0,
          1
         ],
         "title": {
          "text": "Occupation"
         }
        }
       }
      }
     },
     "metadata": {},
     "output_type": "display_data"
    }
   ],
   "source": [
    "Sorting_order = RT_parking_ouvert.sort_values('percentage_occupe', ascending=False)['nom_parking'].to_list()\n",
    "customdata = np.dstack((RT_parking_ouvert['total']))\n",
    "\n",
    "fig1 = make_subplots(shared_yaxes=True, shared_xaxes=True  )\n",
    "fig1.add_bar(x=RT_parking_ouvert['nom_parking'],y=RT_parking_ouvert['total'],opacity=0.6,width=0.95,name='total',hovertemplate='%{y}',marker_color='grey')\n",
    "fig1.add_bar(x=RT_parking_ouvert['nom_parking'],y=RT_parking_ouvert['Occupee'],width=0.95,name='Occupee',marker_color=RT_parking_ouvert['realtimestatus'] )\n",
    "fig1.update_layout(barmode='overlay', \n",
    "                  title= \"Occupation parking Strasbourg\",\n",
    "                  yaxis_title='Occupation',\n",
    "                    xaxis={'categoryorder':'array', 'categoryarray':Sorting_order},)\n",
    "\n",
    "fig1.update_traces(\n",
    "    hovertemplate = \"<b> \" + RT_parking_ouvert['nom_parking'] + \" </b><br>\"   +  \n",
    "                   \"<b>État : </b> \" + RT_parking_ouvert['etat_descriptif'] + \" </b><br>\"   + \n",
    "                  \"<b>Places : %{y} </b> \" )\n"
   ]
  },
  {
   "cell_type": "markdown",
   "metadata": {},
   "source": [
    "## Maps creation\n"
   ]
  },
  {
   "cell_type": "code",
   "execution_count": 56,
   "metadata": {},
   "outputs": [
    {
     "data": {
      "text/html": [
       "<div>\n",
       "<style scoped>\n",
       "    .dataframe tbody tr th:only-of-type {\n",
       "        vertical-align: middle;\n",
       "    }\n",
       "\n",
       "    .dataframe tbody tr th {\n",
       "        vertical-align: top;\n",
       "    }\n",
       "\n",
       "    .dataframe thead th {\n",
       "        text-align: right;\n",
       "    }\n",
       "</style>\n",
       "<table border=\"1\" class=\"dataframe\">\n",
       "  <thead>\n",
       "    <tr style=\"text-align: right;\">\n",
       "      <th></th>\n",
       "      <th>nom_parking</th>\n",
       "      <th>idsurfs</th>\n",
       "      <th>ident</th>\n",
       "      <th>etat</th>\n",
       "      <th>etat_descriptif</th>\n",
       "      <th>total</th>\n",
       "      <th>libre</th>\n",
       "      <th>infousager</th>\n",
       "      <th>realtimestatus</th>\n",
       "      <th>infoappli</th>\n",
       "      <th>Occupee</th>\n",
       "      <th>percentage_occupe</th>\n",
       "      <th>name</th>\n",
       "      <th>position.lon</th>\n",
       "      <th>position.lat</th>\n",
       "    </tr>\n",
       "  </thead>\n",
       "  <tbody>\n",
       "    <tr>\n",
       "      <th>0</th>\n",
       "      <td>Parking Gare Wodli</td>\n",
       "      <td>1382_DEP_8</td>\n",
       "      <td>10</td>\n",
       "      <td>1</td>\n",
       "      <td>Ouvert</td>\n",
       "      <td>955</td>\n",
       "      <td>385</td>\n",
       "      <td>380</td>\n",
       "      <td>GREEN</td>\n",
       "      <td>385</td>\n",
       "      <td>570</td>\n",
       "      <td>0.596859</td>\n",
       "      <td>Parking Gare Wodli</td>\n",
       "      <td>7.736771</td>\n",
       "      <td>48.587385</td>\n",
       "    </tr>\n",
       "    <tr>\n",
       "      <th>2</th>\n",
       "      <td>Parking Centre Opéra Broglie</td>\n",
       "      <td>1378_DEP_4</td>\n",
       "      <td>3</td>\n",
       "      <td>1</td>\n",
       "      <td>Ouvert</td>\n",
       "      <td>447</td>\n",
       "      <td>161</td>\n",
       "      <td>160</td>\n",
       "      <td>GREEN</td>\n",
       "      <td>161</td>\n",
       "      <td>286</td>\n",
       "      <td>0.639821</td>\n",
       "      <td>Parking Centre Opéra Broglie</td>\n",
       "      <td>7.749275</td>\n",
       "      <td>48.585689</td>\n",
       "    </tr>\n",
       "    <tr>\n",
       "      <th>3</th>\n",
       "      <td>Parking Baggersee</td>\n",
       "      <td>1376_DEP_2</td>\n",
       "      <td>4</td>\n",
       "      <td>1</td>\n",
       "      <td>Ouvert</td>\n",
       "      <td>460</td>\n",
       "      <td>321</td>\n",
       "      <td>320</td>\n",
       "      <td>GREEN</td>\n",
       "      <td>321</td>\n",
       "      <td>139</td>\n",
       "      <td>0.302174</td>\n",
       "      <td>Parking Baggersee</td>\n",
       "      <td>7.735695</td>\n",
       "      <td>48.544647</td>\n",
       "    </tr>\n",
       "  </tbody>\n",
       "</table>\n",
       "</div>"
      ],
      "text/plain": [
       "                    nom_parking     idsurfs  ident  etat etat_descriptif  \\\n",
       "0            Parking Gare Wodli  1382_DEP_8     10     1          Ouvert   \n",
       "2  Parking Centre Opéra Broglie  1378_DEP_4      3     1          Ouvert   \n",
       "3             Parking Baggersee  1376_DEP_2      4     1          Ouvert   \n",
       "\n",
       "   total  libre  infousager realtimestatus infoappli  Occupee  \\\n",
       "0    955    385         380          GREEN       385      570   \n",
       "2    447    161         160          GREEN       161      286   \n",
       "3    460    321         320          GREEN       321      139   \n",
       "\n",
       "   percentage_occupe                          name  position.lon  position.lat  \n",
       "0           0.596859            Parking Gare Wodli      7.736771     48.587385  \n",
       "2           0.639821  Parking Centre Opéra Broglie      7.749275     48.585689  \n",
       "3           0.302174             Parking Baggersee      7.735695     48.544647  "
      ]
     },
     "execution_count": 56,
     "metadata": {},
     "output_type": "execute_result"
    }
   ],
   "source": [
    "RT_parking_ouvert.head(3)"
   ]
  },
  {
   "cell_type": "markdown",
   "metadata": {},
   "source": []
  },
  {
   "cell_type": "code",
   "execution_count": 40,
   "metadata": {},
   "outputs": [
    {
     "data": {
      "application/vnd.plotly.v1+json": {
       "config": {
        "plotlyServerURL": "https://plot.ly"
       },
       "data": [
        {
         "customdata": [
          [
           "Parking Gare Wodli",
           "Ouvert",
           385,
           570,
           0.5968586387434555
          ],
          [
           "Parking Centre Opéra Broglie",
           "Ouvert",
           161,
           286,
           0.639821029082774
          ],
          [
           "Parking Baggersee",
           "Ouvert",
           321,
           139,
           0.30217391304347824
          ],
          [
           "Parking Bateliers",
           "Ouvert",
           144,
           139,
           0.4911660777385159
          ],
          [
           "Parking Austerlitz",
           "Ouvert",
           289,
           193,
           0.4004149377593361
          ],
          [
           "Parking Gutenberg",
           "Ouvert",
           172,
           72,
           0.29508196721311475
          ],
          [
           "Parking Kleber Homme de fer",
           "Ouvert",
           260,
           202,
           0.43722943722943725
          ],
          [
           "Parking Robertsau Boecklin",
           "Ouvert",
           32,
           60,
           0.6521739130434783
          ],
          [
           "Parking Rives de l'Aar",
           "Ouvert",
           127,
           329,
           0.7214912280701754
          ],
          [
           "Parking Saint Nicolas",
           "Ouvert",
           241,
           119,
           0.33055555555555555
          ],
          [
           "Parking Ducs d'Alsace",
           "Ouvert",
           450,
           150,
           0.25
          ],
          [
           "Parking Elsau",
           "Ouvert",
           182,
           38,
           0.17272727272727273
          ],
          [
           "Parking Rotonde",
           "Ouvert",
           103,
           347,
           0.7711111111111111
          ],
          [
           "Parking Gare courte durée",
           "Ouvert",
           131,
           57,
           0.30319148936170215
          ],
          [
           "Parking Hoenheim gare",
           "Ouvert",
           217,
           123,
           0.36176470588235293
          ],
          [
           "Parking Poteries",
           "Ouvert",
           21,
           81,
           0.7941176470588235
          ],
          [
           "Parking Espace européen de l'entreprise",
           "Ouvert",
           109,
           61,
           0.3588235294117647
          ],
          [
           "Parking Rivetoile",
           "Ouvert",
           915,
           217,
           0.19169611307420495
          ],
          [
           "P1 Esplanade - Centre commercial",
           "Ouvert",
           130,
           121,
           0.4820717131474104
          ],
          [
           "Parking Coubertin",
           "Ouvert",
           410,
           309,
           0.4297635605006954
          ]
         ],
         "hovertemplate": "<b>%{customdata[0]}</b><br><b>État : </b> %{customdata[1]}<br><b>Parking libre: </b> %{customdata[2]}<br><b>Parking occupe: </b> %{customdata[3]}<br><b>Pourcentage occupation: </b> %{customdata[4]}%<br>",
         "hovertext": [
          "Parking Gare Wodli",
          "Parking Centre Opéra Broglie",
          "Parking Baggersee",
          "Parking Bateliers",
          "Parking Austerlitz",
          "Parking Gutenberg",
          "Parking Kleber Homme de fer",
          "Parking Robertsau Boecklin",
          "Parking Rives de l'Aar",
          "Parking Saint Nicolas",
          "Parking Ducs d'Alsace",
          "Parking Elsau",
          "Parking Rotonde",
          "Parking Gare courte durée",
          "Parking Hoenheim gare",
          "Parking Poteries",
          "Parking Espace européen de l'entreprise",
          "Parking Rivetoile",
          "P1 Esplanade - Centre commercial",
          "Parking Coubertin"
         ],
         "lat": [
          48.5873845279566,
          48.585689025956,
          48.5446469517313,
          48.5810021316449,
          48.5779636853829,
          48.5815606649063,
          48.5834973716322,
          48.5979711278741,
          48.5996315289378,
          48.5755761553687,
          48.5892383943901,
          48.5684033861816,
          48.5912264325338,
          48.5843287980526,
          48.62788850674,
          48.5833504860946,
          48.6167445706505,
          48.5732829348039,
          48.5775007075809,
          48.600222553324905
         ],
         "legendgroup": "",
         "lon": [
          7.7367710015538,
          7.74927491976424,
          7.73569466237007,
          7.75604844096195,
          7.75179597699974,
          7.74828482148178,
          7.74506276428556,
          7.77656295435852,
          7.75381030140218,
          7.74952649489905,
          7.71596677960563,
          7.73031009299049,
          7.72610093327335,
          7.73587617577237,
          7.75778587766437,
          7.69108730315623,
          7.71966106577424,
          7.75983823964716,
          7.77158518917195,
          7.768342183051484
         ],
         "marker": {
          "color": [
           "GREEN",
           "GREEN",
           "GREEN",
           "GREEN",
           "GREEN",
           "GREEN",
           "GREEN",
           "ORANGE",
           "GREEN",
           "GREEN",
           "GREEN",
           "GREEN",
           "GREEN",
           "GREEN",
           "GREEN",
           "ORANGE",
           "GREEN",
           "GREEN",
           "GREEN",
           "GREEN"
          ],
          "opacity": 0.8,
          "size": [
           1,
           1,
           1,
           1,
           1,
           1,
           1,
           1,
           1,
           1,
           1,
           1,
           1,
           1,
           1,
           1,
           1,
           1,
           1,
           1
          ],
          "sizemode": "area",
          "sizeref": 0.0025
         },
         "mode": "markers",
         "name": "",
         "showlegend": false,
         "subplot": "mapbox",
         "type": "scattermapbox"
        }
       ],
       "layout": {
        "coloraxis": {
         "showscale": true
        },
        "height": 450,
        "legend": {
         "itemsizing": "constant",
         "tracegroupgap": 0
        },
        "mapbox": {
         "center": {
          "lat": 48.5863554970872,
          "lon": 7.743969308909209
         },
         "domain": {
          "x": [
           0,
           1
          ],
          "y": [
           0,
           1
          ]
         },
         "style": "carto-positron",
         "zoom": 11
        },
        "margin": {
         "b": 0,
         "l": 0,
         "r": 0,
         "t": 0
        },
        "template": {
         "data": {
          "bar": [
           {
            "error_x": {
             "color": "#2a3f5f"
            },
            "error_y": {
             "color": "#2a3f5f"
            },
            "marker": {
             "line": {
              "color": "#E5ECF6",
              "width": 0.5
             },
             "pattern": {
              "fillmode": "overlay",
              "size": 10,
              "solidity": 0.2
             }
            },
            "type": "bar"
           }
          ],
          "barpolar": [
           {
            "marker": {
             "line": {
              "color": "#E5ECF6",
              "width": 0.5
             },
             "pattern": {
              "fillmode": "overlay",
              "size": 10,
              "solidity": 0.2
             }
            },
            "type": "barpolar"
           }
          ],
          "carpet": [
           {
            "aaxis": {
             "endlinecolor": "#2a3f5f",
             "gridcolor": "white",
             "linecolor": "white",
             "minorgridcolor": "white",
             "startlinecolor": "#2a3f5f"
            },
            "baxis": {
             "endlinecolor": "#2a3f5f",
             "gridcolor": "white",
             "linecolor": "white",
             "minorgridcolor": "white",
             "startlinecolor": "#2a3f5f"
            },
            "type": "carpet"
           }
          ],
          "choropleth": [
           {
            "colorbar": {
             "outlinewidth": 0,
             "ticks": ""
            },
            "type": "choropleth"
           }
          ],
          "contour": [
           {
            "colorbar": {
             "outlinewidth": 0,
             "ticks": ""
            },
            "colorscale": [
             [
              0,
              "#0d0887"
             ],
             [
              0.1111111111111111,
              "#46039f"
             ],
             [
              0.2222222222222222,
              "#7201a8"
             ],
             [
              0.3333333333333333,
              "#9c179e"
             ],
             [
              0.4444444444444444,
              "#bd3786"
             ],
             [
              0.5555555555555556,
              "#d8576b"
             ],
             [
              0.6666666666666666,
              "#ed7953"
             ],
             [
              0.7777777777777778,
              "#fb9f3a"
             ],
             [
              0.8888888888888888,
              "#fdca26"
             ],
             [
              1,
              "#f0f921"
             ]
            ],
            "type": "contour"
           }
          ],
          "contourcarpet": [
           {
            "colorbar": {
             "outlinewidth": 0,
             "ticks": ""
            },
            "type": "contourcarpet"
           }
          ],
          "heatmap": [
           {
            "colorbar": {
             "outlinewidth": 0,
             "ticks": ""
            },
            "colorscale": [
             [
              0,
              "#0d0887"
             ],
             [
              0.1111111111111111,
              "#46039f"
             ],
             [
              0.2222222222222222,
              "#7201a8"
             ],
             [
              0.3333333333333333,
              "#9c179e"
             ],
             [
              0.4444444444444444,
              "#bd3786"
             ],
             [
              0.5555555555555556,
              "#d8576b"
             ],
             [
              0.6666666666666666,
              "#ed7953"
             ],
             [
              0.7777777777777778,
              "#fb9f3a"
             ],
             [
              0.8888888888888888,
              "#fdca26"
             ],
             [
              1,
              "#f0f921"
             ]
            ],
            "type": "heatmap"
           }
          ],
          "heatmapgl": [
           {
            "colorbar": {
             "outlinewidth": 0,
             "ticks": ""
            },
            "colorscale": [
             [
              0,
              "#0d0887"
             ],
             [
              0.1111111111111111,
              "#46039f"
             ],
             [
              0.2222222222222222,
              "#7201a8"
             ],
             [
              0.3333333333333333,
              "#9c179e"
             ],
             [
              0.4444444444444444,
              "#bd3786"
             ],
             [
              0.5555555555555556,
              "#d8576b"
             ],
             [
              0.6666666666666666,
              "#ed7953"
             ],
             [
              0.7777777777777778,
              "#fb9f3a"
             ],
             [
              0.8888888888888888,
              "#fdca26"
             ],
             [
              1,
              "#f0f921"
             ]
            ],
            "type": "heatmapgl"
           }
          ],
          "histogram": [
           {
            "marker": {
             "pattern": {
              "fillmode": "overlay",
              "size": 10,
              "solidity": 0.2
             }
            },
            "type": "histogram"
           }
          ],
          "histogram2d": [
           {
            "colorbar": {
             "outlinewidth": 0,
             "ticks": ""
            },
            "colorscale": [
             [
              0,
              "#0d0887"
             ],
             [
              0.1111111111111111,
              "#46039f"
             ],
             [
              0.2222222222222222,
              "#7201a8"
             ],
             [
              0.3333333333333333,
              "#9c179e"
             ],
             [
              0.4444444444444444,
              "#bd3786"
             ],
             [
              0.5555555555555556,
              "#d8576b"
             ],
             [
              0.6666666666666666,
              "#ed7953"
             ],
             [
              0.7777777777777778,
              "#fb9f3a"
             ],
             [
              0.8888888888888888,
              "#fdca26"
             ],
             [
              1,
              "#f0f921"
             ]
            ],
            "type": "histogram2d"
           }
          ],
          "histogram2dcontour": [
           {
            "colorbar": {
             "outlinewidth": 0,
             "ticks": ""
            },
            "colorscale": [
             [
              0,
              "#0d0887"
             ],
             [
              0.1111111111111111,
              "#46039f"
             ],
             [
              0.2222222222222222,
              "#7201a8"
             ],
             [
              0.3333333333333333,
              "#9c179e"
             ],
             [
              0.4444444444444444,
              "#bd3786"
             ],
             [
              0.5555555555555556,
              "#d8576b"
             ],
             [
              0.6666666666666666,
              "#ed7953"
             ],
             [
              0.7777777777777778,
              "#fb9f3a"
             ],
             [
              0.8888888888888888,
              "#fdca26"
             ],
             [
              1,
              "#f0f921"
             ]
            ],
            "type": "histogram2dcontour"
           }
          ],
          "mesh3d": [
           {
            "colorbar": {
             "outlinewidth": 0,
             "ticks": ""
            },
            "type": "mesh3d"
           }
          ],
          "parcoords": [
           {
            "line": {
             "colorbar": {
              "outlinewidth": 0,
              "ticks": ""
             }
            },
            "type": "parcoords"
           }
          ],
          "pie": [
           {
            "automargin": true,
            "type": "pie"
           }
          ],
          "scatter": [
           {
            "fillpattern": {
             "fillmode": "overlay",
             "size": 10,
             "solidity": 0.2
            },
            "type": "scatter"
           }
          ],
          "scatter3d": [
           {
            "line": {
             "colorbar": {
              "outlinewidth": 0,
              "ticks": ""
             }
            },
            "marker": {
             "colorbar": {
              "outlinewidth": 0,
              "ticks": ""
             }
            },
            "type": "scatter3d"
           }
          ],
          "scattercarpet": [
           {
            "marker": {
             "colorbar": {
              "outlinewidth": 0,
              "ticks": ""
             }
            },
            "type": "scattercarpet"
           }
          ],
          "scattergeo": [
           {
            "marker": {
             "colorbar": {
              "outlinewidth": 0,
              "ticks": ""
             }
            },
            "type": "scattergeo"
           }
          ],
          "scattergl": [
           {
            "marker": {
             "colorbar": {
              "outlinewidth": 0,
              "ticks": ""
             }
            },
            "type": "scattergl"
           }
          ],
          "scattermapbox": [
           {
            "marker": {
             "colorbar": {
              "outlinewidth": 0,
              "ticks": ""
             }
            },
            "type": "scattermapbox"
           }
          ],
          "scatterpolar": [
           {
            "marker": {
             "colorbar": {
              "outlinewidth": 0,
              "ticks": ""
             }
            },
            "type": "scatterpolar"
           }
          ],
          "scatterpolargl": [
           {
            "marker": {
             "colorbar": {
              "outlinewidth": 0,
              "ticks": ""
             }
            },
            "type": "scatterpolargl"
           }
          ],
          "scatterternary": [
           {
            "marker": {
             "colorbar": {
              "outlinewidth": 0,
              "ticks": ""
             }
            },
            "type": "scatterternary"
           }
          ],
          "surface": [
           {
            "colorbar": {
             "outlinewidth": 0,
             "ticks": ""
            },
            "colorscale": [
             [
              0,
              "#0d0887"
             ],
             [
              0.1111111111111111,
              "#46039f"
             ],
             [
              0.2222222222222222,
              "#7201a8"
             ],
             [
              0.3333333333333333,
              "#9c179e"
             ],
             [
              0.4444444444444444,
              "#bd3786"
             ],
             [
              0.5555555555555556,
              "#d8576b"
             ],
             [
              0.6666666666666666,
              "#ed7953"
             ],
             [
              0.7777777777777778,
              "#fb9f3a"
             ],
             [
              0.8888888888888888,
              "#fdca26"
             ],
             [
              1,
              "#f0f921"
             ]
            ],
            "type": "surface"
           }
          ],
          "table": [
           {
            "cells": {
             "fill": {
              "color": "#EBF0F8"
             },
             "line": {
              "color": "white"
             }
            },
            "header": {
             "fill": {
              "color": "#C8D4E3"
             },
             "line": {
              "color": "white"
             }
            },
            "type": "table"
           }
          ]
         },
         "layout": {
          "annotationdefaults": {
           "arrowcolor": "#2a3f5f",
           "arrowhead": 0,
           "arrowwidth": 1
          },
          "autotypenumbers": "strict",
          "coloraxis": {
           "colorbar": {
            "outlinewidth": 0,
            "ticks": ""
           }
          },
          "colorscale": {
           "diverging": [
            [
             0,
             "#8e0152"
            ],
            [
             0.1,
             "#c51b7d"
            ],
            [
             0.2,
             "#de77ae"
            ],
            [
             0.3,
             "#f1b6da"
            ],
            [
             0.4,
             "#fde0ef"
            ],
            [
             0.5,
             "#f7f7f7"
            ],
            [
             0.6,
             "#e6f5d0"
            ],
            [
             0.7,
             "#b8e186"
            ],
            [
             0.8,
             "#7fbc41"
            ],
            [
             0.9,
             "#4d9221"
            ],
            [
             1,
             "#276419"
            ]
           ],
           "sequential": [
            [
             0,
             "#0d0887"
            ],
            [
             0.1111111111111111,
             "#46039f"
            ],
            [
             0.2222222222222222,
             "#7201a8"
            ],
            [
             0.3333333333333333,
             "#9c179e"
            ],
            [
             0.4444444444444444,
             "#bd3786"
            ],
            [
             0.5555555555555556,
             "#d8576b"
            ],
            [
             0.6666666666666666,
             "#ed7953"
            ],
            [
             0.7777777777777778,
             "#fb9f3a"
            ],
            [
             0.8888888888888888,
             "#fdca26"
            ],
            [
             1,
             "#f0f921"
            ]
           ],
           "sequentialminus": [
            [
             0,
             "#0d0887"
            ],
            [
             0.1111111111111111,
             "#46039f"
            ],
            [
             0.2222222222222222,
             "#7201a8"
            ],
            [
             0.3333333333333333,
             "#9c179e"
            ],
            [
             0.4444444444444444,
             "#bd3786"
            ],
            [
             0.5555555555555556,
             "#d8576b"
            ],
            [
             0.6666666666666666,
             "#ed7953"
            ],
            [
             0.7777777777777778,
             "#fb9f3a"
            ],
            [
             0.8888888888888888,
             "#fdca26"
            ],
            [
             1,
             "#f0f921"
            ]
           ]
          },
          "colorway": [
           "#636efa",
           "#EF553B",
           "#00cc96",
           "#ab63fa",
           "#FFA15A",
           "#19d3f3",
           "#FF6692",
           "#B6E880",
           "#FF97FF",
           "#FECB52"
          ],
          "font": {
           "color": "#2a3f5f"
          },
          "geo": {
           "bgcolor": "white",
           "lakecolor": "white",
           "landcolor": "#E5ECF6",
           "showlakes": true,
           "showland": true,
           "subunitcolor": "white"
          },
          "hoverlabel": {
           "align": "left"
          },
          "hovermode": "closest",
          "mapbox": {
           "style": "light"
          },
          "paper_bgcolor": "white",
          "plot_bgcolor": "#E5ECF6",
          "polar": {
           "angularaxis": {
            "gridcolor": "white",
            "linecolor": "white",
            "ticks": ""
           },
           "bgcolor": "#E5ECF6",
           "radialaxis": {
            "gridcolor": "white",
            "linecolor": "white",
            "ticks": ""
           }
          },
          "scene": {
           "xaxis": {
            "backgroundcolor": "#E5ECF6",
            "gridcolor": "white",
            "gridwidth": 2,
            "linecolor": "white",
            "showbackground": true,
            "ticks": "",
            "zerolinecolor": "white"
           },
           "yaxis": {
            "backgroundcolor": "#E5ECF6",
            "gridcolor": "white",
            "gridwidth": 2,
            "linecolor": "white",
            "showbackground": true,
            "ticks": "",
            "zerolinecolor": "white"
           },
           "zaxis": {
            "backgroundcolor": "#E5ECF6",
            "gridcolor": "white",
            "gridwidth": 2,
            "linecolor": "white",
            "showbackground": true,
            "ticks": "",
            "zerolinecolor": "white"
           }
          },
          "shapedefaults": {
           "line": {
            "color": "#2a3f5f"
           }
          },
          "ternary": {
           "aaxis": {
            "gridcolor": "white",
            "linecolor": "white",
            "ticks": ""
           },
           "baxis": {
            "gridcolor": "white",
            "linecolor": "white",
            "ticks": ""
           },
           "bgcolor": "#E5ECF6",
           "caxis": {
            "gridcolor": "white",
            "linecolor": "white",
            "ticks": ""
           }
          },
          "title": {
           "x": 0.05
          },
          "xaxis": {
           "automargin": true,
           "gridcolor": "white",
           "linecolor": "white",
           "ticks": "",
           "title": {
            "standoff": 15
           },
           "zerolinecolor": "white",
           "zerolinewidth": 2
          },
          "yaxis": {
           "automargin": true,
           "gridcolor": "white",
           "linecolor": "white",
           "ticks": "",
           "title": {
            "standoff": 15
           },
           "zerolinecolor": "white",
           "zerolinewidth": 2
          }
         }
        }
       }
      }
     },
     "metadata": {},
     "output_type": "display_data"
    }
   ],
   "source": [
    "fig2 = px.scatter_mapbox(RT_parking_ouvert, \n",
    "                        lat=RT_parking_ouvert['position.lat'],\n",
    "                        lon=RT_parking_ouvert['position.lon'], \n",
    "                        hover_name=\"nom_parking\", \n",
    "                        size=\"etat\" ,\n",
    "                        #hover_data=[\"status\" , \"Bike available\" , \"Available space\" ],\n",
    "                        custom_data=['nom_parking', 'etat_descriptif', 'libre' , 'Occupee','percentage_occupe'] ,\n",
    "                        #color=\"percentage_occupe\",\n",
    "                        color_discrete_sequence=[RT_parking_ouvert.realtimestatus],\n",
    "                        opacity = 0.8,\n",
    "                        zoom=11, \n",
    "                        height=450)\n",
    "fig2.update_layout(mapbox_style=\"carto-positron\")\n",
    "fig2.update_layout(margin={\"r\":0,\"t\":0,\"l\":0,\"b\":0})\n",
    "fig2.update_layout(coloraxis_showscale=False)\n",
    "fig2.update_traces(\n",
    "    hovertemplate = \n",
    "                \"<b>%{customdata[0]}</b><br>\"   +  \n",
    "                \"<b>État : </b> %{customdata[1]}<br>\" + \n",
    "                \"<b>Parking libre: </b> %{customdata[2]}<br>\" +\n",
    "                \"<b>Parking occupe: </b> %{customdata[3]}<br>\"  +\n",
    "                \"<b>Pourcentage occupation: </b> %{customdata[4]}%<br>\"  )\n",
    "fig2.show()"
   ]
  },
  {
   "cell_type": "markdown",
   "metadata": {},
   "source": [
    "## Status parking"
   ]
  },
  {
   "cell_type": "code",
   "execution_count": 21,
   "metadata": {},
   "outputs": [
    {
     "data": {
      "text/html": [
       "<div>\n",
       "<style scoped>\n",
       "    .dataframe tbody tr th:only-of-type {\n",
       "        vertical-align: middle;\n",
       "    }\n",
       "\n",
       "    .dataframe tbody tr th {\n",
       "        vertical-align: top;\n",
       "    }\n",
       "\n",
       "    .dataframe thead th {\n",
       "        text-align: right;\n",
       "    }\n",
       "</style>\n",
       "<table border=\"1\" class=\"dataframe\">\n",
       "  <thead>\n",
       "    <tr style=\"text-align: right;\">\n",
       "      <th></th>\n",
       "      <th>etat_descriptif</th>\n",
       "      <th>size</th>\n",
       "      <th>share_size</th>\n",
       "    </tr>\n",
       "  </thead>\n",
       "  <tbody>\n",
       "    <tr>\n",
       "      <th>0</th>\n",
       "      <td>Fermé</td>\n",
       "      <td>1</td>\n",
       "      <td>0.04</td>\n",
       "    </tr>\n",
       "    <tr>\n",
       "      <th>1</th>\n",
       "      <td>Ouvert</td>\n",
       "      <td>20</td>\n",
       "      <td>0.74</td>\n",
       "    </tr>\n",
       "    <tr>\n",
       "      <th>2</th>\n",
       "      <td>frequentation temps reel indisponible</td>\n",
       "      <td>6</td>\n",
       "      <td>0.22</td>\n",
       "    </tr>\n",
       "  </tbody>\n",
       "</table>\n",
       "</div>"
      ],
      "text/plain": [
       "                         etat_descriptif  size  share_size\n",
       "0                                  Fermé     1        0.04\n",
       "1                                 Ouvert    20        0.74\n",
       "2  frequentation temps reel indisponible     6        0.22"
      ]
     },
     "execution_count": 21,
     "metadata": {},
     "output_type": "execute_result"
    }
   ],
   "source": [
    "RT_parking\n",
    "etat_data = RT_parking.groupby(['etat_descriptif'], as_index=False).size()\n",
    "#DataFrame({'count' : RT_parking.groupby( [ \"etat_descriptif\"] ).size()}).reset_index()\n",
    "etat_data[\"share_size\"] = round((etat_data['size'] / etat_data['size'].sum()) ,2)\n",
    "etat_data"
   ]
  },
  {
   "cell_type": "code",
   "execution_count": 25,
   "metadata": {},
   "outputs": [
    {
     "data": {
      "application/vnd.plotly.v1+json": {
       "config": {
        "plotlyServerURL": "https://plot.ly"
       },
       "data": [
        {
         "alignmentgroup": "True",
         "hovertemplate": "size=%{marker.color}<br>etat_descriptif=%{y}<extra></extra>",
         "legendgroup": "",
         "marker": {
          "color": [
           1,
           20,
           6
          ],
          "coloraxis": "coloraxis",
          "pattern": {
           "shape": ""
          }
         },
         "name": "",
         "offsetgroup": "",
         "orientation": "h",
         "showlegend": false,
         "textposition": "auto",
         "type": "bar",
         "x": [
          1,
          20,
          6
         ],
         "xaxis": "x",
         "y": [
          "Fermé",
          "Ouvert",
          "frequentation temps reel indisponible"
         ],
         "yaxis": "y"
        }
       ],
       "layout": {
        "barmode": "relative",
        "coloraxis": {
         "colorbar": {
          "title": {
           "text": "size"
          }
         },
         "colorscale": [
          [
           0,
           "rgb(127,0,0)"
          ],
          [
           0.125,
           "rgb(179,0,0)"
          ],
          [
           0.25,
           "rgb(215,48,31)"
          ],
          [
           0.375,
           "rgb(239,101,72)"
          ],
          [
           0.5,
           "rgb(252,141,89)"
          ],
          [
           0.625,
           "rgb(253,187,132)"
          ],
          [
           0.75,
           "rgb(253,212,158)"
          ],
          [
           0.875,
           "rgb(254,232,200)"
          ],
          [
           1,
           "rgb(255,247,236)"
          ]
         ],
         "showscale": false
        },
        "height": 250,
        "legend": {
         "tracegroupgap": 0
        },
        "margin": {
         "b": 20,
         "l": 20,
         "r": 20,
         "t": 20
        },
        "template": {
         "data": {
          "bar": [
           {
            "error_x": {
             "color": "#2a3f5f"
            },
            "error_y": {
             "color": "#2a3f5f"
            },
            "marker": {
             "line": {
              "color": "#E5ECF6",
              "width": 0.5
             },
             "pattern": {
              "fillmode": "overlay",
              "size": 10,
              "solidity": 0.2
             }
            },
            "type": "bar"
           }
          ],
          "barpolar": [
           {
            "marker": {
             "line": {
              "color": "#E5ECF6",
              "width": 0.5
             },
             "pattern": {
              "fillmode": "overlay",
              "size": 10,
              "solidity": 0.2
             }
            },
            "type": "barpolar"
           }
          ],
          "carpet": [
           {
            "aaxis": {
             "endlinecolor": "#2a3f5f",
             "gridcolor": "white",
             "linecolor": "white",
             "minorgridcolor": "white",
             "startlinecolor": "#2a3f5f"
            },
            "baxis": {
             "endlinecolor": "#2a3f5f",
             "gridcolor": "white",
             "linecolor": "white",
             "minorgridcolor": "white",
             "startlinecolor": "#2a3f5f"
            },
            "type": "carpet"
           }
          ],
          "choropleth": [
           {
            "colorbar": {
             "outlinewidth": 0,
             "ticks": ""
            },
            "type": "choropleth"
           }
          ],
          "contour": [
           {
            "colorbar": {
             "outlinewidth": 0,
             "ticks": ""
            },
            "colorscale": [
             [
              0,
              "#0d0887"
             ],
             [
              0.1111111111111111,
              "#46039f"
             ],
             [
              0.2222222222222222,
              "#7201a8"
             ],
             [
              0.3333333333333333,
              "#9c179e"
             ],
             [
              0.4444444444444444,
              "#bd3786"
             ],
             [
              0.5555555555555556,
              "#d8576b"
             ],
             [
              0.6666666666666666,
              "#ed7953"
             ],
             [
              0.7777777777777778,
              "#fb9f3a"
             ],
             [
              0.8888888888888888,
              "#fdca26"
             ],
             [
              1,
              "#f0f921"
             ]
            ],
            "type": "contour"
           }
          ],
          "contourcarpet": [
           {
            "colorbar": {
             "outlinewidth": 0,
             "ticks": ""
            },
            "type": "contourcarpet"
           }
          ],
          "heatmap": [
           {
            "colorbar": {
             "outlinewidth": 0,
             "ticks": ""
            },
            "colorscale": [
             [
              0,
              "#0d0887"
             ],
             [
              0.1111111111111111,
              "#46039f"
             ],
             [
              0.2222222222222222,
              "#7201a8"
             ],
             [
              0.3333333333333333,
              "#9c179e"
             ],
             [
              0.4444444444444444,
              "#bd3786"
             ],
             [
              0.5555555555555556,
              "#d8576b"
             ],
             [
              0.6666666666666666,
              "#ed7953"
             ],
             [
              0.7777777777777778,
              "#fb9f3a"
             ],
             [
              0.8888888888888888,
              "#fdca26"
             ],
             [
              1,
              "#f0f921"
             ]
            ],
            "type": "heatmap"
           }
          ],
          "heatmapgl": [
           {
            "colorbar": {
             "outlinewidth": 0,
             "ticks": ""
            },
            "colorscale": [
             [
              0,
              "#0d0887"
             ],
             [
              0.1111111111111111,
              "#46039f"
             ],
             [
              0.2222222222222222,
              "#7201a8"
             ],
             [
              0.3333333333333333,
              "#9c179e"
             ],
             [
              0.4444444444444444,
              "#bd3786"
             ],
             [
              0.5555555555555556,
              "#d8576b"
             ],
             [
              0.6666666666666666,
              "#ed7953"
             ],
             [
              0.7777777777777778,
              "#fb9f3a"
             ],
             [
              0.8888888888888888,
              "#fdca26"
             ],
             [
              1,
              "#f0f921"
             ]
            ],
            "type": "heatmapgl"
           }
          ],
          "histogram": [
           {
            "marker": {
             "pattern": {
              "fillmode": "overlay",
              "size": 10,
              "solidity": 0.2
             }
            },
            "type": "histogram"
           }
          ],
          "histogram2d": [
           {
            "colorbar": {
             "outlinewidth": 0,
             "ticks": ""
            },
            "colorscale": [
             [
              0,
              "#0d0887"
             ],
             [
              0.1111111111111111,
              "#46039f"
             ],
             [
              0.2222222222222222,
              "#7201a8"
             ],
             [
              0.3333333333333333,
              "#9c179e"
             ],
             [
              0.4444444444444444,
              "#bd3786"
             ],
             [
              0.5555555555555556,
              "#d8576b"
             ],
             [
              0.6666666666666666,
              "#ed7953"
             ],
             [
              0.7777777777777778,
              "#fb9f3a"
             ],
             [
              0.8888888888888888,
              "#fdca26"
             ],
             [
              1,
              "#f0f921"
             ]
            ],
            "type": "histogram2d"
           }
          ],
          "histogram2dcontour": [
           {
            "colorbar": {
             "outlinewidth": 0,
             "ticks": ""
            },
            "colorscale": [
             [
              0,
              "#0d0887"
             ],
             [
              0.1111111111111111,
              "#46039f"
             ],
             [
              0.2222222222222222,
              "#7201a8"
             ],
             [
              0.3333333333333333,
              "#9c179e"
             ],
             [
              0.4444444444444444,
              "#bd3786"
             ],
             [
              0.5555555555555556,
              "#d8576b"
             ],
             [
              0.6666666666666666,
              "#ed7953"
             ],
             [
              0.7777777777777778,
              "#fb9f3a"
             ],
             [
              0.8888888888888888,
              "#fdca26"
             ],
             [
              1,
              "#f0f921"
             ]
            ],
            "type": "histogram2dcontour"
           }
          ],
          "mesh3d": [
           {
            "colorbar": {
             "outlinewidth": 0,
             "ticks": ""
            },
            "type": "mesh3d"
           }
          ],
          "parcoords": [
           {
            "line": {
             "colorbar": {
              "outlinewidth": 0,
              "ticks": ""
             }
            },
            "type": "parcoords"
           }
          ],
          "pie": [
           {
            "automargin": true,
            "type": "pie"
           }
          ],
          "scatter": [
           {
            "fillpattern": {
             "fillmode": "overlay",
             "size": 10,
             "solidity": 0.2
            },
            "type": "scatter"
           }
          ],
          "scatter3d": [
           {
            "line": {
             "colorbar": {
              "outlinewidth": 0,
              "ticks": ""
             }
            },
            "marker": {
             "colorbar": {
              "outlinewidth": 0,
              "ticks": ""
             }
            },
            "type": "scatter3d"
           }
          ],
          "scattercarpet": [
           {
            "marker": {
             "colorbar": {
              "outlinewidth": 0,
              "ticks": ""
             }
            },
            "type": "scattercarpet"
           }
          ],
          "scattergeo": [
           {
            "marker": {
             "colorbar": {
              "outlinewidth": 0,
              "ticks": ""
             }
            },
            "type": "scattergeo"
           }
          ],
          "scattergl": [
           {
            "marker": {
             "colorbar": {
              "outlinewidth": 0,
              "ticks": ""
             }
            },
            "type": "scattergl"
           }
          ],
          "scattermapbox": [
           {
            "marker": {
             "colorbar": {
              "outlinewidth": 0,
              "ticks": ""
             }
            },
            "type": "scattermapbox"
           }
          ],
          "scatterpolar": [
           {
            "marker": {
             "colorbar": {
              "outlinewidth": 0,
              "ticks": ""
             }
            },
            "type": "scatterpolar"
           }
          ],
          "scatterpolargl": [
           {
            "marker": {
             "colorbar": {
              "outlinewidth": 0,
              "ticks": ""
             }
            },
            "type": "scatterpolargl"
           }
          ],
          "scatterternary": [
           {
            "marker": {
             "colorbar": {
              "outlinewidth": 0,
              "ticks": ""
             }
            },
            "type": "scatterternary"
           }
          ],
          "surface": [
           {
            "colorbar": {
             "outlinewidth": 0,
             "ticks": ""
            },
            "colorscale": [
             [
              0,
              "#0d0887"
             ],
             [
              0.1111111111111111,
              "#46039f"
             ],
             [
              0.2222222222222222,
              "#7201a8"
             ],
             [
              0.3333333333333333,
              "#9c179e"
             ],
             [
              0.4444444444444444,
              "#bd3786"
             ],
             [
              0.5555555555555556,
              "#d8576b"
             ],
             [
              0.6666666666666666,
              "#ed7953"
             ],
             [
              0.7777777777777778,
              "#fb9f3a"
             ],
             [
              0.8888888888888888,
              "#fdca26"
             ],
             [
              1,
              "#f0f921"
             ]
            ],
            "type": "surface"
           }
          ],
          "table": [
           {
            "cells": {
             "fill": {
              "color": "#EBF0F8"
             },
             "line": {
              "color": "white"
             }
            },
            "header": {
             "fill": {
              "color": "#C8D4E3"
             },
             "line": {
              "color": "white"
             }
            },
            "type": "table"
           }
          ]
         },
         "layout": {
          "annotationdefaults": {
           "arrowcolor": "#2a3f5f",
           "arrowhead": 0,
           "arrowwidth": 1
          },
          "autotypenumbers": "strict",
          "coloraxis": {
           "colorbar": {
            "outlinewidth": 0,
            "ticks": ""
           }
          },
          "colorscale": {
           "diverging": [
            [
             0,
             "#8e0152"
            ],
            [
             0.1,
             "#c51b7d"
            ],
            [
             0.2,
             "#de77ae"
            ],
            [
             0.3,
             "#f1b6da"
            ],
            [
             0.4,
             "#fde0ef"
            ],
            [
             0.5,
             "#f7f7f7"
            ],
            [
             0.6,
             "#e6f5d0"
            ],
            [
             0.7,
             "#b8e186"
            ],
            [
             0.8,
             "#7fbc41"
            ],
            [
             0.9,
             "#4d9221"
            ],
            [
             1,
             "#276419"
            ]
           ],
           "sequential": [
            [
             0,
             "#0d0887"
            ],
            [
             0.1111111111111111,
             "#46039f"
            ],
            [
             0.2222222222222222,
             "#7201a8"
            ],
            [
             0.3333333333333333,
             "#9c179e"
            ],
            [
             0.4444444444444444,
             "#bd3786"
            ],
            [
             0.5555555555555556,
             "#d8576b"
            ],
            [
             0.6666666666666666,
             "#ed7953"
            ],
            [
             0.7777777777777778,
             "#fb9f3a"
            ],
            [
             0.8888888888888888,
             "#fdca26"
            ],
            [
             1,
             "#f0f921"
            ]
           ],
           "sequentialminus": [
            [
             0,
             "#0d0887"
            ],
            [
             0.1111111111111111,
             "#46039f"
            ],
            [
             0.2222222222222222,
             "#7201a8"
            ],
            [
             0.3333333333333333,
             "#9c179e"
            ],
            [
             0.4444444444444444,
             "#bd3786"
            ],
            [
             0.5555555555555556,
             "#d8576b"
            ],
            [
             0.6666666666666666,
             "#ed7953"
            ],
            [
             0.7777777777777778,
             "#fb9f3a"
            ],
            [
             0.8888888888888888,
             "#fdca26"
            ],
            [
             1,
             "#f0f921"
            ]
           ]
          },
          "colorway": [
           "#636efa",
           "#EF553B",
           "#00cc96",
           "#ab63fa",
           "#FFA15A",
           "#19d3f3",
           "#FF6692",
           "#B6E880",
           "#FF97FF",
           "#FECB52"
          ],
          "font": {
           "color": "#2a3f5f"
          },
          "geo": {
           "bgcolor": "white",
           "lakecolor": "white",
           "landcolor": "#E5ECF6",
           "showlakes": true,
           "showland": true,
           "subunitcolor": "white"
          },
          "hoverlabel": {
           "align": "left"
          },
          "hovermode": "closest",
          "mapbox": {
           "style": "light"
          },
          "paper_bgcolor": "white",
          "plot_bgcolor": "#E5ECF6",
          "polar": {
           "angularaxis": {
            "gridcolor": "white",
            "linecolor": "white",
            "ticks": ""
           },
           "bgcolor": "#E5ECF6",
           "radialaxis": {
            "gridcolor": "white",
            "linecolor": "white",
            "ticks": ""
           }
          },
          "scene": {
           "xaxis": {
            "backgroundcolor": "#E5ECF6",
            "gridcolor": "white",
            "gridwidth": 2,
            "linecolor": "white",
            "showbackground": true,
            "ticks": "",
            "zerolinecolor": "white"
           },
           "yaxis": {
            "backgroundcolor": "#E5ECF6",
            "gridcolor": "white",
            "gridwidth": 2,
            "linecolor": "white",
            "showbackground": true,
            "ticks": "",
            "zerolinecolor": "white"
           },
           "zaxis": {
            "backgroundcolor": "#E5ECF6",
            "gridcolor": "white",
            "gridwidth": 2,
            "linecolor": "white",
            "showbackground": true,
            "ticks": "",
            "zerolinecolor": "white"
           }
          },
          "shapedefaults": {
           "line": {
            "color": "#2a3f5f"
           }
          },
          "ternary": {
           "aaxis": {
            "gridcolor": "white",
            "linecolor": "white",
            "ticks": ""
           },
           "baxis": {
            "gridcolor": "white",
            "linecolor": "white",
            "ticks": ""
           },
           "bgcolor": "#E5ECF6",
           "caxis": {
            "gridcolor": "white",
            "linecolor": "white",
            "ticks": ""
           }
          },
          "title": {
           "x": 0.05
          },
          "xaxis": {
           "automargin": true,
           "gridcolor": "white",
           "linecolor": "white",
           "ticks": "",
           "title": {
            "standoff": 15
           },
           "zerolinecolor": "white",
           "zerolinewidth": 2
          },
          "yaxis": {
           "automargin": true,
           "gridcolor": "white",
           "linecolor": "white",
           "ticks": "",
           "title": {
            "standoff": 15
           },
           "zerolinecolor": "white",
           "zerolinewidth": 2
          }
         }
        },
        "width": 600,
        "xaxis": {
         "anchor": "y",
         "domain": [
          0,
          1
         ],
         "title": {
          "text": "size"
         }
        },
        "yaxis": {
         "anchor": "x",
         "categoryorder": "total ascending",
         "domain": [
          0,
          1
         ],
         "title": {
          "text": "etat_descriptif"
         }
        }
       }
      }
     },
     "metadata": {},
     "output_type": "display_data"
    }
   ],
   "source": [
    "status_bar = px.bar(etat_data, y='etat_descriptif',\n",
    "            x='size' ,\n",
    "            width=600,\n",
    "            height=250,\n",
    "            orientation='h' ,\n",
    "            color = 'size' ,\n",
    "            color_continuous_scale=px.colors.sequential.OrRd[::-1])\n",
    "status_bar.update_layout(yaxis={'categoryorder':'total ascending'},\n",
    "                  margin=dict(l=20, r=20, t=20, b=20),) \n",
    "status_bar.update_layout(coloraxis_showscale=False)\n",
    "status_bar.show()"
   ]
  },
  {
   "cell_type": "markdown",
   "metadata": {},
   "source": []
  },
  {
   "cell_type": "markdown",
   "metadata": {},
   "source": []
  },
  {
   "cell_type": "code",
   "execution_count": 27,
   "metadata": {},
   "outputs": [
    {
     "name": "stdout",
     "output_type": "stream",
     "text": [
      "3.11.2 (tags/v3.11.2:878ead1, Feb  7 2023, 16:38:35) [MSC v.1934 64 bit (AMD64)]\n"
     ]
    }
   ],
   "source": [
    "#import sys\n",
    "#print(sys.version)"
   ]
  },
  {
   "cell_type": "markdown",
   "metadata": {},
   "source": [
    "import sys\n",
    "print(sys.version)"
   ]
  },
  {
   "cell_type": "markdown",
   "metadata": {},
   "source": []
  }
 ],
 "metadata": {
  "kernelspec": {
   "display_name": "Python 3",
   "language": "python",
   "name": "python3"
  },
  "language_info": {
   "codemirror_mode": {
    "name": "ipython",
    "version": 3
   },
   "file_extension": ".py",
   "mimetype": "text/x-python",
   "name": "python",
   "nbconvert_exporter": "python",
   "pygments_lexer": "ipython3",
   "version": "3.11.2"
  }
 },
 "nbformat": 4,
 "nbformat_minor": 2
}
