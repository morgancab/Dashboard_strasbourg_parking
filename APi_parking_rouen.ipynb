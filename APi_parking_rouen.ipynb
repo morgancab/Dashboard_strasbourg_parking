{
 "cells": [
  {
   "cell_type": "code",
   "execution_count": 1,
   "metadata": {},
   "outputs": [],
   "source": [
    "import requests\n",
    "import json \n",
    "import plotly.express as px\n",
    "import streamlit as st\n",
    "import pandas as pd\n",
    "import numpy as np"
   ]
  },
  {
   "cell_type": "markdown",
   "metadata": {},
   "source": [
    "** Rouen Parking API**\n",
    "\n",
    "+ Using this API to get parking informaiton : https://data.metropole-rouen-normandie.fr/explore/dataset/parkings-relais-metropole-rouen-normandie/api/\n",
    "+ Using this API to get real time information https://data.opendatasoft.com/explore/dataset/occupation-parkings-temps-reel%40eurometrostrasbourg/api/: "
   ]
  },
  {
   "cell_type": "markdown",
   "metadata": {},
   "source": []
  },
  {
   "cell_type": "code",
   "execution_count": 13,
   "metadata": {},
   "outputs": [
    {
     "data": {
      "text/plain": [
       "<Response [200]>"
      ]
     },
     "execution_count": 13,
     "metadata": {},
     "output_type": "execute_result"
    }
   ],
   "source": [
    "Parking_info = requests.get(\"https://data.metropole-rouen-normandie.fr/api/explore/v2.1/catalog/datasets/parkings-relais-metropole-rouen-normandie/records?limit=100&timezone=europe%2FParis\") \n",
    "Parking_info"
   ]
  },
  {
   "cell_type": "code",
   "execution_count": 15,
   "metadata": {},
   "outputs": [
    {
     "data": {
      "text/html": [
       "<div>\n",
       "<style scoped>\n",
       "    .dataframe tbody tr th:only-of-type {\n",
       "        vertical-align: middle;\n",
       "    }\n",
       "\n",
       "    .dataframe tbody tr th {\n",
       "        vertical-align: top;\n",
       "    }\n",
       "\n",
       "    .dataframe thead th {\n",
       "        text-align: right;\n",
       "    }\n",
       "</style>\n",
       "<table border=\"1\" class=\"dataframe\">\n",
       "  <thead>\n",
       "    <tr style=\"text-align: right;\">\n",
       "      <th></th>\n",
       "      <th>id</th>\n",
       "      <th>nom</th>\n",
       "      <th>insee</th>\n",
       "      <th>adresse</th>\n",
       "      <th>url</th>\n",
       "      <th>type_usagers</th>\n",
       "      <th>gratuit</th>\n",
       "      <th>nb_places</th>\n",
       "      <th>nb_pr</th>\n",
       "      <th>nb_pmr</th>\n",
       "      <th>...</th>\n",
       "      <th>tarif_3h</th>\n",
       "      <th>tarif_4h</th>\n",
       "      <th>tarif_24h</th>\n",
       "      <th>abo_resident</th>\n",
       "      <th>abo_non_resident</th>\n",
       "      <th>type_ouvrage</th>\n",
       "      <th>info</th>\n",
       "      <th>commune</th>\n",
       "      <th>geolocalisation.lon</th>\n",
       "      <th>geolocalisation.lat</th>\n",
       "    </tr>\n",
       "  </thead>\n",
       "  <tbody>\n",
       "    <tr>\n",
       "      <th>0</th>\n",
       "      <td>76103-P-001</td>\n",
       "      <td>Basilique Bonsecours</td>\n",
       "      <td>76103</td>\n",
       "      <td>Place Georges Loquet</td>\n",
       "      <td>https://www.reseau-astuce.fr/fr/pr-parkings-re...</td>\n",
       "      <td>tous</td>\n",
       "      <td>true</td>\n",
       "      <td>100</td>\n",
       "      <td>100</td>\n",
       "      <td>1</td>\n",
       "      <td>...</td>\n",
       "      <td>None</td>\n",
       "      <td>None</td>\n",
       "      <td>None</td>\n",
       "      <td>None</td>\n",
       "      <td>None</td>\n",
       "      <td>enclos_en_surface</td>\n",
       "      <td>P+R libres d'accès, gratuits et ouverts à tous</td>\n",
       "      <td>Bonsecours</td>\n",
       "      <td>1.124866</td>\n",
       "      <td>49.422006</td>\n",
       "    </tr>\n",
       "    <tr>\n",
       "      <th>1</th>\n",
       "      <td>76377-P-001</td>\n",
       "      <td>Plaine de la Ronce</td>\n",
       "      <td>76377</td>\n",
       "      <td>Route de Neufchâtel</td>\n",
       "      <td>https://www.reseau-astuce.fr/fr/pr-parkings-re...</td>\n",
       "      <td>tous</td>\n",
       "      <td>true</td>\n",
       "      <td>80</td>\n",
       "      <td>80</td>\n",
       "      <td>2</td>\n",
       "      <td>...</td>\n",
       "      <td>None</td>\n",
       "      <td>None</td>\n",
       "      <td>None</td>\n",
       "      <td>None</td>\n",
       "      <td>None</td>\n",
       "      <td>enclos_en_surface</td>\n",
       "      <td>P+R libres d'accès, gratuits et ouverts à tous</td>\n",
       "      <td>Isneauville</td>\n",
       "      <td>1.143195</td>\n",
       "      <td>49.490316</td>\n",
       "    </tr>\n",
       "  </tbody>\n",
       "</table>\n",
       "<p>2 rows × 33 columns</p>\n",
       "</div>"
      ],
      "text/plain": [
       "            id                   nom  insee               adresse  \\\n",
       "0  76103-P-001  Basilique Bonsecours  76103  Place Georges Loquet   \n",
       "1  76377-P-001    Plaine de la Ronce  76377   Route de Neufchâtel   \n",
       "\n",
       "                                                 url type_usagers gratuit  \\\n",
       "0  https://www.reseau-astuce.fr/fr/pr-parkings-re...         tous    true   \n",
       "1  https://www.reseau-astuce.fr/fr/pr-parkings-re...         tous    true   \n",
       "\n",
       "   nb_places  nb_pr  nb_pmr  ...  tarif_3h  tarif_4h  tarif_24h  abo_resident  \\\n",
       "0        100    100       1  ...      None      None       None          None   \n",
       "1         80     80       2  ...      None      None       None          None   \n",
       "\n",
       "   abo_non_resident       type_ouvrage  \\\n",
       "0              None  enclos_en_surface   \n",
       "1              None  enclos_en_surface   \n",
       "\n",
       "                                             info      commune  \\\n",
       "0  P+R libres d'accès, gratuits et ouverts à tous   Bonsecours   \n",
       "1  P+R libres d'accès, gratuits et ouverts à tous  Isneauville   \n",
       "\n",
       "   geolocalisation.lon  geolocalisation.lat  \n",
       "0             1.124866            49.422006  \n",
       "1             1.143195            49.490316  \n",
       "\n",
       "[2 rows x 33 columns]"
      ]
     },
     "execution_count": 15,
     "metadata": {},
     "output_type": "execute_result"
    }
   ],
   "source": [
    "Dump_parking_info = json.dumps(Parking_info.json())\n",
    "Loads_parking_info = json.loads(Dump_parking_info)  \n",
    "parking_info = pd.json_normalize(Loads_parking_info['results'])\n",
    "parking_info.head(2)"
   ]
  },
  {
   "cell_type": "markdown",
   "metadata": {},
   "source": [
    "**Real Time information**"
   ]
  },
  {
   "cell_type": "code",
   "execution_count": 16,
   "metadata": {},
   "outputs": [
    {
     "data": {
      "text/plain": [
       "<Response [200]>"
      ]
     },
     "execution_count": 16,
     "metadata": {},
     "output_type": "execute_result"
    }
   ],
   "source": [
    "Parking_reel_tine = requests.get(\"https://data.opendatasoft.com/api/explore/v2.1/catalog/datasets/occupation-parkings-temps-reel@eurometrostrasbourg/records?limit=100&timezone=europe%2FParis\") \n",
    "Parking_reel_tine"
   ]
  },
  {
   "cell_type": "code",
   "execution_count": 17,
   "metadata": {},
   "outputs": [
    {
     "data": {
      "text/html": [
       "<div>\n",
       "<style scoped>\n",
       "    .dataframe tbody tr th:only-of-type {\n",
       "        vertical-align: middle;\n",
       "    }\n",
       "\n",
       "    .dataframe tbody tr th {\n",
       "        vertical-align: top;\n",
       "    }\n",
       "\n",
       "    .dataframe thead th {\n",
       "        text-align: right;\n",
       "    }\n",
       "</style>\n",
       "<table border=\"1\" class=\"dataframe\">\n",
       "  <thead>\n",
       "    <tr style=\"text-align: right;\">\n",
       "      <th></th>\n",
       "      <th>nom_parking</th>\n",
       "      <th>idsurfs</th>\n",
       "      <th>ident</th>\n",
       "      <th>etat</th>\n",
       "      <th>etat_descriptif</th>\n",
       "      <th>total</th>\n",
       "      <th>libre</th>\n",
       "      <th>infousager</th>\n",
       "      <th>realtimestatus</th>\n",
       "      <th>infoappli</th>\n",
       "    </tr>\n",
       "  </thead>\n",
       "  <tbody>\n",
       "    <tr>\n",
       "      <th>0</th>\n",
       "      <td>Parking Gare Wodli</td>\n",
       "      <td>1382_DEP_8</td>\n",
       "      <td>10</td>\n",
       "      <td>1</td>\n",
       "      <td>Ouvert</td>\n",
       "      <td>955</td>\n",
       "      <td>171</td>\n",
       "      <td>170</td>\n",
       "      <td>ORANGE</td>\n",
       "      <td>171</td>\n",
       "    </tr>\n",
       "    <tr>\n",
       "      <th>1</th>\n",
       "      <td>Parking Zénith</td>\n",
       "      <td>1400_DEP_26</td>\n",
       "      <td>1</td>\n",
       "      <td>2</td>\n",
       "      <td>Fermé</td>\n",
       "      <td>3175</td>\n",
       "      <td>3148</td>\n",
       "      <td>0</td>\n",
       "      <td>BLACK</td>\n",
       "      <td>Fermé</td>\n",
       "    </tr>\n",
       "    <tr>\n",
       "      <th>2</th>\n",
       "      <td>Parking Centre Opéra Broglie</td>\n",
       "      <td>1378_DEP_4</td>\n",
       "      <td>3</td>\n",
       "      <td>1</td>\n",
       "      <td>Ouvert</td>\n",
       "      <td>447</td>\n",
       "      <td>94</td>\n",
       "      <td>90</td>\n",
       "      <td>GREEN</td>\n",
       "      <td>94</td>\n",
       "    </tr>\n",
       "  </tbody>\n",
       "</table>\n",
       "</div>"
      ],
      "text/plain": [
       "                    nom_parking      idsurfs  ident  etat etat_descriptif  \\\n",
       "0            Parking Gare Wodli   1382_DEP_8     10     1          Ouvert   \n",
       "1                Parking Zénith  1400_DEP_26      1     2           Fermé   \n",
       "2  Parking Centre Opéra Broglie   1378_DEP_4      3     1          Ouvert   \n",
       "\n",
       "   total  libre  infousager realtimestatus infoappli  \n",
       "0    955    171         170         ORANGE       171  \n",
       "1   3175   3148           0          BLACK     Fermé  \n",
       "2    447     94          90          GREEN        94  "
      ]
     },
     "execution_count": 17,
     "metadata": {},
     "output_type": "execute_result"
    }
   ],
   "source": [
    "Dump_RT_parking = json.dumps(Parking_reel_tine.json())\n",
    "Loads_RT_parking = json.loads(Dump_RT_parking)  \n",
    "RT_parking = pd.json_normalize(Loads_RT_parking['results'])\n",
    "RT_parking.head(3)"
   ]
  },
  {
   "cell_type": "code",
   "execution_count": 18,
   "metadata": {},
   "outputs": [
    {
     "data": {
      "application/vnd.plotly.v1+json": {
       "config": {
        "plotlyServerURL": "https://plot.ly"
       },
       "data": [
        {
         "alignmentgroup": "True",
         "hovertemplate": "nom_parking=%{x}<br>libre=%{y}<extra></extra>",
         "legendgroup": "",
         "marker": {
          "color": "#000001",
          "pattern": {
           "shape": ""
          }
         },
         "name": "",
         "offsetgroup": "",
         "orientation": "v",
         "showlegend": false,
         "textposition": "auto",
         "type": "bar",
         "x": [
          "Parking Gare Wodli",
          "Parking Zénith",
          "Parking Centre Opéra Broglie",
          "Parking Baggersee",
          "Parking Bateliers",
          "Parking Austerlitz",
          "Parking Gutenberg",
          "Parking Kleber Homme de fer",
          "Parking Halles P1 Marais vert",
          "Parking P2 Sebastopol",
          "Parking Robertsau Boecklin",
          "Parking Centre historique Petite France",
          "Parking Rives de l'Aar",
          "Parking Saint Nicolas",
          "Parking Ducs d'Alsace",
          "Parking Elsau",
          "Parking Rotonde",
          "Parking Gare courte durée",
          "Parking Sainte Aurélie Gare",
          "Parking P3 Wilson",
          "Parking Hoenheim gare",
          "Parking Poteries",
          "Parking Espace européen de l'entreprise",
          "Parking Rivetoile",
          "P1 Esplanade - Centre commercial",
          "Parking Hôpital Hautepierre",
          "Parking Coubertin",
          "Parking Parc des romains"
         ],
         "xaxis": "x",
         "y": [
          171,
          3148,
          94,
          327,
          36,
          155,
          60,
          174,
          0,
          0,
          51,
          0,
          261,
          298,
          431,
          158,
          79,
          109,
          0,
          0,
          262,
          40,
          91,
          787,
          146,
          467,
          575,
          200
         ],
         "yaxis": "y"
        }
       ],
       "layout": {
        "barmode": "relative",
        "legend": {
         "tracegroupgap": 0
        },
        "margin": {
         "t": 60
        },
        "template": {
         "data": {
          "candlestick": [
           {
            "decreasing": {
             "line": {
              "color": "#000033"
             }
            },
            "increasing": {
             "line": {
              "color": "#000032"
             }
            },
            "type": "candlestick"
           }
          ],
          "contour": [
           {
            "colorscale": [
             [
              0,
              "#000011"
             ],
             [
              0.1111111111111111,
              "#000012"
             ],
             [
              0.2222222222222222,
              "#000013"
             ],
             [
              0.3333333333333333,
              "#000014"
             ],
             [
              0.4444444444444444,
              "#000015"
             ],
             [
              0.5555555555555556,
              "#000016"
             ],
             [
              0.6666666666666666,
              "#000017"
             ],
             [
              0.7777777777777778,
              "#000018"
             ],
             [
              0.8888888888888888,
              "#000019"
             ],
             [
              1,
              "#000020"
             ]
            ],
            "type": "contour"
           }
          ],
          "contourcarpet": [
           {
            "colorscale": [
             [
              0,
              "#000011"
             ],
             [
              0.1111111111111111,
              "#000012"
             ],
             [
              0.2222222222222222,
              "#000013"
             ],
             [
              0.3333333333333333,
              "#000014"
             ],
             [
              0.4444444444444444,
              "#000015"
             ],
             [
              0.5555555555555556,
              "#000016"
             ],
             [
              0.6666666666666666,
              "#000017"
             ],
             [
              0.7777777777777778,
              "#000018"
             ],
             [
              0.8888888888888888,
              "#000019"
             ],
             [
              1,
              "#000020"
             ]
            ],
            "type": "contourcarpet"
           }
          ],
          "heatmap": [
           {
            "colorscale": [
             [
              0,
              "#000011"
             ],
             [
              0.1111111111111111,
              "#000012"
             ],
             [
              0.2222222222222222,
              "#000013"
             ],
             [
              0.3333333333333333,
              "#000014"
             ],
             [
              0.4444444444444444,
              "#000015"
             ],
             [
              0.5555555555555556,
              "#000016"
             ],
             [
              0.6666666666666666,
              "#000017"
             ],
             [
              0.7777777777777778,
              "#000018"
             ],
             [
              0.8888888888888888,
              "#000019"
             ],
             [
              1,
              "#000020"
             ]
            ],
            "type": "heatmap"
           }
          ],
          "histogram2d": [
           {
            "colorscale": [
             [
              0,
              "#000011"
             ],
             [
              0.1111111111111111,
              "#000012"
             ],
             [
              0.2222222222222222,
              "#000013"
             ],
             [
              0.3333333333333333,
              "#000014"
             ],
             [
              0.4444444444444444,
              "#000015"
             ],
             [
              0.5555555555555556,
              "#000016"
             ],
             [
              0.6666666666666666,
              "#000017"
             ],
             [
              0.7777777777777778,
              "#000018"
             ],
             [
              0.8888888888888888,
              "#000019"
             ],
             [
              1,
              "#000020"
             ]
            ],
            "type": "histogram2d"
           }
          ],
          "icicle": [
           {
            "textfont": {
             "color": "white"
            },
            "type": "icicle"
           }
          ],
          "sankey": [
           {
            "textfont": {
             "color": "#000036"
            },
            "type": "sankey"
           }
          ],
          "scatter": [
           {
            "marker": {
             "line": {
              "width": 0
             }
            },
            "type": "scatter"
           }
          ],
          "table": [
           {
            "cells": {
             "fill": {
              "color": "#000038"
             },
             "font": {
              "color": "#000037"
             },
             "line": {
              "color": "#000039"
             }
            },
            "header": {
             "fill": {
              "color": "#000040"
             },
             "font": {
              "color": "#000036"
             },
             "line": {
              "color": "#000039"
             }
            },
            "type": "table"
           }
          ],
          "waterfall": [
           {
            "connector": {
             "line": {
              "color": "#000036",
              "width": 2
             }
            },
            "decreasing": {
             "marker": {
              "color": "#000033"
             }
            },
            "increasing": {
             "marker": {
              "color": "#000032"
             }
            },
            "totals": {
             "marker": {
              "color": "#000034"
             }
            },
            "type": "waterfall"
           }
          ]
         },
         "layout": {
          "coloraxis": {
           "colorscale": [
            [
             0,
             "#000011"
            ],
            [
             0.1111111111111111,
             "#000012"
            ],
            [
             0.2222222222222222,
             "#000013"
            ],
            [
             0.3333333333333333,
             "#000014"
            ],
            [
             0.4444444444444444,
             "#000015"
            ],
            [
             0.5555555555555556,
             "#000016"
            ],
            [
             0.6666666666666666,
             "#000017"
            ],
            [
             0.7777777777777778,
             "#000018"
            ],
            [
             0.8888888888888888,
             "#000019"
            ],
            [
             1,
             "#000020"
            ]
           ]
          },
          "colorscale": {
           "diverging": [
            [
             0,
             "#000021"
            ],
            [
             0.1,
             "#000022"
            ],
            [
             0.2,
             "#000023"
            ],
            [
             0.3,
             "#000024"
            ],
            [
             0.4,
             "#000025"
            ],
            [
             0.5,
             "#000026"
            ],
            [
             0.6,
             "#000027"
            ],
            [
             0.7,
             "#000028"
            ],
            [
             0.8,
             "#000029"
            ],
            [
             0.9,
             "#000030"
            ],
            [
             1,
             "#000031"
            ]
           ],
           "sequential": [
            [
             0,
             "#000011"
            ],
            [
             0.1111111111111111,
             "#000012"
            ],
            [
             0.2222222222222222,
             "#000013"
            ],
            [
             0.3333333333333333,
             "#000014"
            ],
            [
             0.4444444444444444,
             "#000015"
            ],
            [
             0.5555555555555556,
             "#000016"
            ],
            [
             0.6666666666666666,
             "#000017"
            ],
            [
             0.7777777777777778,
             "#000018"
            ],
            [
             0.8888888888888888,
             "#000019"
            ],
            [
             1,
             "#000020"
            ]
           ],
           "sequentialminus": [
            [
             0,
             "#000011"
            ],
            [
             0.1111111111111111,
             "#000012"
            ],
            [
             0.2222222222222222,
             "#000013"
            ],
            [
             0.3333333333333333,
             "#000014"
            ],
            [
             0.4444444444444444,
             "#000015"
            ],
            [
             0.5555555555555556,
             "#000016"
            ],
            [
             0.6666666666666666,
             "#000017"
            ],
            [
             0.7777777777777778,
             "#000018"
            ],
            [
             0.8888888888888888,
             "#000019"
            ],
            [
             1,
             "#000020"
            ]
           ]
          },
          "colorway": [
           "#000001",
           "#000002",
           "#000003",
           "#000004",
           "#000005",
           "#000006",
           "#000007",
           "#000008",
           "#000009",
           "#000010"
          ]
         }
        },
        "xaxis": {
         "anchor": "y",
         "domain": [
          0,
          1
         ],
         "title": {
          "text": "nom_parking"
         }
        },
        "yaxis": {
         "anchor": "x",
         "domain": [
          0,
          1
         ],
         "title": {
          "text": "libre"
         }
        }
       }
      }
     },
     "metadata": {},
     "output_type": "display_data"
    }
   ],
   "source": [
    "fig = px.bar(RT_parking, x='nom_parking', y='libre')\n",
    "fig.show()"
   ]
  },
  {
   "cell_type": "code",
   "execution_count": null,
   "metadata": {},
   "outputs": [],
   "source": []
  }
 ],
 "metadata": {
  "kernelspec": {
   "display_name": "Python 3",
   "language": "python",
   "name": "python3"
  },
  "language_info": {
   "codemirror_mode": {
    "name": "ipython",
    "version": 3
   },
   "file_extension": ".py",
   "mimetype": "text/x-python",
   "name": "python",
   "nbconvert_exporter": "python",
   "pygments_lexer": "ipython3",
   "version": "3.11.2"
  }
 },
 "nbformat": 4,
 "nbformat_minor": 2
}
